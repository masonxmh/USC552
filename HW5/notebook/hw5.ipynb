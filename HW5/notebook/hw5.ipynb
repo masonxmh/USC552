{
 "cells": [
  {
   "cell_type": "markdown",
   "id": "5b352809",
   "metadata": {},
   "source": [
    "<center><h1>DSCI-552 HOMEWORK 5</h1><center>\n",
    "<br>\n",
    "<center><font size=\"4\"></font></center>\n",
    "<center><font size=\"3\"><strong>Mason(Mohan) Xing</font></center>\n",
    "<center><font size=\"3\"><strong>USCID:\t6880083372</font></center>"
   ]
  },
  {
   "cell_type": "code",
   "execution_count": 1,
   "id": "647c0858",
   "metadata": {},
   "outputs": [
    {
     "name": "stdout",
     "output_type": "stream",
     "text": [
      "dsci552\n"
     ]
    }
   ],
   "source": [
    "# import dependencies\n",
    "import warnings\n",
    "warnings.filterwarnings(\"ignore\")\n",
    "\n",
    "import os\n",
    "import urllib\n",
    "import zipfile\n",
    "import pandas as pd\n",
    "import numpy as np\n",
    "from tqdm import tqdm\n",
    "from sklearn.model_selection import train_test_split, StratifiedShuffleSplit, GridSearchCV, StratifiedKFold, KFold\n",
    "from sklearn.preprocessing import StandardScaler, LabelEncoder\n",
    "from sklearn.svm import SVC, LinearSVC\n",
    "from sklearn.utils.fixes import loguniform\n",
    "from sklearn.metrics import accuracy_score, hamming_loss, multilabel_confusion_matrix, silhouette_score\n",
    "from sklearn.pipeline import Pipeline\n",
    "from imblearn.over_sampling import SMOTE\n",
    "from imblearn.pipeline import Pipeline as imbpipeline\n",
    "from sklearn.multioutput import ClassifierChain\n",
    "from sklearn.cluster import KMeans\n",
    "from scipy.cluster.hierarchy import dendrogram, linkage\n",
    "from matplotlib import pyplot as plt\n",
    "\n",
    "# check the environment\n",
    "print (os.environ['CONDA_DEFAULT_ENV'])"
   ]
  },
  {
   "cell_type": "markdown",
   "id": "e1aa1408",
   "metadata": {},
   "source": [
    "# 1. Multi-class and Multi-Label Classification Using Support Vector Machines"
   ]
  },
  {
   "cell_type": "markdown",
   "id": "e4712763",
   "metadata": {},
   "source": [
    "## 1(a) Download the Anuran Calls (MFCCs) Data Set \n",
    "from: https://archive.ics.uci.edu/ml/datasets/Anuran+Calls+%28MFCCs%29. Choose 70% of the data randomly as the training set."
   ]
  },
  {
   "cell_type": "markdown",
   "id": "43771fd5",
   "metadata": {},
   "source": [
    "Note: The dataset has already been downloaded do not need to run the code below"
   ]
  },
  {
   "cell_type": "code",
   "execution_count": 2,
   "id": "a2db0b78",
   "metadata": {},
   "outputs": [],
   "source": [
    "# download original dataset\n",
    "# url = \"https://archive.ics.uci.edu/ml/machine-learning-databases/00406/Anuran%20Calls%20(MFCCs).zip\"\n",
    "# datafile = \"../data/Anuran Calls (MFCCs).zip\"\n",
    "# urllib.request.urlretrieve(url, datafile)\n",
    "\n",
    "# with zipfile.ZipFile(datafile, 'r') as zip_ref:\n",
    "#     zip_ref.extractall(\"../data/Anuran Calls (MFCCs)\")\n",
    "#     zip_ref.close()\n",
    "\n",
    "# os.remove(datafile)"
   ]
  },
  {
   "cell_type": "code",
   "execution_count": 3,
   "id": "1649c625",
   "metadata": {},
   "outputs": [
    {
     "name": "stdout",
     "output_type": "stream",
     "text": [
      "<class 'pandas.core.frame.DataFrame'>\n",
      "RangeIndex: 7195 entries, 0 to 7194\n",
      "Data columns (total 26 columns):\n",
      " #   Column    Non-Null Count  Dtype  \n",
      "---  ------    --------------  -----  \n",
      " 0   MFCCs_ 1  7195 non-null   float64\n",
      " 1   MFCCs_ 2  7195 non-null   float64\n",
      " 2   MFCCs_ 3  7195 non-null   float64\n",
      " 3   MFCCs_ 4  7195 non-null   float64\n",
      " 4   MFCCs_ 5  7195 non-null   float64\n",
      " 5   MFCCs_ 6  7195 non-null   float64\n",
      " 6   MFCCs_ 7  7195 non-null   float64\n",
      " 7   MFCCs_ 8  7195 non-null   float64\n",
      " 8   MFCCs_ 9  7195 non-null   float64\n",
      " 9   MFCCs_10  7195 non-null   float64\n",
      " 10  MFCCs_11  7195 non-null   float64\n",
      " 11  MFCCs_12  7195 non-null   float64\n",
      " 12  MFCCs_13  7195 non-null   float64\n",
      " 13  MFCCs_14  7195 non-null   float64\n",
      " 14  MFCCs_15  7195 non-null   float64\n",
      " 15  MFCCs_16  7195 non-null   float64\n",
      " 16  MFCCs_17  7195 non-null   float64\n",
      " 17  MFCCs_18  7195 non-null   float64\n",
      " 18  MFCCs_19  7195 non-null   float64\n",
      " 19  MFCCs_20  7195 non-null   float64\n",
      " 20  MFCCs_21  7195 non-null   float64\n",
      " 21  MFCCs_22  7195 non-null   float64\n",
      " 22  Family    7195 non-null   object \n",
      " 23  Genus     7195 non-null   object \n",
      " 24  Species   7195 non-null   object \n",
      " 25  RecordID  7195 non-null   int64  \n",
      "dtypes: float64(22), int64(1), object(3)\n",
      "memory usage: 1.4+ MB\n"
     ]
    },
    {
     "data": {
      "text/html": [
       "<div>\n",
       "<style scoped>\n",
       "    .dataframe tbody tr th:only-of-type {\n",
       "        vertical-align: middle;\n",
       "    }\n",
       "\n",
       "    .dataframe tbody tr th {\n",
       "        vertical-align: top;\n",
       "    }\n",
       "\n",
       "    .dataframe thead th {\n",
       "        text-align: right;\n",
       "    }\n",
       "</style>\n",
       "<table border=\"1\" class=\"dataframe\">\n",
       "  <thead>\n",
       "    <tr style=\"text-align: right;\">\n",
       "      <th></th>\n",
       "      <th>MFCCs_ 1</th>\n",
       "      <th>MFCCs_ 2</th>\n",
       "      <th>MFCCs_ 3</th>\n",
       "      <th>MFCCs_ 4</th>\n",
       "      <th>MFCCs_ 5</th>\n",
       "      <th>MFCCs_ 6</th>\n",
       "      <th>MFCCs_ 7</th>\n",
       "      <th>MFCCs_ 8</th>\n",
       "      <th>MFCCs_ 9</th>\n",
       "      <th>MFCCs_10</th>\n",
       "      <th>...</th>\n",
       "      <th>MFCCs_17</th>\n",
       "      <th>MFCCs_18</th>\n",
       "      <th>MFCCs_19</th>\n",
       "      <th>MFCCs_20</th>\n",
       "      <th>MFCCs_21</th>\n",
       "      <th>MFCCs_22</th>\n",
       "      <th>Family</th>\n",
       "      <th>Genus</th>\n",
       "      <th>Species</th>\n",
       "      <th>RecordID</th>\n",
       "    </tr>\n",
       "  </thead>\n",
       "  <tbody>\n",
       "    <tr>\n",
       "      <th>0</th>\n",
       "      <td>1.0</td>\n",
       "      <td>0.152936</td>\n",
       "      <td>-0.105586</td>\n",
       "      <td>0.200722</td>\n",
       "      <td>0.317201</td>\n",
       "      <td>0.260764</td>\n",
       "      <td>0.100945</td>\n",
       "      <td>-0.150063</td>\n",
       "      <td>-0.171128</td>\n",
       "      <td>0.124676</td>\n",
       "      <td>...</td>\n",
       "      <td>-0.108351</td>\n",
       "      <td>-0.077623</td>\n",
       "      <td>-0.009568</td>\n",
       "      <td>0.057684</td>\n",
       "      <td>0.118680</td>\n",
       "      <td>0.014038</td>\n",
       "      <td>Leptodactylidae</td>\n",
       "      <td>Adenomera</td>\n",
       "      <td>AdenomeraAndre</td>\n",
       "      <td>1</td>\n",
       "    </tr>\n",
       "    <tr>\n",
       "      <th>1</th>\n",
       "      <td>1.0</td>\n",
       "      <td>0.171534</td>\n",
       "      <td>-0.098975</td>\n",
       "      <td>0.268425</td>\n",
       "      <td>0.338672</td>\n",
       "      <td>0.268353</td>\n",
       "      <td>0.060835</td>\n",
       "      <td>-0.222475</td>\n",
       "      <td>-0.207693</td>\n",
       "      <td>0.170883</td>\n",
       "      <td>...</td>\n",
       "      <td>-0.090974</td>\n",
       "      <td>-0.056510</td>\n",
       "      <td>-0.035303</td>\n",
       "      <td>0.020140</td>\n",
       "      <td>0.082263</td>\n",
       "      <td>0.029056</td>\n",
       "      <td>Leptodactylidae</td>\n",
       "      <td>Adenomera</td>\n",
       "      <td>AdenomeraAndre</td>\n",
       "      <td>1</td>\n",
       "    </tr>\n",
       "    <tr>\n",
       "      <th>2</th>\n",
       "      <td>1.0</td>\n",
       "      <td>0.152317</td>\n",
       "      <td>-0.082973</td>\n",
       "      <td>0.287128</td>\n",
       "      <td>0.276014</td>\n",
       "      <td>0.189867</td>\n",
       "      <td>0.008714</td>\n",
       "      <td>-0.242234</td>\n",
       "      <td>-0.219153</td>\n",
       "      <td>0.232538</td>\n",
       "      <td>...</td>\n",
       "      <td>-0.050691</td>\n",
       "      <td>-0.023590</td>\n",
       "      <td>-0.066722</td>\n",
       "      <td>-0.025083</td>\n",
       "      <td>0.099108</td>\n",
       "      <td>0.077162</td>\n",
       "      <td>Leptodactylidae</td>\n",
       "      <td>Adenomera</td>\n",
       "      <td>AdenomeraAndre</td>\n",
       "      <td>1</td>\n",
       "    </tr>\n",
       "    <tr>\n",
       "      <th>3</th>\n",
       "      <td>1.0</td>\n",
       "      <td>0.224392</td>\n",
       "      <td>0.118985</td>\n",
       "      <td>0.329432</td>\n",
       "      <td>0.372088</td>\n",
       "      <td>0.361005</td>\n",
       "      <td>0.015501</td>\n",
       "      <td>-0.194347</td>\n",
       "      <td>-0.098181</td>\n",
       "      <td>0.270375</td>\n",
       "      <td>...</td>\n",
       "      <td>-0.136009</td>\n",
       "      <td>-0.177037</td>\n",
       "      <td>-0.130498</td>\n",
       "      <td>-0.054766</td>\n",
       "      <td>-0.018691</td>\n",
       "      <td>0.023954</td>\n",
       "      <td>Leptodactylidae</td>\n",
       "      <td>Adenomera</td>\n",
       "      <td>AdenomeraAndre</td>\n",
       "      <td>1</td>\n",
       "    </tr>\n",
       "    <tr>\n",
       "      <th>4</th>\n",
       "      <td>1.0</td>\n",
       "      <td>0.087817</td>\n",
       "      <td>-0.068345</td>\n",
       "      <td>0.306967</td>\n",
       "      <td>0.330923</td>\n",
       "      <td>0.249144</td>\n",
       "      <td>0.006884</td>\n",
       "      <td>-0.265423</td>\n",
       "      <td>-0.172700</td>\n",
       "      <td>0.266434</td>\n",
       "      <td>...</td>\n",
       "      <td>-0.048885</td>\n",
       "      <td>-0.053074</td>\n",
       "      <td>-0.088550</td>\n",
       "      <td>-0.031346</td>\n",
       "      <td>0.108610</td>\n",
       "      <td>0.079244</td>\n",
       "      <td>Leptodactylidae</td>\n",
       "      <td>Adenomera</td>\n",
       "      <td>AdenomeraAndre</td>\n",
       "      <td>1</td>\n",
       "    </tr>\n",
       "  </tbody>\n",
       "</table>\n",
       "<p>5 rows × 26 columns</p>\n",
       "</div>"
      ],
      "text/plain": [
       "   MFCCs_ 1  MFCCs_ 2  MFCCs_ 3  MFCCs_ 4  MFCCs_ 5  MFCCs_ 6  MFCCs_ 7  \\\n",
       "0       1.0  0.152936 -0.105586  0.200722  0.317201  0.260764  0.100945   \n",
       "1       1.0  0.171534 -0.098975  0.268425  0.338672  0.268353  0.060835   \n",
       "2       1.0  0.152317 -0.082973  0.287128  0.276014  0.189867  0.008714   \n",
       "3       1.0  0.224392  0.118985  0.329432  0.372088  0.361005  0.015501   \n",
       "4       1.0  0.087817 -0.068345  0.306967  0.330923  0.249144  0.006884   \n",
       "\n",
       "   MFCCs_ 8  MFCCs_ 9  MFCCs_10  ...  MFCCs_17  MFCCs_18  MFCCs_19  MFCCs_20  \\\n",
       "0 -0.150063 -0.171128  0.124676  ... -0.108351 -0.077623 -0.009568  0.057684   \n",
       "1 -0.222475 -0.207693  0.170883  ... -0.090974 -0.056510 -0.035303  0.020140   \n",
       "2 -0.242234 -0.219153  0.232538  ... -0.050691 -0.023590 -0.066722 -0.025083   \n",
       "3 -0.194347 -0.098181  0.270375  ... -0.136009 -0.177037 -0.130498 -0.054766   \n",
       "4 -0.265423 -0.172700  0.266434  ... -0.048885 -0.053074 -0.088550 -0.031346   \n",
       "\n",
       "   MFCCs_21  MFCCs_22           Family      Genus         Species  RecordID  \n",
       "0  0.118680  0.014038  Leptodactylidae  Adenomera  AdenomeraAndre         1  \n",
       "1  0.082263  0.029056  Leptodactylidae  Adenomera  AdenomeraAndre         1  \n",
       "2  0.099108  0.077162  Leptodactylidae  Adenomera  AdenomeraAndre         1  \n",
       "3 -0.018691  0.023954  Leptodactylidae  Adenomera  AdenomeraAndre         1  \n",
       "4  0.108610  0.079244  Leptodactylidae  Adenomera  AdenomeraAndre         1  \n",
       "\n",
       "[5 rows x 26 columns]"
      ]
     },
     "execution_count": 3,
     "metadata": {},
     "output_type": "execute_result"
    }
   ],
   "source": [
    "# Convert data into dataframe\n",
    "data_original =  pd.read_csv(\"../data/Anuran Calls (MFCCs)/Frogs_MFCCs.csv\")\n",
    "data_original.info()\n",
    "data_original.head()"
   ]
  },
  {
   "cell_type": "markdown",
   "id": "af477587",
   "metadata": {},
   "source": [
    "* Choose 70% of the data randomly as the training set."
   ]
  },
  {
   "cell_type": "code",
   "execution_count": 4,
   "id": "00a16aa1",
   "metadata": {},
   "outputs": [
    {
     "name": "stdout",
     "output_type": "stream",
     "text": [
      "Training Set Size:  (5036, 26)\n",
      "Test Set Size:  (2159, 26)\n"
     ]
    }
   ],
   "source": [
    "# check the train/test dataframe spec\n",
    "train, test = train_test_split(data_original, test_size=0.3, random_state = 42)\n",
    "print(\"Training Set Size: \", train.shape)\n",
    "print(\"Test Set Size: \", test.shape)"
   ]
  },
  {
   "cell_type": "code",
   "execution_count": 5,
   "id": "9ace38c8",
   "metadata": {},
   "outputs": [
    {
     "name": "stdout",
     "output_type": "stream",
     "text": [
      "Original data 'Family' class:\n",
      "Leptodactylidae    4420\n",
      "Hylidae            2165\n",
      "Dendrobatidae       542\n",
      "Bufonidae            68\n",
      "Name: Family, dtype: int64\n",
      "******************************\n",
      "Train data 'Family' class:\n",
      "Leptodactylidae    3073\n",
      "Hylidae            1542\n",
      "Dendrobatidae       380\n",
      "Bufonidae            41\n",
      "Name: Family, dtype: int64\n"
     ]
    }
   ],
   "source": [
    "# Check if target class missing in training set\n",
    "print(f\"Original data 'Family' class:\\n{data_original.Family.value_counts()}\")\n",
    "print(\"*\"*30)\n",
    "print(f\"Train data 'Family' class:\\n{train.Family.value_counts()}\")"
   ]
  },
  {
   "cell_type": "code",
   "execution_count": 6,
   "id": "5851ae73",
   "metadata": {},
   "outputs": [
    {
     "name": "stdout",
     "output_type": "stream",
     "text": [
      "Original data 'Genus' class:\n",
      "Adenomera        4150\n",
      "Hypsiboas        1593\n",
      "Ameerega          542\n",
      "Dendropsophus     310\n",
      "Leptodactylus     270\n",
      "Scinax            148\n",
      "Osteocephalus     114\n",
      "Rhinella           68\n",
      "Name: Genus, dtype: int64\n",
      "******************************\n",
      "Train data 'Genus' class:\n",
      "Adenomera        2899\n",
      "Hypsiboas        1125\n",
      "Ameerega          380\n",
      "Dendropsophus     226\n",
      "Leptodactylus     174\n",
      "Scinax            111\n",
      "Osteocephalus      80\n",
      "Rhinella           41\n",
      "Name: Genus, dtype: int64\n"
     ]
    }
   ],
   "source": [
    "# Check if target class missing in training set\n",
    "print(f\"Original data 'Genus' class:\\n{data_original.Genus.value_counts()}\")\n",
    "print(\"*\"*30)\n",
    "print(f\"Train data 'Genus' class:\\n{train.Genus.value_counts()}\")"
   ]
  },
  {
   "cell_type": "code",
   "execution_count": 7,
   "id": "5fc9f331",
   "metadata": {},
   "outputs": [
    {
     "name": "stdout",
     "output_type": "stream",
     "text": [
      "Original data 'Species' class:\n",
      "AdenomeraHylaedactylus    3478\n",
      "HypsiboasCordobae         1121\n",
      "AdenomeraAndre             672\n",
      "Ameeregatrivittata         542\n",
      "HypsiboasCinerascens       472\n",
      "HylaMinuta                 310\n",
      "LeptodactylusFuscus        270\n",
      "ScinaxRuber                148\n",
      "OsteocephalusOophagus      114\n",
      "Rhinellagranulosa           68\n",
      "Name: Species, dtype: int64\n",
      "******************************\n",
      "Train data 'Species' class:\n",
      "AdenomeraHylaedactylus    2447\n",
      "HypsiboasCordobae          788\n",
      "AdenomeraAndre             452\n",
      "Ameeregatrivittata         380\n",
      "HypsiboasCinerascens       337\n",
      "HylaMinuta                 226\n",
      "LeptodactylusFuscus        174\n",
      "ScinaxRuber                111\n",
      "OsteocephalusOophagus       80\n",
      "Rhinellagranulosa           41\n",
      "Name: Species, dtype: int64\n"
     ]
    }
   ],
   "source": [
    "# Check if target class missing in training set\n",
    "print(f\"Original data 'Species' class:\\n{data_original.Species.value_counts()}\")\n",
    "print(\"*\"*30)\n",
    "print(f\"Train data 'Species' class:\\n{train.Species.value_counts()}\")"
   ]
  },
  {
   "cell_type": "markdown",
   "id": "18d87285",
   "metadata": {},
   "source": [
    "The above results the training data does not miss any class within each label."
   ]
  },
  {
   "cell_type": "markdown",
   "id": "2eb7b4af",
   "metadata": {},
   "source": [
    "## 1(b) Each instance has three labels: \n",
    "Families, Genus, and Species. Each of the labels has multiple classes. We wish to solve a multi-class and multi-label problem. One of the most important approaches to multi-label classification is to train a classifier for each label (binary relevance). We first try this approach:"
   ]
  },
  {
   "cell_type": "markdown",
   "id": "2204061b",
   "metadata": {},
   "source": [
    "### 1(b) i. Research exact match and hamming score/ loss methods for evaluating multi-label classification and use them in evaluating the classifiers in this problem.\n",
    "ref: https://medium.datadriveninvestor.com/a-survey-of-evaluation-metrics-for-multilabel-classification-bb16e8cd41cd<br>\n",
    "ref: https://www.linkedin.com/pulse/hamming-score-multi-label-classification-chandra-sharat/ <br>\n",
    "ref: https://mmuratarat.github.io/2020-01-25/multilabel_classification_metrics<br>\n",
    "ref: A Literature Survey on Algorithms for Multi-label Learning, by Mohammad Sorower"
   ]
  },
  {
   "cell_type": "markdown",
   "id": "d2ae7b4c",
   "metadata": {},
   "source": [
    "<strong>Exact Match</strong><br>\n",
    "* The Exact Match Ratio evaluation metric extends the concept the accuracy from the single-label classification problem to a multi-label classification problem.\n",
    "* One of the drawbacks of using EMR is that is does not account for partially correct labels.\n",
    "\n",
    "<strong>Hamming loss Methods</strong><br>\n",
    "* Hamming Loss reports how many times on average, the relevance of an example to a class label is incorrectly predicted. Therefore, hamming loss takes into account the prediction error (an incorrect label is predicted) and the missing error (a relevant label not predicted), normalized over total number of classes and total number of examples.\n",
    "\n",
    "<strong>Hamming Score Methods</strong><br>\n",
    "* Calculation is based on correctly predicted label intersection over labels union\n",
    "* If the number of the prediction labels is the same as true labels it can be 1-loss"
   ]
  },
  {
   "cell_type": "code",
   "execution_count": 8,
   "id": "820e0bcb",
   "metadata": {},
   "outputs": [],
   "source": [
    "# define function to calculate exact match ratio\n",
    "def emr(y_true, y_pred): # y_true, y_pred has to be dataframe\n",
    "    '''\n",
    "    y_true, y_pred have to be dataframes \n",
    "    \n",
    "    '''\n",
    "    result = {}\n",
    "    match = 0\n",
    "    for true, pred in zip(y_true.values, y_pred.values):\n",
    "        if np.array_equal(true, pred) == True: #test if it is exact match array\n",
    "            match+=1\n",
    "    \n",
    "    result['match_ratio'] = match / y_true.shape[0]\n",
    "    result['miss_ratio'] =  (y_true.shape[0]-match) / y_true.shape[0]\n",
    "    \n",
    "    return result"
   ]
  },
  {
   "cell_type": "code",
   "execution_count": 9,
   "id": "5ed0804a",
   "metadata": {},
   "outputs": [],
   "source": [
    "# define function to calculate hamming loss and hamming score\n",
    "def hamming(y_true, y_pred): \n",
    "    '''\n",
    "    y_true, y_pred have to be dataframes\n",
    "    \n",
    "    '''\n",
    "    result = {}\n",
    "    miss_match = 0\n",
    "    temp_a = None\n",
    "    temp = 0\n",
    "    for true, pred in zip(y_true.values, y_pred.values): \n",
    "        r = (true == pred) # predicted label in boolean\n",
    "#         t = [True, True, True] # true label in boolean\n",
    "#         temp_a = sum(np.logical_and(t, r)) / sum(np.logical_or(t, r))\n",
    "#         temp += temp_a\n",
    "        # total partial miss match\n",
    "        miss_match += true.shape[0]-np.sum(r)\n",
    "        \n",
    "    loss = miss_match / ( y_true.shape[0]*y_true.shape[1] )\n",
    "    score = 1-loss # based on Piazza TA`s explanation\n",
    "    distance =  miss_match / y_true.shape[0]\n",
    "    \n",
    "    result['hamming_score'] = score\n",
    "    result['hamming_loss'] = loss\n",
    "    result['hamming_distance'] = distance\n",
    "    \n",
    "    return result"
   ]
  },
  {
   "cell_type": "markdown",
   "id": "e94ad189",
   "metadata": {},
   "source": [
    "### 1(b) ii. Train a SVM for each of the labels, using Gaussian kernels and one versus all classifiers. Determine the weight of the SVM penalty and the width of the Gaussian Kernel using 10 fold cross validation.1 You are welcome to try to solve the problem with both standardized and raw attributes and report the results.\n",
    "ref: https://scikit-learn.org/stable/auto_examples/model_selection/plot_grid_search_digits.html"
   ]
  },
  {
   "cell_type": "code",
   "execution_count": 10,
   "id": "a4079fe9",
   "metadata": {},
   "outputs": [],
   "source": [
    "# define X, y split function\n",
    "def xy_split(df):\n",
    "    \n",
    "    X = df.iloc[:,:-4] \n",
    "    y = df.iloc[: , -4:-1]\n",
    "    return X, y"
   ]
  },
  {
   "cell_type": "code",
   "execution_count": 11,
   "id": "ec3e59b7",
   "metadata": {},
   "outputs": [],
   "source": [
    "# define function to prepare training and testing data\n",
    "def data_prepare(tr, ts, std=False):      \n",
    "        \n",
    "    X_tr, y_tr = xy_split(tr)\n",
    "    X_ts, y_ts = xy_split(ts)\n",
    "    \n",
    "    if std == True:\n",
    "        scaler = StandardScaler()\n",
    "        scaler.fit(X_tr)\n",
    "        X_tr_std = pd.DataFrame(scaler.transform(X_tr), columns=X_tr.columns, index=y_tr.index)\n",
    "        X_ts_std = pd.DataFrame(scaler.transform(X_ts), columns=X_ts.columns, index=y_ts.index)\n",
    "        \n",
    "        return X_tr_std, X_ts_std, y_tr, y_ts \n",
    "    \n",
    "    else:\n",
    "\n",
    "        return X_tr, X_ts, y_tr, y_ts"
   ]
  },
  {
   "cell_type": "code",
   "execution_count": 12,
   "id": "d20e8608",
   "metadata": {},
   "outputs": [],
   "source": [
    "# define a function to print out classifer results:\n",
    "def evaluation(y_true, y_pred):\n",
    "    \n",
    "    y_test_em = emr(y_test, y_pred)['match_ratio']\n",
    "    y_test_h_score = hamming(y_test, y_pred)['hamming_score']\n",
    "    y_test_h_loss = hamming(y_test, y_pred)['hamming_loss']\n",
    "    \n",
    "    result_df = pd.DataFrame({\"Exact Match Ratio\": [y_test_em],\n",
    "                              \"Hamming Score\": [y_test_h_score],\n",
    "                              \"Hamming Loss\": [y_test_h_loss]})\n",
    "    \n",
    "    return result_df"
   ]
  },
  {
   "cell_type": "code",
   "execution_count": 13,
   "id": "a3ee52c7",
   "metadata": {},
   "outputs": [],
   "source": [
    "X_train, X_test, y_train, y_test = data_prepare(train, test)\n",
    "\n",
    "# Encoding the variable\n",
    "label_object = {}\n",
    "for col in y_train:\n",
    "    le = LabelEncoder()\n",
    "    le.fit(y_train[col])\n",
    "    y_train[col] = le.transform(y_train[col])\n",
    "    y_test[col] = le.transform(y_test[col])\n",
    "    label_object[col] = le\n",
    "    \n",
    "# label_object['col'].inverse_transform(y_train['col']) # inverse encode label"
   ]
  },
  {
   "cell_type": "markdown",
   "id": "a49952c0",
   "metadata": {},
   "source": [
    "#### - Raw Attributes"
   ]
  },
  {
   "cell_type": "code",
   "execution_count": 14,
   "id": "61432fa6",
   "metadata": {},
   "outputs": [],
   "source": [
    "# define SVM model tuning hyperparameters\n",
    "skf = StratifiedKFold(n_splits=10, shuffle=True, random_state=42)\n",
    "parameters = {'C':np.logspace(-3,6,10), \n",
    "              'gamma': np.linspace(2.1,6,40) #usually linear\n",
    "             }\n",
    "svc = SVC(kernel = 'rbf', decision_function_shape='ovr')\n",
    "clf = GridSearchCV(estimator = svc,\n",
    "                   param_grid = parameters, \n",
    "                   scoring='accuracy', \n",
    "                   cv=skf, \n",
    "                   n_jobs=-1)"
   ]
  },
  {
   "cell_type": "code",
   "execution_count": 15,
   "id": "ce0aaece",
   "metadata": {},
   "outputs": [
    {
     "name": "stderr",
     "output_type": "stream",
     "text": [
      "100%|██████████| 3/3 [06:32<00:00, 130.96s/it]\n"
     ]
    }
   ],
   "source": [
    "# Training Model and Predict labels\n",
    "temp_dict = {}\n",
    "y_test_pred_dict = {}\n",
    "Cs = []\n",
    "gammas = []\n",
    "scores = []\n",
    "for c in tqdm(y_train.columns):\n",
    "    clf.fit(X_train, y_train[c])\n",
    "    y_test_pred_dict[c] = clf.predict(X_test)\n",
    "    \n",
    "    Cs.append(clf.best_estimator_.C)\n",
    "    gammas.append(clf.best_estimator_.gamma)\n",
    "    scores.append(clf.best_score_)\n",
    "# prediction result df\n",
    "y_test_pred_bii = pd.DataFrame.from_dict(y_test_pred_dict)\n",
    "# best hyperparameters df\n",
    "temp_dict[\"C\"] = Cs\n",
    "temp_dict[\"gamma\"] = gammas\n",
    "temp_dict[\"mean_cv_accuracy\"] = scores\n",
    "best_param_bii = pd.DataFrame.from_dict(temp_dict)\n",
    "best_param_bii.index = y_train.columns"
   ]
  },
  {
   "cell_type": "markdown",
   "id": "0f01ba28",
   "metadata": {},
   "source": [
    "* Best Cross Validation Hyperparameters For Each Class"
   ]
  },
  {
   "cell_type": "code",
   "execution_count": 16,
   "id": "4ad596a7",
   "metadata": {},
   "outputs": [
    {
     "data": {
      "text/html": [
       "<div>\n",
       "<style scoped>\n",
       "    .dataframe tbody tr th:only-of-type {\n",
       "        vertical-align: middle;\n",
       "    }\n",
       "\n",
       "    .dataframe tbody tr th {\n",
       "        vertical-align: top;\n",
       "    }\n",
       "\n",
       "    .dataframe thead th {\n",
       "        text-align: right;\n",
       "    }\n",
       "</style>\n",
       "<table border=\"1\" class=\"dataframe\">\n",
       "  <thead>\n",
       "    <tr style=\"text-align: right;\">\n",
       "      <th></th>\n",
       "      <th>C</th>\n",
       "      <th>gamma</th>\n",
       "      <th>mean_cv_accuracy</th>\n",
       "    </tr>\n",
       "  </thead>\n",
       "  <tbody>\n",
       "    <tr>\n",
       "      <th>Family</th>\n",
       "      <td>100.0</td>\n",
       "      <td>2.6</td>\n",
       "      <td>0.993048</td>\n",
       "    </tr>\n",
       "    <tr>\n",
       "      <th>Genus</th>\n",
       "      <td>10.0</td>\n",
       "      <td>2.6</td>\n",
       "      <td>0.991064</td>\n",
       "    </tr>\n",
       "    <tr>\n",
       "      <th>Species</th>\n",
       "      <td>10.0</td>\n",
       "      <td>2.2</td>\n",
       "      <td>0.990867</td>\n",
       "    </tr>\n",
       "  </tbody>\n",
       "</table>\n",
       "</div>"
      ],
      "text/plain": [
       "             C  gamma  mean_cv_accuracy\n",
       "Family   100.0    2.6          0.993048\n",
       "Genus     10.0    2.6          0.991064\n",
       "Species   10.0    2.2          0.990867"
      ]
     },
     "execution_count": 16,
     "metadata": {},
     "output_type": "execute_result"
    }
   ],
   "source": [
    "# display best classifier hyperparameters\n",
    "best_param_bii"
   ]
  },
  {
   "cell_type": "markdown",
   "id": "088f9ea6",
   "metadata": {},
   "source": [
    "* Model Evaluation on Test Data"
   ]
  },
  {
   "cell_type": "code",
   "execution_count": 17,
   "id": "f61a5dcb",
   "metadata": {},
   "outputs": [
    {
     "data": {
      "text/html": [
       "<div>\n",
       "<style scoped>\n",
       "    .dataframe tbody tr th:only-of-type {\n",
       "        vertical-align: middle;\n",
       "    }\n",
       "\n",
       "    .dataframe tbody tr th {\n",
       "        vertical-align: top;\n",
       "    }\n",
       "\n",
       "    .dataframe thead th {\n",
       "        text-align: right;\n",
       "    }\n",
       "</style>\n",
       "<table border=\"1\" class=\"dataframe\">\n",
       "  <thead>\n",
       "    <tr style=\"text-align: right;\">\n",
       "      <th></th>\n",
       "      <th>Exact Match Ratio</th>\n",
       "      <th>Hamming Score</th>\n",
       "      <th>Hamming Loss</th>\n",
       "    </tr>\n",
       "  </thead>\n",
       "  <tbody>\n",
       "    <tr>\n",
       "      <th>SVM</th>\n",
       "      <td>0.987957</td>\n",
       "      <td>0.991817</td>\n",
       "      <td>0.008183</td>\n",
       "    </tr>\n",
       "  </tbody>\n",
       "</table>\n",
       "</div>"
      ],
      "text/plain": [
       "     Exact Match Ratio  Hamming Score  Hamming Loss\n",
       "SVM           0.987957       0.991817      0.008183"
      ]
     },
     "execution_count": 17,
     "metadata": {},
     "output_type": "execute_result"
    }
   ],
   "source": [
    "# display evaluation results\n",
    "df_bii = evaluation(y_test, y_test_pred_bii)\n",
    "df_bii.index = ['SVM']\n",
    "df_bii"
   ]
  },
  {
   "cell_type": "markdown",
   "id": "3992338f",
   "metadata": {},
   "source": [
    "#### - Standardized Attributes"
   ]
  },
  {
   "cell_type": "code",
   "execution_count": 18,
   "id": "9fd2243a",
   "metadata": {},
   "outputs": [],
   "source": [
    "# define SVM model tuning hyperparameters\n",
    "skf = StratifiedKFold(n_splits=10, shuffle=True, random_state=42)\n",
    "steps = []\n",
    "steps = [('scaler', StandardScaler()), ('SVM', SVC(kernel = 'rbf', decision_function_shape='ovr'))]\n",
    "pipeline = Pipeline(steps)\n",
    "parameters_std = {'SVM__C':np.logspace(-1, 1, 3), \n",
    "                  'SVM__gamma': np.linspace(0.1, 2, 20) #I reduce the hyperparameter numbers to increase the speed\n",
    "                 }\n",
    "clf_std = GridSearchCV(pipeline,\n",
    "                       param_grid = parameters_std, \n",
    "                       scoring='accuracy', \n",
    "                       cv=skf, \n",
    "                       n_jobs=-1)"
   ]
  },
  {
   "cell_type": "code",
   "execution_count": 19,
   "id": "bc3ea58d",
   "metadata": {},
   "outputs": [
    {
     "name": "stderr",
     "output_type": "stream",
     "text": [
      "100%|██████████| 3/3 [04:22<00:00, 87.35s/it]\n"
     ]
    }
   ],
   "source": [
    "# Training Model and Predic labels for standardized features\n",
    "temp_dict2 = {}\n",
    "y_test_pred_std_dict = {}\n",
    "Cs_std = []\n",
    "gammas_std = []\n",
    "scores_std = []\n",
    "for c in tqdm(y_train.columns):\n",
    "    \n",
    "    clf_std.fit(X_train, y_train[c])\n",
    "    y_test_pred_std_dict[c] = clf_std.predict(X_test)\n",
    "    \n",
    "    Cs_std.append(clf_std.best_params_['SVM__C'])\n",
    "    gammas_std.append(clf_std.best_params_['SVM__gamma'])\n",
    "    scores_std.append(clf_std.best_score_)\n",
    "# prediction result df    \n",
    "y_test_pred_bii_std = pd.DataFrame.from_dict(y_test_pred_std_dict)\n",
    "# best hyperparameters df\n",
    "temp_dict2[\"C\"] = Cs_std\n",
    "temp_dict2[\"gamma\"] = gammas_std\n",
    "temp_dict2[\"mean_cv_accuracy\"] = scores_std\n",
    "best_param_bii_std = pd.DataFrame.from_dict(temp_dict2)\n",
    "best_param_bii_std.index = y_train.columns"
   ]
  },
  {
   "cell_type": "markdown",
   "id": "4c732b81",
   "metadata": {},
   "source": [
    "* Best Cross Validation Hyperparameters For Each Class"
   ]
  },
  {
   "cell_type": "code",
   "execution_count": 20,
   "id": "93714719",
   "metadata": {},
   "outputs": [
    {
     "data": {
      "text/html": [
       "<div>\n",
       "<style scoped>\n",
       "    .dataframe tbody tr th:only-of-type {\n",
       "        vertical-align: middle;\n",
       "    }\n",
       "\n",
       "    .dataframe tbody tr th {\n",
       "        vertical-align: top;\n",
       "    }\n",
       "\n",
       "    .dataframe thead th {\n",
       "        text-align: right;\n",
       "    }\n",
       "</style>\n",
       "<table border=\"1\" class=\"dataframe\">\n",
       "  <thead>\n",
       "    <tr style=\"text-align: right;\">\n",
       "      <th></th>\n",
       "      <th>C</th>\n",
       "      <th>gamma</th>\n",
       "      <th>mean_cv_accuracy</th>\n",
       "    </tr>\n",
       "  </thead>\n",
       "  <tbody>\n",
       "    <tr>\n",
       "      <th>Family</th>\n",
       "      <td>10.0</td>\n",
       "      <td>0.1</td>\n",
       "      <td>0.989277</td>\n",
       "    </tr>\n",
       "    <tr>\n",
       "      <th>Genus</th>\n",
       "      <td>10.0</td>\n",
       "      <td>0.1</td>\n",
       "      <td>0.986894</td>\n",
       "    </tr>\n",
       "    <tr>\n",
       "      <th>Species</th>\n",
       "      <td>10.0</td>\n",
       "      <td>0.1</td>\n",
       "      <td>0.984710</td>\n",
       "    </tr>\n",
       "  </tbody>\n",
       "</table>\n",
       "</div>"
      ],
      "text/plain": [
       "            C  gamma  mean_cv_accuracy\n",
       "Family   10.0    0.1          0.989277\n",
       "Genus    10.0    0.1          0.986894\n",
       "Species  10.0    0.1          0.984710"
      ]
     },
     "execution_count": 20,
     "metadata": {},
     "output_type": "execute_result"
    }
   ],
   "source": [
    "# display best classifier hyperparameters\n",
    "best_param_bii_std"
   ]
  },
  {
   "cell_type": "markdown",
   "id": "3ba036cd",
   "metadata": {},
   "source": [
    "* Model Evaluation on Test Data"
   ]
  },
  {
   "cell_type": "code",
   "execution_count": 21,
   "id": "0bcc951e",
   "metadata": {},
   "outputs": [
    {
     "data": {
      "text/html": [
       "<div>\n",
       "<style scoped>\n",
       "    .dataframe tbody tr th:only-of-type {\n",
       "        vertical-align: middle;\n",
       "    }\n",
       "\n",
       "    .dataframe tbody tr th {\n",
       "        vertical-align: top;\n",
       "    }\n",
       "\n",
       "    .dataframe thead th {\n",
       "        text-align: right;\n",
       "    }\n",
       "</style>\n",
       "<table border=\"1\" class=\"dataframe\">\n",
       "  <thead>\n",
       "    <tr style=\"text-align: right;\">\n",
       "      <th></th>\n",
       "      <th>Exact Match Ratio</th>\n",
       "      <th>Hamming Score</th>\n",
       "      <th>Hamming Loss</th>\n",
       "    </tr>\n",
       "  </thead>\n",
       "  <tbody>\n",
       "    <tr>\n",
       "      <th>SVM std</th>\n",
       "      <td>0.983789</td>\n",
       "      <td>0.988266</td>\n",
       "      <td>0.011734</td>\n",
       "    </tr>\n",
       "  </tbody>\n",
       "</table>\n",
       "</div>"
      ],
      "text/plain": [
       "         Exact Match Ratio  Hamming Score  Hamming Loss\n",
       "SVM std           0.983789       0.988266      0.011734"
      ]
     },
     "execution_count": 21,
     "metadata": {},
     "output_type": "execute_result"
    }
   ],
   "source": [
    "# display evaluation results\n",
    "df_bii_std = evaluation(y_test, y_test_pred_bii_std)\n",
    "df_bii_std.index = ['SVM std']\n",
    "df_bii_std"
   ]
  },
  {
   "cell_type": "markdown",
   "id": "797ec787",
   "metadata": {},
   "source": [
    "### 1(b) iii. Repeat 1(b)ii with L1-penalized SVMs. Remember to standardize the attributes. Determine the weight of the SVM penalty using 10 fold cross validation."
   ]
  },
  {
   "cell_type": "code",
   "execution_count": 22,
   "id": "72c118b6",
   "metadata": {},
   "outputs": [],
   "source": [
    "# define SVM model tuning hyperparameters\n",
    "skf = StratifiedKFold(n_splits=10, shuffle=True, random_state=42)\n",
    "steps = []\n",
    "steps = [('scaler', StandardScaler()), ('LinearSVC', LinearSVC(penalty = 'l1', multi_class='ovr', dual=False))]\n",
    "pipeline = Pipeline(steps)\n",
    "parameters = {'LinearSVC__C':np.logspace(-3,6,10)}\n",
    "clf_biii = GridSearchCV(pipeline,\n",
    "                        param_grid = parameters, \n",
    "                        scoring='accuracy', \n",
    "                        cv=skf, \n",
    "                        n_jobs=-1)"
   ]
  },
  {
   "cell_type": "code",
   "execution_count": 23,
   "id": "bb0f9322",
   "metadata": {},
   "outputs": [
    {
     "name": "stderr",
     "output_type": "stream",
     "text": [
      "100%|██████████| 3/3 [00:39<00:00, 13.33s/it]\n"
     ]
    }
   ],
   "source": [
    "# Training Model and Predic labels\n",
    "temp_dict3 = {}\n",
    "y_test_pred_biii_dict = {}\n",
    "Cs = []\n",
    "scores = []\n",
    "for c in tqdm(y_train.columns):\n",
    "    \n",
    "    clf_biii.fit(X_train, y_train[c])\n",
    "    y_test_pred_biii_dict[c] = clf_biii.predict(X_test)\n",
    "    \n",
    "    Cs.append(clf_biii.best_params_['LinearSVC__C'])\n",
    "    scores.append(clf_biii.best_score_)\n",
    "# prediction result df   \n",
    "y_test_pred_biii = pd.DataFrame.from_dict(y_test_pred_biii_dict)\n",
    "# best hyperparameters df\n",
    "temp_dict3[\"C\"] = Cs\n",
    "temp_dict3[\"mean_cv_accuracy\"] = scores\n",
    "best_param_biii = pd.DataFrame.from_dict(temp_dict3)\n",
    "best_param_biii.index = y_train.columns"
   ]
  },
  {
   "cell_type": "markdown",
   "id": "37725338",
   "metadata": {},
   "source": [
    "* Best Cross Validation Hyperparameters For Each Class"
   ]
  },
  {
   "cell_type": "code",
   "execution_count": 24,
   "id": "9b5e355c",
   "metadata": {},
   "outputs": [
    {
     "data": {
      "text/html": [
       "<div>\n",
       "<style scoped>\n",
       "    .dataframe tbody tr th:only-of-type {\n",
       "        vertical-align: middle;\n",
       "    }\n",
       "\n",
       "    .dataframe tbody tr th {\n",
       "        vertical-align: top;\n",
       "    }\n",
       "\n",
       "    .dataframe thead th {\n",
       "        text-align: right;\n",
       "    }\n",
       "</style>\n",
       "<table border=\"1\" class=\"dataframe\">\n",
       "  <thead>\n",
       "    <tr style=\"text-align: right;\">\n",
       "      <th></th>\n",
       "      <th>C</th>\n",
       "      <th>mean_cv_accuracy</th>\n",
       "    </tr>\n",
       "  </thead>\n",
       "  <tbody>\n",
       "    <tr>\n",
       "      <th>Family</th>\n",
       "      <td>10.0</td>\n",
       "      <td>0.941223</td>\n",
       "    </tr>\n",
       "    <tr>\n",
       "      <th>Genus</th>\n",
       "      <td>1000.0</td>\n",
       "      <td>0.951750</td>\n",
       "    </tr>\n",
       "    <tr>\n",
       "      <th>Species</th>\n",
       "      <td>10.0</td>\n",
       "      <td>0.960682</td>\n",
       "    </tr>\n",
       "  </tbody>\n",
       "</table>\n",
       "</div>"
      ],
      "text/plain": [
       "              C  mean_cv_accuracy\n",
       "Family     10.0          0.941223\n",
       "Genus    1000.0          0.951750\n",
       "Species    10.0          0.960682"
      ]
     },
     "execution_count": 24,
     "metadata": {},
     "output_type": "execute_result"
    }
   ],
   "source": [
    "# display best classifier hyperparameters\n",
    "best_param_biii"
   ]
  },
  {
   "cell_type": "markdown",
   "id": "089e8d7f",
   "metadata": {},
   "source": [
    "* Model Evaluation on Test Data"
   ]
  },
  {
   "cell_type": "code",
   "execution_count": 25,
   "id": "f7b88ca5",
   "metadata": {},
   "outputs": [
    {
     "data": {
      "text/html": [
       "<div>\n",
       "<style scoped>\n",
       "    .dataframe tbody tr th:only-of-type {\n",
       "        vertical-align: middle;\n",
       "    }\n",
       "\n",
       "    .dataframe tbody tr th {\n",
       "        vertical-align: top;\n",
       "    }\n",
       "\n",
       "    .dataframe thead th {\n",
       "        text-align: right;\n",
       "    }\n",
       "</style>\n",
       "<table border=\"1\" class=\"dataframe\">\n",
       "  <thead>\n",
       "    <tr style=\"text-align: right;\">\n",
       "      <th></th>\n",
       "      <th>Exact Match Ratio</th>\n",
       "      <th>Hamming Score</th>\n",
       "      <th>Hamming Loss</th>\n",
       "    </tr>\n",
       "  </thead>\n",
       "  <tbody>\n",
       "    <tr>\n",
       "      <th>LinearSVM std</th>\n",
       "      <td>0.912459</td>\n",
       "      <td>0.943029</td>\n",
       "      <td>0.056971</td>\n",
       "    </tr>\n",
       "  </tbody>\n",
       "</table>\n",
       "</div>"
      ],
      "text/plain": [
       "               Exact Match Ratio  Hamming Score  Hamming Loss\n",
       "LinearSVM std           0.912459       0.943029      0.056971"
      ]
     },
     "execution_count": 25,
     "metadata": {},
     "output_type": "execute_result"
    }
   ],
   "source": [
    "# display evaluation results\n",
    "df_biii = evaluation(y_test, y_test_pred_biii)\n",
    "df_biii.index = ['LinearSVM std']\n",
    "df_biii"
   ]
  },
  {
   "cell_type": "markdown",
   "id": "708e6151",
   "metadata": {},
   "source": [
    "### 1(b) iv. Repeat 1(b)iii by using SMOTE or any other method you know to remedy class imbalance. Report your conclusions about the classifiers you trained.\n",
    "ref https://towardsdatascience.com/the-right-way-of-using-smote-with-cross-validation-92a8d09d00c7"
   ]
  },
  {
   "cell_type": "code",
   "execution_count": 26,
   "id": "2706011d",
   "metadata": {},
   "outputs": [],
   "source": [
    "# construct pipline for tunning hyperparameters\n",
    "pipeline = None\n",
    "pipeline = imbpipeline(steps = [['smote', SMOTE(random_state=42)],\n",
    "                                ['scaler', StandardScaler()],\n",
    "                                ['classifier', LinearSVC(penalty = 'l1', multi_class='ovr', dual=False)]])\n",
    "\n",
    "skf = StratifiedKFold(n_splits=10, shuffle=True, random_state=42)\n",
    "parameters = {'classifier__C':np.logspace(-3,6,10)}\n",
    "clf_biv = GridSearchCV(estimator = pipeline,\n",
    "                           param_grid = parameters,\n",
    "                           scoring = 'accuracy',\n",
    "                           cv = skf,\n",
    "                           n_jobs = -1)"
   ]
  },
  {
   "cell_type": "code",
   "execution_count": 27,
   "id": "b4dc3665",
   "metadata": {},
   "outputs": [
    {
     "name": "stderr",
     "output_type": "stream",
     "text": [
      "100%|██████████| 3/3 [04:58<00:00, 99.59s/it] \n"
     ]
    }
   ],
   "source": [
    "# Training Model and Predic labels\n",
    "temp_dict = {}\n",
    "y_test_pred_biv_dict = {}\n",
    "Cs = []\n",
    "scores = []\n",
    "for c in tqdm(y_train.columns):\n",
    "    \n",
    "    clf_biv.fit(X_train, y_train[c])\n",
    "    y_test_pred_biv_dict[c] = clf_biv.predict(X_test)\n",
    "    \n",
    "    Cs.append(clf_biv.best_params_['classifier__C'])\n",
    "    scores.append(clf_biv.best_score_)\n",
    "# prediction result df     \n",
    "y_test_pred_biv = pd.DataFrame.from_dict(y_test_pred_biv_dict)\n",
    "# best hyperparameters df\n",
    "temp_dict[\"C\"] = Cs\n",
    "temp_dict[\"mean_cv_accuracy\"] = scores\n",
    "best_param_biv = pd.DataFrame.from_dict(temp_dict)\n",
    "best_param_biv.index = y_train.columns"
   ]
  },
  {
   "cell_type": "markdown",
   "id": "df446073",
   "metadata": {},
   "source": [
    "* Best Cross Validation Hyperparameters For Each Class"
   ]
  },
  {
   "cell_type": "code",
   "execution_count": 28,
   "id": "3bd099af",
   "metadata": {},
   "outputs": [
    {
     "data": {
      "text/html": [
       "<div>\n",
       "<style scoped>\n",
       "    .dataframe tbody tr th:only-of-type {\n",
       "        vertical-align: middle;\n",
       "    }\n",
       "\n",
       "    .dataframe tbody tr th {\n",
       "        vertical-align: top;\n",
       "    }\n",
       "\n",
       "    .dataframe thead th {\n",
       "        text-align: right;\n",
       "    }\n",
       "</style>\n",
       "<table border=\"1\" class=\"dataframe\">\n",
       "  <thead>\n",
       "    <tr style=\"text-align: right;\">\n",
       "      <th></th>\n",
       "      <th>C</th>\n",
       "      <th>mean_cv_accuracy</th>\n",
       "    </tr>\n",
       "  </thead>\n",
       "  <tbody>\n",
       "    <tr>\n",
       "      <th>Family</th>\n",
       "      <td>10.0</td>\n",
       "      <td>0.922559</td>\n",
       "    </tr>\n",
       "    <tr>\n",
       "      <th>Genus</th>\n",
       "      <td>1.0</td>\n",
       "      <td>0.914227</td>\n",
       "    </tr>\n",
       "    <tr>\n",
       "      <th>Species</th>\n",
       "      <td>100.0</td>\n",
       "      <td>0.957906</td>\n",
       "    </tr>\n",
       "  </tbody>\n",
       "</table>\n",
       "</div>"
      ],
      "text/plain": [
       "             C  mean_cv_accuracy\n",
       "Family    10.0          0.922559\n",
       "Genus      1.0          0.914227\n",
       "Species  100.0          0.957906"
      ]
     },
     "execution_count": 28,
     "metadata": {},
     "output_type": "execute_result"
    }
   ],
   "source": [
    "best_param_biv"
   ]
  },
  {
   "cell_type": "markdown",
   "id": "d95bb6fa",
   "metadata": {},
   "source": [
    "* Model Evaluation on Test Data"
   ]
  },
  {
   "cell_type": "code",
   "execution_count": 29,
   "id": "ff6c50ae",
   "metadata": {},
   "outputs": [
    {
     "data": {
      "text/html": [
       "<div>\n",
       "<style scoped>\n",
       "    .dataframe tbody tr th:only-of-type {\n",
       "        vertical-align: middle;\n",
       "    }\n",
       "\n",
       "    .dataframe tbody tr th {\n",
       "        vertical-align: top;\n",
       "    }\n",
       "\n",
       "    .dataframe thead th {\n",
       "        text-align: right;\n",
       "    }\n",
       "</style>\n",
       "<table border=\"1\" class=\"dataframe\">\n",
       "  <thead>\n",
       "    <tr style=\"text-align: right;\">\n",
       "      <th></th>\n",
       "      <th>Exact Match Ratio</th>\n",
       "      <th>Hamming Score</th>\n",
       "      <th>Hamming Loss</th>\n",
       "    </tr>\n",
       "  </thead>\n",
       "  <tbody>\n",
       "    <tr>\n",
       "      <th>SMOTE LinearSVM std</th>\n",
       "      <td>0.855952</td>\n",
       "      <td>0.924348</td>\n",
       "      <td>0.075652</td>\n",
       "    </tr>\n",
       "  </tbody>\n",
       "</table>\n",
       "</div>"
      ],
      "text/plain": [
       "                     Exact Match Ratio  Hamming Score  Hamming Loss\n",
       "SMOTE LinearSVM std           0.855952       0.924348      0.075652"
      ]
     },
     "execution_count": 29,
     "metadata": {},
     "output_type": "execute_result"
    }
   ],
   "source": [
    "# display evaluation results\n",
    "df_biv = evaluation(y_test, y_test_pred_biv)\n",
    "df_biv.index = ['SMOTE LinearSVM std']\n",
    "df_biv"
   ]
  },
  {
   "cell_type": "markdown",
   "id": "45f1cd82",
   "metadata": {},
   "source": [
    "* Conclusion"
   ]
  },
  {
   "cell_type": "code",
   "execution_count": 30,
   "id": "1585617f",
   "metadata": {},
   "outputs": [
    {
     "data": {
      "text/html": [
       "<div>\n",
       "<style scoped>\n",
       "    .dataframe tbody tr th:only-of-type {\n",
       "        vertical-align: middle;\n",
       "    }\n",
       "\n",
       "    .dataframe tbody tr th {\n",
       "        vertical-align: top;\n",
       "    }\n",
       "\n",
       "    .dataframe thead th {\n",
       "        text-align: right;\n",
       "    }\n",
       "</style>\n",
       "<table border=\"1\" class=\"dataframe\">\n",
       "  <thead>\n",
       "    <tr style=\"text-align: right;\">\n",
       "      <th></th>\n",
       "      <th>Exact Match Ratio</th>\n",
       "      <th>Hamming Score</th>\n",
       "      <th>Hamming Loss</th>\n",
       "    </tr>\n",
       "  </thead>\n",
       "  <tbody>\n",
       "    <tr>\n",
       "      <th>SVM</th>\n",
       "      <td>0.987957</td>\n",
       "      <td>0.991817</td>\n",
       "      <td>0.008183</td>\n",
       "    </tr>\n",
       "    <tr>\n",
       "      <th>SVM std</th>\n",
       "      <td>0.983789</td>\n",
       "      <td>0.988266</td>\n",
       "      <td>0.011734</td>\n",
       "    </tr>\n",
       "    <tr>\n",
       "      <th>LinearSVM std</th>\n",
       "      <td>0.912459</td>\n",
       "      <td>0.943029</td>\n",
       "      <td>0.056971</td>\n",
       "    </tr>\n",
       "    <tr>\n",
       "      <th>SMOTE LinearSVM std</th>\n",
       "      <td>0.855952</td>\n",
       "      <td>0.924348</td>\n",
       "      <td>0.075652</td>\n",
       "    </tr>\n",
       "  </tbody>\n",
       "</table>\n",
       "</div>"
      ],
      "text/plain": [
       "                     Exact Match Ratio  Hamming Score  Hamming Loss\n",
       "SVM                           0.987957       0.991817      0.008183\n",
       "SVM std                       0.983789       0.988266      0.011734\n",
       "LinearSVM std                 0.912459       0.943029      0.056971\n",
       "SMOTE LinearSVM std           0.855952       0.924348      0.075652"
      ]
     },
     "execution_count": 30,
     "metadata": {},
     "output_type": "execute_result"
    }
   ],
   "source": [
    "dfs = [df_bii, df_bii_std, df_biii, df_biv]\n",
    "df_report = pd.concat(dfs)\n",
    "df_report"
   ]
  },
  {
   "cell_type": "markdown",
   "id": "48dfd2df",
   "metadata": {},
   "source": [
    "* Normalized data by using SVM(Gaussian Kernel) with original normalized data has the highest Exact Match Ratio and Hamming Score\n",
    "* The Standardized data using SVM(Gaussian Kernel) also has a very high exact match ratio and hamming score.\n",
    "* The Standardized data using LinearSVM classifier's perfromance is slightly worse than SVM(Gaussian Kernel)\n",
    "* SMOTE data using LinearSVM has the lowest Exact Match Ratio and Hamming Score, I think this is reasonable, since we create a lot of new training data for this classifier, may create more noise and the bias during training try hard to fit the new training dataset may cause the variance increasing for data prediction."
   ]
  },
  {
   "cell_type": "markdown",
   "id": "7bff3f0b",
   "metadata": {},
   "source": [
    "### 1(b) v. Extra Practice: Study the Classifier Chain method and apply it to the above problem."
   ]
  },
  {
   "cell_type": "code",
   "execution_count": 31,
   "id": "aaec2a27",
   "metadata": {},
   "outputs": [],
   "source": [
    "def chain_svm(base_svm, X_tr, X_ts, y_tr, y_ts, c_array):\n",
    "    \n",
    "    y_pred_dict ={}\n",
    "    y_test_em_list =[]\n",
    "    y_test_h_score_list = []\n",
    "    y_test_h_loss_list = []\n",
    "    temp_dict = {}\n",
    "    \n",
    "    for i in tqdm(range(len(orders))):\n",
    "        chain = ClassifierChain(base_svm, order=c_array[i], cv=10)\n",
    "        y_pred = chain.fit(X_tr, y_tr).predict(X_ts)\n",
    "        y_pred = pd.DataFrame(y_pred, columns=y_tr.columns) \n",
    "\n",
    "        y_test_em_list.append(emr(y_ts, y_pred)['match_ratio'])\n",
    "        y_test_h_score_list.append(hamming(y_ts, y_pred)['hamming_score'])\n",
    "        y_test_h_loss_list.append(hamming(y_ts, y_pred)['hamming_loss'])\n",
    "\n",
    "    temp_dict['exact_match'] = y_test_em_list\n",
    "    temp_dict['hamming_score'] = y_test_h_score_list\n",
    "    temp_dict['hamming_loss'] = y_test_h_loss_list\n",
    "    df_temp = pd.DataFrame.from_dict(temp_dict)\n",
    "        \n",
    "    return df_temp"
   ]
  },
  {
   "cell_type": "markdown",
   "id": "82282056",
   "metadata": {},
   "source": [
    "#### - repeat 1(b)ii  Raw Attributes"
   ]
  },
  {
   "cell_type": "code",
   "execution_count": 32,
   "id": "ac0fe13c",
   "metadata": {},
   "outputs": [
    {
     "name": "stderr",
     "output_type": "stream",
     "text": [
      "100%|██████████| 6/6 [00:16<00:00,  2.80s/it]\n"
     ]
    }
   ],
   "source": [
    "orders = [[0,1,2], [0,2,1], [1,0,2], [1,2,0], [2,0,1], [2,1,0]]\n",
    "base_svm = SVC(kernel = 'rbf', decision_function_shape='ovr')\n",
    "df_bv_ii = chain_svm(base_svm, X_train, X_test, y_train, y_test, orders)"
   ]
  },
  {
   "cell_type": "code",
   "execution_count": 33,
   "id": "763b3e8b",
   "metadata": {},
   "outputs": [
    {
     "name": "stdout",
     "output_type": "stream",
     "text": [
      "Best order is:\n",
      "[2, 1, 0]\n",
      "\n",
      "Best result is:\n",
      "exact_match      0.978231\n",
      "hamming_score    0.979775\n",
      "hamming_loss     0.020225\n",
      "Name: 5, dtype: float64\n"
     ]
    }
   ],
   "source": [
    "best_result_bv_ii = df_bv_ii.iloc[df_bv_ii['exact_match'].idxmax()]\n",
    "best_index = df_bv_ii.index.get_loc(best_result_bv_ii.name)\n",
    "print(f\"Best order is:\\n{orders[best_index]}\\n\")\n",
    "print(f\"Best result is:\\n{best_result_bv_ii}\")"
   ]
  },
  {
   "cell_type": "markdown",
   "id": "0e3165de",
   "metadata": {},
   "source": [
    "#### - repeat 1(b)ii  Standardized Attributes"
   ]
  },
  {
   "cell_type": "code",
   "execution_count": 34,
   "id": "2a7ad435",
   "metadata": {},
   "outputs": [],
   "source": [
    "X_train_std, X_test_std, y_train, y_test = data_prepare(train, test, std=True)\n",
    "# Encoding the variable\n",
    "label_object = {}\n",
    "for col in y_train:\n",
    "    le = LabelEncoder()\n",
    "    le.fit(y_train[col])\n",
    "    y_train[col] = le.fit_transform(y_train[col])\n",
    "    y_test[col] = le.transform(y_test[col])\n",
    "    label_object[col] = le"
   ]
  },
  {
   "cell_type": "code",
   "execution_count": 35,
   "id": "364d41ec",
   "metadata": {},
   "outputs": [
    {
     "name": "stderr",
     "output_type": "stream",
     "text": [
      "100%|██████████| 6/6 [00:19<00:00,  3.26s/it]\n"
     ]
    }
   ],
   "source": [
    "base_svm = SVC(kernel = 'rbf', decision_function_shape='ovr')\n",
    "df_bv_ii_std = chain_svm(base_svm, X_train_std, X_test_std, y_train, y_test, orders)"
   ]
  },
  {
   "cell_type": "code",
   "execution_count": 36,
   "id": "e680773f",
   "metadata": {},
   "outputs": [
    {
     "name": "stdout",
     "output_type": "stream",
     "text": [
      "Best order is:\n",
      "[2, 0, 1]\n",
      "\n",
      "Best result is:\n",
      "exact_match      0.983789\n",
      "hamming_score    0.986413\n",
      "hamming_loss     0.013587\n",
      "Name: 4, dtype: float64\n"
     ]
    }
   ],
   "source": [
    "best_result_bv_ii_std = df_bv_ii_std.iloc[df_bv_ii_std['exact_match'].idxmax()]\n",
    "best_index = df_bv_ii_std.index.get_loc(best_result_bv_ii_std.name)\n",
    "print(f\"Best order is:\\n{orders[best_index]}\\n\")\n",
    "print(f\"Best result is:\\n{best_result_bv_ii_std}\")"
   ]
  },
  {
   "cell_type": "markdown",
   "id": "eb71ce1e",
   "metadata": {},
   "source": [
    "#### - repeat 1(b)iii  "
   ]
  },
  {
   "cell_type": "code",
   "execution_count": 37,
   "id": "e0cb22e6",
   "metadata": {},
   "outputs": [
    {
     "name": "stderr",
     "output_type": "stream",
     "text": [
      "100%|██████████| 6/6 [02:37<00:00, 26.28s/it]\n"
     ]
    }
   ],
   "source": [
    "base_svm = LinearSVC(penalty = 'l1', dual=False)\n",
    "df_bv_iii= chain_svm(base_svm, X_train_std, X_test_std, y_train, y_test, orders)"
   ]
  },
  {
   "cell_type": "code",
   "execution_count": 38,
   "id": "692563fe",
   "metadata": {},
   "outputs": [
    {
     "name": "stdout",
     "output_type": "stream",
     "text": [
      "Best order is:\n",
      "[2, 1, 0]\n",
      "\n",
      "Best result is:\n",
      "exact_match      0.932376\n",
      "hamming_score    0.955226\n",
      "hamming_loss     0.044774\n",
      "Name: 5, dtype: float64\n"
     ]
    }
   ],
   "source": [
    "best_result_bv_iii = df_bv_iii.iloc[df_bv_iii['exact_match'].idxmax()]\n",
    "best_index = df_bv_iii.index.get_loc(best_result_bv_iii.name)\n",
    "print(f\"Best order is:\\n{orders[best_index]}\\n\")\n",
    "print(f\"Best result is:\\n{best_result_bv_iii}\")"
   ]
  },
  {
   "cell_type": "markdown",
   "id": "c4ad0dec",
   "metadata": {},
   "source": [
    "#### - repeat 1(b)iv"
   ]
  },
  {
   "cell_type": "markdown",
   "id": "bcabd0a6",
   "metadata": {},
   "source": [
    "### 1(b)vi. Extra Practice: Research how confusion matrices, precision, recall, ROC, and AUC are defined for multi-label classification and compute them for the classifiers you trained in above."
   ]
  },
  {
   "cell_type": "markdown",
   "id": "ef273e35",
   "metadata": {},
   "source": [
    "# 2. K-Means Clustering on a Multi-Class and Multi-Label Data Set\n",
    "<strong>Monte-Carlo Simulation:</strong> Perform the following procedures 50 times, and report\n",
    "the average and standard deviation of the 50 Hamming Distances that you calculate."
   ]
  },
  {
   "cell_type": "code",
   "execution_count": 39,
   "id": "77cfbd55",
   "metadata": {},
   "outputs": [],
   "source": [
    "# split data into X, y\n",
    "X, y_original = xy_split(data_original)\n",
    "y = y_original.copy()"
   ]
  },
  {
   "cell_type": "code",
   "execution_count": 40,
   "id": "8f128150",
   "metadata": {},
   "outputs": [],
   "source": [
    "# Encoding the variable\n",
    "label_object = {}\n",
    "for col in y:\n",
    "    le = LabelEncoder()\n",
    "    le.fit(y[col])\n",
    "    y[col] = le.fit_transform(y[col])\n",
    "    label_object[col] = le"
   ]
  },
  {
   "cell_type": "markdown",
   "id": "0354f495",
   "metadata": {},
   "source": [
    "## 2(a) Use k-means clustering on the whole Anuran Calls (MFCCs) Data Set \n",
    "(do not split the data into train and test, as we are not performing supervised learning in this exercise). Choose k $\\in$ {1,2,...50} automatically based on one of the methods provided in the slides (CH or Gap Statistics or scree plots or Silhouettes) or anyother method you know. <br>\n",
    "ref: https://scikit-learn.org/stable/auto_examples/cluster/plot_kmeans_silhouette_analysis.html"
   ]
  },
  {
   "cell_type": "code",
   "execution_count": 41,
   "id": "f5be337f",
   "metadata": {},
   "outputs": [],
   "source": [
    "# Define a function to get the optimal K in each MC simulation\n",
    "def get_best_k(X, i):\n",
    "    \n",
    "    silhouette_scores = []\n",
    "    cl_list = []\n",
    "    result = {}\n",
    "    for k in range(1,51):\n",
    "    \n",
    "        kmeans = KMeans(n_clusters=k, random_state=i)\n",
    "        cluster_labels = kmeans.fit_predict(X)\n",
    "        cl_list.append(cluster_labels)\n",
    "        \n",
    "        if k == 1:\n",
    "            silhouette_avg = 0 # since silhouette_score cant have k=1\n",
    "            silhouette_scores.append(silhouette_avg)\n",
    "        else:\n",
    "            silhouette_avg = silhouette_score(X, cluster_labels)\n",
    "            silhouette_scores.append(silhouette_avg)\n",
    "            \n",
    "    index = silhouette_scores.index(max(silhouette_scores))\n",
    "    result['best_k'] = index + 1\n",
    "    result['best_cl'] = cl_list[index]\n",
    "    \n",
    "    return result"
   ]
  },
  {
   "cell_type": "markdown",
   "id": "d5a295b3",
   "metadata": {},
   "source": [
    "* Sample output"
   ]
  },
  {
   "cell_type": "code",
   "execution_count": 42,
   "id": "993c403b",
   "metadata": {},
   "outputs": [
    {
     "name": "stdout",
     "output_type": "stream",
     "text": [
      "Selected Best K is: 4\n"
     ]
    }
   ],
   "source": [
    "m = 0 # random state/MC run\n",
    "sample_result = get_best_k(X, m)\n",
    "print(\"Selected Best K is:\", sample_result['best_k'])"
   ]
  },
  {
   "cell_type": "markdown",
   "id": "97dd8957",
   "metadata": {},
   "source": [
    "## 2(b) In each cluster, determine which family is the majority by reading the true labels. Repeat for genus and species."
   ]
  },
  {
   "cell_type": "code",
   "execution_count": 43,
   "id": "cc3bb70d",
   "metadata": {},
   "outputs": [],
   "source": [
    "# Define a function to find the majority true label in each target\n",
    "def get_majority(y_ori, cl,  i):\n",
    "    '''\n",
    "    y_ori is the original label\n",
    "    cl is cluster labels\n",
    "    i is index: MC run number\n",
    "    '''\n",
    "    y_df = y_ori.copy()\n",
    "    y_df['cluster_label'] = cl\n",
    "    # get the majority true labels for each target column by cluster \n",
    "    df_Family=y_df.groupby('cluster_label')['Family'].agg(pd.Series.mode).to_frame()\n",
    "    df_Genus=y_df.groupby('cluster_label')['Genus'].agg(pd.Series.mode).to_frame()\n",
    "    df_Species=y_df.groupby('cluster_label')['Species'].agg(pd.Series.mode).to_frame()\n",
    "    result_df = pd.concat([df_Family, df_Genus, df_Species], axis=1, ignore_index=True)\n",
    "    result_df.columns = y_ori.columns\n",
    "    # save results in a data frame for (family, genus, species)\n",
    "    index_arrays = [[i,i,i,i], result_df.index]\n",
    "    index_tuples = list(zip(*index_arrays))\n",
    "    index = pd.MultiIndex.from_tuples(index_tuples, names=[\"Run\", \"cluster label\"])\n",
    "    result_df.index = index\n",
    "    \n",
    "    return result_df"
   ]
  },
  {
   "cell_type": "markdown",
   "id": "840e34fc",
   "metadata": {},
   "source": [
    "* Sample output"
   ]
  },
  {
   "cell_type": "code",
   "execution_count": 44,
   "id": "4ab639c1",
   "metadata": {},
   "outputs": [
    {
     "data": {
      "text/html": [
       "<div>\n",
       "<style scoped>\n",
       "    .dataframe tbody tr th:only-of-type {\n",
       "        vertical-align: middle;\n",
       "    }\n",
       "\n",
       "    .dataframe tbody tr th {\n",
       "        vertical-align: top;\n",
       "    }\n",
       "\n",
       "    .dataframe thead th {\n",
       "        text-align: right;\n",
       "    }\n",
       "</style>\n",
       "<table border=\"1\" class=\"dataframe\">\n",
       "  <thead>\n",
       "    <tr style=\"text-align: right;\">\n",
       "      <th></th>\n",
       "      <th></th>\n",
       "      <th>Family</th>\n",
       "      <th>Genus</th>\n",
       "      <th>Species</th>\n",
       "    </tr>\n",
       "    <tr>\n",
       "      <th>Run</th>\n",
       "      <th>cluster label</th>\n",
       "      <th></th>\n",
       "      <th></th>\n",
       "      <th></th>\n",
       "    </tr>\n",
       "  </thead>\n",
       "  <tbody>\n",
       "    <tr>\n",
       "      <th rowspan=\"4\" valign=\"top\">0</th>\n",
       "      <th>0</th>\n",
       "      <td>Leptodactylidae</td>\n",
       "      <td>Adenomera</td>\n",
       "      <td>AdenomeraHylaedactylus</td>\n",
       "    </tr>\n",
       "    <tr>\n",
       "      <th>1</th>\n",
       "      <td>Dendrobatidae</td>\n",
       "      <td>Ameerega</td>\n",
       "      <td>Ameeregatrivittata</td>\n",
       "    </tr>\n",
       "    <tr>\n",
       "      <th>2</th>\n",
       "      <td>Hylidae</td>\n",
       "      <td>Hypsiboas</td>\n",
       "      <td>HypsiboasCinerascens</td>\n",
       "    </tr>\n",
       "    <tr>\n",
       "      <th>3</th>\n",
       "      <td>Hylidae</td>\n",
       "      <td>Hypsiboas</td>\n",
       "      <td>HypsiboasCordobae</td>\n",
       "    </tr>\n",
       "  </tbody>\n",
       "</table>\n",
       "</div>"
      ],
      "text/plain": [
       "                            Family      Genus                 Species\n",
       "Run cluster label                                                    \n",
       "0   0              Leptodactylidae  Adenomera  AdenomeraHylaedactylus\n",
       "    1                Dendrobatidae   Ameerega      Ameeregatrivittata\n",
       "    2                      Hylidae  Hypsiboas    HypsiboasCinerascens\n",
       "    3                      Hylidae  Hypsiboas       HypsiboasCordobae"
      ]
     },
     "execution_count": 44,
     "metadata": {},
     "output_type": "execute_result"
    }
   ],
   "source": [
    "# generate cluster labels\n",
    "df_m = get_majority(y_original, sample_result['best_cl'], m)\n",
    "df_m"
   ]
  },
  {
   "cell_type": "markdown",
   "id": "594c8759",
   "metadata": {},
   "source": [
    "## 2(c) Now for each cluster you have a majority label triplet (family, genus, species). Calculate the average Hamming distance, Hamming score, and Hamming loss between the true labels and the labels assigned by clusters."
   ]
  },
  {
   "cell_type": "markdown",
   "id": "13b7bcd2",
   "metadata": {},
   "source": [
    "* The function below calculate the hamming metric for each cluster (may not apply in this hw)"
   ]
  },
  {
   "cell_type": "code",
   "execution_count": 45,
   "id": "e2875ada",
   "metadata": {},
   "outputs": [],
   "source": [
    "# define a function to evaluate the hamming metrics for each cluster at each MC simulation\n",
    "# def cluster_evaluation(y_tr_cl, y_pred_cl, cluster_labels, i):\n",
    "#     h_cl ={}\n",
    "#     h_dis_cl =[]\n",
    "#     h_score_cl = []\n",
    "#     h_loss_cl = []\n",
    "#     for j in list(set(cluster_labels)):\n",
    "        \n",
    "#         y_tr_temp = y_tr_cl.loc[y_tr_cl.cluster_label==j]\n",
    "#         y_pred_temp = y_pred_cl.loc[y_pred_cl.cluster_label==j]\n",
    "#         # evaluate each cluster by hamming metrics\n",
    "#         h_cl_result = hamming(y_tr_temp[y_original.columns], y_pred_temp[y_original.columns])\n",
    "#         h_dis_cl.append(h_cl_result['hamming_distance'])\n",
    "#         h_score_cl.append(h_cl_result['hamming_score'])\n",
    "#         h_loss_cl.append(h_cl_result['hamming_loss'])\n",
    "        \n",
    "#     h_cl['Ave Hamming Distance'] = h_dis_cl\n",
    "#     h_cl['Ave Hamming Score'] = h_score_cl\n",
    "#     h_cl['Ave Hamming Loss'] = h_loss_cl\n",
    "#     df_h_cl = pd.DataFrame.from_dict(h_cl)\n",
    "#     index_arrays = [[i,i,i,i], df_h_cl.index]\n",
    "#     index_tuples = list(zip(*index_arrays))\n",
    "#     index = pd.MultiIndex.from_tuples(index_tuples, names=[\"Round\", \"cluster label\"])\n",
    "#     df_h_cl.index = index \n",
    "    \n",
    "#     return df_h_cl"
   ]
  },
  {
   "cell_type": "code",
   "execution_count": 46,
   "id": "2f3af85b",
   "metadata": {},
   "outputs": [],
   "source": [
    "# define a function to assign major triplet to cluster label\n",
    "def assign_triple(df_majority, cl, i):\n",
    "    '''\n",
    "    df_majority is the result dataframe from part 2b\n",
    "    cl : cluster labels\n",
    "    i : run number\n",
    "    '''\n",
    "    y_pred_dict = {}\n",
    "    for c in df_majority:\n",
    "        y_pred_dict[c] = [df_majority[c].loc[i][x] for x in cl]\n",
    "    y_pred = pd.DataFrame.from_dict(y_pred_dict)\n",
    "    \n",
    "    return y_pred"
   ]
  },
  {
   "cell_type": "markdown",
   "id": "b4be27a8",
   "metadata": {},
   "source": [
    "* Sample output"
   ]
  },
  {
   "cell_type": "code",
   "execution_count": 47,
   "id": "da2d020e",
   "metadata": {},
   "outputs": [
    {
     "name": "stdout",
     "output_type": "stream",
     "text": [
      "Run 0: Average Hamming Distance:0.6653231410701876, Hamming Score:0.7782256196432707, Hamming Loss: 0.22177438035672922\n"
     ]
    }
   ],
   "source": [
    "sample_prediction = assign_triple(df_m, sample_result['best_cl'], m)\n",
    "h_r = hamming(y_original, sample_prediction)\n",
    "print(f\"Run {m}: Average Hamming Distance:{h_r['hamming_distance']}, Hamming Score:{h_r['hamming_score']}, Hamming Loss: {h_r['hamming_loss']}\")"
   ]
  },
  {
   "cell_type": "markdown",
   "id": "8eeb08ac",
   "metadata": {},
   "source": [
    "## Monte-Carlo Simulation:"
   ]
  },
  {
   "cell_type": "code",
   "execution_count": 48,
   "id": "a5460880",
   "metadata": {},
   "outputs": [
    {
     "name": "stdout",
     "output_type": "stream",
     "text": [
      "Run 0: Best k is: 4\n",
      "Run 0: Average Hamming Distance:0.6653231410701876, Hamming Score:0.7782256196432707, Hamming Loss: 0.22177438035672922\n",
      "Run 1: Best k is: 4\n",
      "Run 1: Average Hamming Distance:0.66726893676164, Hamming Score:0.7775770210794533, Hamming Loss: 0.2224229789205467\n",
      "Run 2: Best k is: 4\n",
      "Run 2: Average Hamming Distance:0.7357887421820709, Hamming Score:0.7547370859393097, Hamming Loss: 0.24526291406069028\n",
      "Run 3: Best k is: 4\n",
      "Run 3: Average Hamming Distance:0.66726893676164, Hamming Score:0.7775770210794533, Hamming Loss: 0.2224229789205467\n",
      "Run 4: Best k is: 4\n",
      "Run 4: Average Hamming Distance:0.66726893676164, Hamming Score:0.7775770210794533, Hamming Loss: 0.2224229789205467\n",
      "Run 5: Best k is: 4\n",
      "Run 5: Average Hamming Distance:0.66726893676164, Hamming Score:0.7775770210794533, Hamming Loss: 0.2224229789205467\n",
      "Run 6: Best k is: 4\n",
      "Run 6: Average Hamming Distance:0.66726893676164, Hamming Score:0.7775770210794533, Hamming Loss: 0.2224229789205467\n",
      "Run 7: Best k is: 4\n",
      "Run 7: Average Hamming Distance:0.66726893676164, Hamming Score:0.7775770210794533, Hamming Loss: 0.2224229789205467\n",
      "Run 8: Best k is: 4\n",
      "Run 8: Average Hamming Distance:0.66726893676164, Hamming Score:0.7775770210794533, Hamming Loss: 0.2224229789205467\n",
      "Run 9: Best k is: 4\n",
      "Run 9: Average Hamming Distance:0.66726893676164, Hamming Score:0.7775770210794533, Hamming Loss: 0.2224229789205467\n",
      "Run 10: Best k is: 4\n",
      "Run 10: Average Hamming Distance:0.66726893676164, Hamming Score:0.7775770210794533, Hamming Loss: 0.2224229789205467\n",
      "Run 11: Best k is: 4\n",
      "Run 11: Average Hamming Distance:0.66726893676164, Hamming Score:0.7775770210794533, Hamming Loss: 0.2224229789205467\n",
      "Run 12: Best k is: 4\n",
      "Run 12: Average Hamming Distance:0.66726893676164, Hamming Score:0.7775770210794533, Hamming Loss: 0.2224229789205467\n",
      "Run 13: Best k is: 4\n",
      "Run 13: Average Hamming Distance:0.6674079221681724, Hamming Score:0.7775306926106093, Hamming Loss: 0.22246930738939077\n",
      "Run 14: Best k is: 4\n",
      "Run 14: Average Hamming Distance:0.66726893676164, Hamming Score:0.7775770210794533, Hamming Loss: 0.2224229789205467\n",
      "Run 15: Best k is: 4\n",
      "Run 15: Average Hamming Distance:0.6674079221681724, Hamming Score:0.7775306926106093, Hamming Loss: 0.22246930738939077\n",
      "Run 16: Best k is: 4\n",
      "Run 16: Average Hamming Distance:0.66726893676164, Hamming Score:0.7775770210794533, Hamming Loss: 0.2224229789205467\n",
      "Run 17: Best k is: 4\n",
      "Run 17: Average Hamming Distance:0.7011813759555247, Hamming Score:0.7662728746814917, Hamming Loss: 0.23372712531850823\n",
      "Run 18: Best k is: 4\n",
      "Run 18: Average Hamming Distance:0.66726893676164, Hamming Score:0.7775770210794533, Hamming Loss: 0.2224229789205467\n",
      "Run 19: Best k is: 4\n",
      "Run 19: Average Hamming Distance:0.6653231410701876, Hamming Score:0.7782256196432707, Hamming Loss: 0.22177438035672922\n",
      "Run 20: Best k is: 4\n",
      "Run 20: Average Hamming Distance:0.7021542738012508, Hamming Score:0.765948575399583, Hamming Loss: 0.23405142460041695\n",
      "Run 21: Best k is: 4\n",
      "Run 21: Average Hamming Distance:0.66726893676164, Hamming Score:0.7775770210794533, Hamming Loss: 0.2224229789205467\n",
      "Run 22: Best k is: 4\n",
      "Run 22: Average Hamming Distance:0.66726893676164, Hamming Score:0.7775770210794533, Hamming Loss: 0.2224229789205467\n",
      "Run 23: Best k is: 4\n",
      "Run 23: Average Hamming Distance:0.6674079221681724, Hamming Score:0.7775306926106093, Hamming Loss: 0.22246930738939077\n",
      "Run 24: Best k is: 4\n",
      "Run 24: Average Hamming Distance:0.66726893676164, Hamming Score:0.7775770210794533, Hamming Loss: 0.2224229789205467\n",
      "Run 25: Best k is: 4\n",
      "Run 25: Average Hamming Distance:0.66726893676164, Hamming Score:0.7775770210794533, Hamming Loss: 0.2224229789205467\n",
      "Run 26: Best k is: 4\n",
      "Run 26: Average Hamming Distance:0.66726893676164, Hamming Score:0.7775770210794533, Hamming Loss: 0.2224229789205467\n",
      "Run 27: Best k is: 4\n",
      "Run 27: Average Hamming Distance:0.6674079221681724, Hamming Score:0.7775306926106093, Hamming Loss: 0.22246930738939077\n",
      "Run 28: Best k is: 4\n",
      "Run 28: Average Hamming Distance:0.66726893676164, Hamming Score:0.7775770210794533, Hamming Loss: 0.2224229789205467\n",
      "Run 29: Best k is: 4\n",
      "Run 29: Average Hamming Distance:0.6664350243224462, Hamming Score:0.7778549918925179, Hamming Loss: 0.22214500810748206\n",
      "Run 30: Best k is: 4\n",
      "Run 30: Average Hamming Distance:0.66726893676164, Hamming Score:0.7775770210794533, Hamming Loss: 0.2224229789205467\n",
      "Run 31: Best k is: 4\n",
      "Run 31: Average Hamming Distance:0.66726893676164, Hamming Score:0.7775770210794533, Hamming Loss: 0.2224229789205467\n",
      "Run 32: Best k is: 4\n",
      "Run 32: Average Hamming Distance:0.66726893676164, Hamming Score:0.7775770210794533, Hamming Loss: 0.2224229789205467\n",
      "Run 33: Best k is: 4\n",
      "Run 33: Average Hamming Distance:0.66726893676164, Hamming Score:0.7775770210794533, Hamming Loss: 0.2224229789205467\n",
      "Run 34: Best k is: 4\n",
      "Run 34: Average Hamming Distance:0.5581653926337734, Hamming Score:0.8139448691220755, Hamming Loss: 0.1860551308779245\n",
      "Run 35: Best k is: 4\n",
      "Run 35: Average Hamming Distance:0.66726893676164, Hamming Score:0.7775770210794533, Hamming Loss: 0.2224229789205467\n",
      "Run 36: Best k is: 4\n",
      "Run 36: Average Hamming Distance:0.66726893676164, Hamming Score:0.7775770210794533, Hamming Loss: 0.2224229789205467\n",
      "Run 37: Best k is: 4\n",
      "Run 37: Average Hamming Distance:0.66726893676164, Hamming Score:0.7775770210794533, Hamming Loss: 0.2224229789205467\n",
      "Run 38: Best k is: 4\n",
      "Run 38: Average Hamming Distance:0.66726893676164, Hamming Score:0.7775770210794533, Hamming Loss: 0.2224229789205467\n",
      "Run 39: Best k is: 4\n",
      "Run 39: Average Hamming Distance:0.66726893676164, Hamming Score:0.7775770210794533, Hamming Loss: 0.2224229789205467\n",
      "Run 40: Best k is: 4\n",
      "Run 40: Average Hamming Distance:0.66726893676164, Hamming Score:0.7775770210794533, Hamming Loss: 0.2224229789205467\n",
      "Run 41: Best k is: 4\n",
      "Run 41: Average Hamming Distance:0.66726893676164, Hamming Score:0.7775770210794533, Hamming Loss: 0.2224229789205467\n",
      "Run 42: Best k is: 4\n",
      "Run 42: Average Hamming Distance:0.66726893676164, Hamming Score:0.7775770210794533, Hamming Loss: 0.2224229789205467\n",
      "Run 43: Best k is: 4\n",
      "Run 43: Average Hamming Distance:0.66726893676164, Hamming Score:0.7775770210794533, Hamming Loss: 0.2224229789205467\n",
      "Run 44: Best k is: 4\n",
      "Run 44: Average Hamming Distance:0.66726893676164, Hamming Score:0.7775770210794533, Hamming Loss: 0.2224229789205467\n",
      "Run 45: Best k is: 4\n",
      "Run 45: Average Hamming Distance:0.6653231410701876, Hamming Score:0.7782256196432707, Hamming Loss: 0.22177438035672922\n",
      "Run 46: Best k is: 4\n",
      "Run 46: Average Hamming Distance:0.66726893676164, Hamming Score:0.7775770210794533, Hamming Loss: 0.2224229789205467\n",
      "Run 47: Best k is: 4\n",
      "Run 47: Average Hamming Distance:0.66726893676164, Hamming Score:0.7775770210794533, Hamming Loss: 0.2224229789205467\n",
      "Run 48: Best k is: 4\n",
      "Run 48: Average Hamming Distance:0.8401667824878388, Hamming Score:0.7199444058373871, Hamming Loss: 0.28005559416261294\n",
      "Run 49: Best k is: 4\n",
      "Run 49: Average Hamming Distance:0.66726893676164, Hamming Score:0.7775770210794533, Hamming Loss: 0.2224229789205467\n"
     ]
    }
   ],
   "source": [
    "# Run Monte Carlo Simulation\n",
    "best_ks = []\n",
    "major_list = []\n",
    "h_distances = []\n",
    "h_scores = []\n",
    "h_losses = []\n",
    "\n",
    "for i in range(0,50):\n",
    "    \n",
    "    # calculate the best k for each simulation\n",
    "    best_result = get_best_k(X, i)\n",
    "    best_ks.append(best_result['best_k'])\n",
    "    # generate cluster labels\n",
    "    cluster_labels = best_result['best_cl']\n",
    "    # get the majority label for each cluster\n",
    "    df_majority = get_majority(y_original, cluster_labels, i)\n",
    "    major_list.append(df_majority)\n",
    "    # assign triplet for each cluster label\n",
    "    y_pred = assign_triple(df_majority, cluster_labels, i)\n",
    "    \n",
    "    # metrics for multilabel classification overall\n",
    "    h_result = hamming(y_original, y_pred)\n",
    "    h_distances.append(h_result['hamming_distance'])\n",
    "    h_scores.append(h_result['hamming_score'])\n",
    "    h_losses.append(h_result['hamming_loss'])\n",
    "    \n",
    "    print(f\"Run {i}: Best k is: {best_result['best_k']}\")\n",
    "    print(f\"Run {i}: Average Hamming Distance:{h_result['hamming_distance']}, Hamming Score:{h_result['hamming_score']}, Hamming Loss: {h_result['hamming_loss']}\")"
   ]
  },
  {
   "cell_type": "markdown",
   "id": "8923c478",
   "metadata": {},
   "source": [
    "### - Best K Values For 50 Monte-Carlo Simulation"
   ]
  },
  {
   "cell_type": "code",
   "execution_count": 49,
   "id": "7714dfee",
   "metadata": {},
   "outputs": [
    {
     "name": "stdout",
     "output_type": "stream",
     "text": [
      "Best K value for all Simulations: {4}\n"
     ]
    }
   ],
   "source": [
    "print(f'Best K value for all Simulations: {set(best_ks)}')"
   ]
  },
  {
   "cell_type": "markdown",
   "id": "445cbc9d",
   "metadata": {},
   "source": [
    "### - The majority in each family, genus, and species"
   ]
  },
  {
   "cell_type": "code",
   "execution_count": 50,
   "id": "f8abf8a7",
   "metadata": {},
   "outputs": [
    {
     "data": {
      "text/html": [
       "<div>\n",
       "<style scoped>\n",
       "    .dataframe tbody tr th:only-of-type {\n",
       "        vertical-align: middle;\n",
       "    }\n",
       "\n",
       "    .dataframe tbody tr th {\n",
       "        vertical-align: top;\n",
       "    }\n",
       "\n",
       "    .dataframe thead th {\n",
       "        text-align: right;\n",
       "    }\n",
       "</style>\n",
       "<table border=\"1\" class=\"dataframe\">\n",
       "  <thead>\n",
       "    <tr style=\"text-align: right;\">\n",
       "      <th></th>\n",
       "      <th></th>\n",
       "      <th>Family</th>\n",
       "      <th>Genus</th>\n",
       "      <th>Species</th>\n",
       "    </tr>\n",
       "    <tr>\n",
       "      <th>Run</th>\n",
       "      <th>cluster label</th>\n",
       "      <th></th>\n",
       "      <th></th>\n",
       "      <th></th>\n",
       "    </tr>\n",
       "  </thead>\n",
       "  <tbody>\n",
       "    <tr>\n",
       "      <th rowspan=\"4\" valign=\"top\">0</th>\n",
       "      <th>0</th>\n",
       "      <td>Leptodactylidae</td>\n",
       "      <td>Adenomera</td>\n",
       "      <td>AdenomeraHylaedactylus</td>\n",
       "    </tr>\n",
       "    <tr>\n",
       "      <th>1</th>\n",
       "      <td>Dendrobatidae</td>\n",
       "      <td>Ameerega</td>\n",
       "      <td>Ameeregatrivittata</td>\n",
       "    </tr>\n",
       "    <tr>\n",
       "      <th>2</th>\n",
       "      <td>Hylidae</td>\n",
       "      <td>Hypsiboas</td>\n",
       "      <td>HypsiboasCinerascens</td>\n",
       "    </tr>\n",
       "    <tr>\n",
       "      <th>3</th>\n",
       "      <td>Hylidae</td>\n",
       "      <td>Hypsiboas</td>\n",
       "      <td>HypsiboasCordobae</td>\n",
       "    </tr>\n",
       "    <tr>\n",
       "      <th>1</th>\n",
       "      <th>0</th>\n",
       "      <td>Hylidae</td>\n",
       "      <td>Hypsiboas</td>\n",
       "      <td>HypsiboasCinerascens</td>\n",
       "    </tr>\n",
       "    <tr>\n",
       "      <th>...</th>\n",
       "      <th>...</th>\n",
       "      <td>...</td>\n",
       "      <td>...</td>\n",
       "      <td>...</td>\n",
       "    </tr>\n",
       "    <tr>\n",
       "      <th>48</th>\n",
       "      <th>3</th>\n",
       "      <td>Hylidae</td>\n",
       "      <td>Hypsiboas</td>\n",
       "      <td>HypsiboasCordobae</td>\n",
       "    </tr>\n",
       "    <tr>\n",
       "      <th rowspan=\"4\" valign=\"top\">49</th>\n",
       "      <th>0</th>\n",
       "      <td>Leptodactylidae</td>\n",
       "      <td>Adenomera</td>\n",
       "      <td>AdenomeraHylaedactylus</td>\n",
       "    </tr>\n",
       "    <tr>\n",
       "      <th>1</th>\n",
       "      <td>Hylidae</td>\n",
       "      <td>Hypsiboas</td>\n",
       "      <td>HypsiboasCinerascens</td>\n",
       "    </tr>\n",
       "    <tr>\n",
       "      <th>2</th>\n",
       "      <td>Dendrobatidae</td>\n",
       "      <td>Ameerega</td>\n",
       "      <td>Ameeregatrivittata</td>\n",
       "    </tr>\n",
       "    <tr>\n",
       "      <th>3</th>\n",
       "      <td>Hylidae</td>\n",
       "      <td>Hypsiboas</td>\n",
       "      <td>HypsiboasCordobae</td>\n",
       "    </tr>\n",
       "  </tbody>\n",
       "</table>\n",
       "<p>200 rows × 3 columns</p>\n",
       "</div>"
      ],
      "text/plain": [
       "                            Family      Genus                 Species\n",
       "Run cluster label                                                    \n",
       "0   0              Leptodactylidae  Adenomera  AdenomeraHylaedactylus\n",
       "    1                Dendrobatidae   Ameerega      Ameeregatrivittata\n",
       "    2                      Hylidae  Hypsiboas    HypsiboasCinerascens\n",
       "    3                      Hylidae  Hypsiboas       HypsiboasCordobae\n",
       "1   0                      Hylidae  Hypsiboas    HypsiboasCinerascens\n",
       "...                            ...        ...                     ...\n",
       "48  3                      Hylidae  Hypsiboas       HypsiboasCordobae\n",
       "49  0              Leptodactylidae  Adenomera  AdenomeraHylaedactylus\n",
       "    1                      Hylidae  Hypsiboas    HypsiboasCinerascens\n",
       "    2                Dendrobatidae   Ameerega      Ameeregatrivittata\n",
       "    3                      Hylidae  Hypsiboas       HypsiboasCordobae\n",
       "\n",
       "[200 rows x 3 columns]"
      ]
     },
     "execution_count": 50,
     "metadata": {},
     "output_type": "execute_result"
    }
   ],
   "source": [
    "df_2b = pd.concat(major_list)\n",
    "# sample result display\n",
    "df_2b"
   ]
  },
  {
   "cell_type": "markdown",
   "id": "1626d764",
   "metadata": {},
   "source": [
    "### - The Average Hamming Distance, Hamming Score, and Hamming Loss for Each Monte-Carlo Simulation"
   ]
  },
  {
   "cell_type": "code",
   "execution_count": 51,
   "id": "212e7468",
   "metadata": {},
   "outputs": [
    {
     "data": {
      "text/html": [
       "<div>\n",
       "<style scoped>\n",
       "    .dataframe tbody tr th:only-of-type {\n",
       "        vertical-align: middle;\n",
       "    }\n",
       "\n",
       "    .dataframe tbody tr th {\n",
       "        vertical-align: top;\n",
       "    }\n",
       "\n",
       "    .dataframe thead th {\n",
       "        text-align: right;\n",
       "    }\n",
       "</style>\n",
       "<table border=\"1\" class=\"dataframe\">\n",
       "  <thead>\n",
       "    <tr style=\"text-align: right;\">\n",
       "      <th></th>\n",
       "      <th>Ave_Hamming_Distance</th>\n",
       "      <th>Hamming_Score</th>\n",
       "      <th>Hamming_loss</th>\n",
       "    </tr>\n",
       "    <tr>\n",
       "      <th>Run</th>\n",
       "      <th></th>\n",
       "      <th></th>\n",
       "      <th></th>\n",
       "    </tr>\n",
       "  </thead>\n",
       "  <tbody>\n",
       "    <tr>\n",
       "      <th>0</th>\n",
       "      <td>0.665323</td>\n",
       "      <td>0.778226</td>\n",
       "      <td>0.221774</td>\n",
       "    </tr>\n",
       "    <tr>\n",
       "      <th>1</th>\n",
       "      <td>0.667269</td>\n",
       "      <td>0.777577</td>\n",
       "      <td>0.222423</td>\n",
       "    </tr>\n",
       "    <tr>\n",
       "      <th>2</th>\n",
       "      <td>0.735789</td>\n",
       "      <td>0.754737</td>\n",
       "      <td>0.245263</td>\n",
       "    </tr>\n",
       "    <tr>\n",
       "      <th>3</th>\n",
       "      <td>0.667269</td>\n",
       "      <td>0.777577</td>\n",
       "      <td>0.222423</td>\n",
       "    </tr>\n",
       "    <tr>\n",
       "      <th>4</th>\n",
       "      <td>0.667269</td>\n",
       "      <td>0.777577</td>\n",
       "      <td>0.222423</td>\n",
       "    </tr>\n",
       "    <tr>\n",
       "      <th>5</th>\n",
       "      <td>0.667269</td>\n",
       "      <td>0.777577</td>\n",
       "      <td>0.222423</td>\n",
       "    </tr>\n",
       "    <tr>\n",
       "      <th>6</th>\n",
       "      <td>0.667269</td>\n",
       "      <td>0.777577</td>\n",
       "      <td>0.222423</td>\n",
       "    </tr>\n",
       "    <tr>\n",
       "      <th>7</th>\n",
       "      <td>0.667269</td>\n",
       "      <td>0.777577</td>\n",
       "      <td>0.222423</td>\n",
       "    </tr>\n",
       "    <tr>\n",
       "      <th>8</th>\n",
       "      <td>0.667269</td>\n",
       "      <td>0.777577</td>\n",
       "      <td>0.222423</td>\n",
       "    </tr>\n",
       "    <tr>\n",
       "      <th>9</th>\n",
       "      <td>0.667269</td>\n",
       "      <td>0.777577</td>\n",
       "      <td>0.222423</td>\n",
       "    </tr>\n",
       "    <tr>\n",
       "      <th>10</th>\n",
       "      <td>0.667269</td>\n",
       "      <td>0.777577</td>\n",
       "      <td>0.222423</td>\n",
       "    </tr>\n",
       "    <tr>\n",
       "      <th>11</th>\n",
       "      <td>0.667269</td>\n",
       "      <td>0.777577</td>\n",
       "      <td>0.222423</td>\n",
       "    </tr>\n",
       "    <tr>\n",
       "      <th>12</th>\n",
       "      <td>0.667269</td>\n",
       "      <td>0.777577</td>\n",
       "      <td>0.222423</td>\n",
       "    </tr>\n",
       "    <tr>\n",
       "      <th>13</th>\n",
       "      <td>0.667408</td>\n",
       "      <td>0.777531</td>\n",
       "      <td>0.222469</td>\n",
       "    </tr>\n",
       "    <tr>\n",
       "      <th>14</th>\n",
       "      <td>0.667269</td>\n",
       "      <td>0.777577</td>\n",
       "      <td>0.222423</td>\n",
       "    </tr>\n",
       "    <tr>\n",
       "      <th>15</th>\n",
       "      <td>0.667408</td>\n",
       "      <td>0.777531</td>\n",
       "      <td>0.222469</td>\n",
       "    </tr>\n",
       "    <tr>\n",
       "      <th>16</th>\n",
       "      <td>0.667269</td>\n",
       "      <td>0.777577</td>\n",
       "      <td>0.222423</td>\n",
       "    </tr>\n",
       "    <tr>\n",
       "      <th>17</th>\n",
       "      <td>0.701181</td>\n",
       "      <td>0.766273</td>\n",
       "      <td>0.233727</td>\n",
       "    </tr>\n",
       "    <tr>\n",
       "      <th>18</th>\n",
       "      <td>0.667269</td>\n",
       "      <td>0.777577</td>\n",
       "      <td>0.222423</td>\n",
       "    </tr>\n",
       "    <tr>\n",
       "      <th>19</th>\n",
       "      <td>0.665323</td>\n",
       "      <td>0.778226</td>\n",
       "      <td>0.221774</td>\n",
       "    </tr>\n",
       "    <tr>\n",
       "      <th>20</th>\n",
       "      <td>0.702154</td>\n",
       "      <td>0.765949</td>\n",
       "      <td>0.234051</td>\n",
       "    </tr>\n",
       "    <tr>\n",
       "      <th>21</th>\n",
       "      <td>0.667269</td>\n",
       "      <td>0.777577</td>\n",
       "      <td>0.222423</td>\n",
       "    </tr>\n",
       "    <tr>\n",
       "      <th>22</th>\n",
       "      <td>0.667269</td>\n",
       "      <td>0.777577</td>\n",
       "      <td>0.222423</td>\n",
       "    </tr>\n",
       "    <tr>\n",
       "      <th>23</th>\n",
       "      <td>0.667408</td>\n",
       "      <td>0.777531</td>\n",
       "      <td>0.222469</td>\n",
       "    </tr>\n",
       "    <tr>\n",
       "      <th>24</th>\n",
       "      <td>0.667269</td>\n",
       "      <td>0.777577</td>\n",
       "      <td>0.222423</td>\n",
       "    </tr>\n",
       "    <tr>\n",
       "      <th>25</th>\n",
       "      <td>0.667269</td>\n",
       "      <td>0.777577</td>\n",
       "      <td>0.222423</td>\n",
       "    </tr>\n",
       "    <tr>\n",
       "      <th>26</th>\n",
       "      <td>0.667269</td>\n",
       "      <td>0.777577</td>\n",
       "      <td>0.222423</td>\n",
       "    </tr>\n",
       "    <tr>\n",
       "      <th>27</th>\n",
       "      <td>0.667408</td>\n",
       "      <td>0.777531</td>\n",
       "      <td>0.222469</td>\n",
       "    </tr>\n",
       "    <tr>\n",
       "      <th>28</th>\n",
       "      <td>0.667269</td>\n",
       "      <td>0.777577</td>\n",
       "      <td>0.222423</td>\n",
       "    </tr>\n",
       "    <tr>\n",
       "      <th>29</th>\n",
       "      <td>0.666435</td>\n",
       "      <td>0.777855</td>\n",
       "      <td>0.222145</td>\n",
       "    </tr>\n",
       "    <tr>\n",
       "      <th>30</th>\n",
       "      <td>0.667269</td>\n",
       "      <td>0.777577</td>\n",
       "      <td>0.222423</td>\n",
       "    </tr>\n",
       "    <tr>\n",
       "      <th>31</th>\n",
       "      <td>0.667269</td>\n",
       "      <td>0.777577</td>\n",
       "      <td>0.222423</td>\n",
       "    </tr>\n",
       "    <tr>\n",
       "      <th>32</th>\n",
       "      <td>0.667269</td>\n",
       "      <td>0.777577</td>\n",
       "      <td>0.222423</td>\n",
       "    </tr>\n",
       "    <tr>\n",
       "      <th>33</th>\n",
       "      <td>0.667269</td>\n",
       "      <td>0.777577</td>\n",
       "      <td>0.222423</td>\n",
       "    </tr>\n",
       "    <tr>\n",
       "      <th>34</th>\n",
       "      <td>0.558165</td>\n",
       "      <td>0.813945</td>\n",
       "      <td>0.186055</td>\n",
       "    </tr>\n",
       "    <tr>\n",
       "      <th>35</th>\n",
       "      <td>0.667269</td>\n",
       "      <td>0.777577</td>\n",
       "      <td>0.222423</td>\n",
       "    </tr>\n",
       "    <tr>\n",
       "      <th>36</th>\n",
       "      <td>0.667269</td>\n",
       "      <td>0.777577</td>\n",
       "      <td>0.222423</td>\n",
       "    </tr>\n",
       "    <tr>\n",
       "      <th>37</th>\n",
       "      <td>0.667269</td>\n",
       "      <td>0.777577</td>\n",
       "      <td>0.222423</td>\n",
       "    </tr>\n",
       "    <tr>\n",
       "      <th>38</th>\n",
       "      <td>0.667269</td>\n",
       "      <td>0.777577</td>\n",
       "      <td>0.222423</td>\n",
       "    </tr>\n",
       "    <tr>\n",
       "      <th>39</th>\n",
       "      <td>0.667269</td>\n",
       "      <td>0.777577</td>\n",
       "      <td>0.222423</td>\n",
       "    </tr>\n",
       "    <tr>\n",
       "      <th>40</th>\n",
       "      <td>0.667269</td>\n",
       "      <td>0.777577</td>\n",
       "      <td>0.222423</td>\n",
       "    </tr>\n",
       "    <tr>\n",
       "      <th>41</th>\n",
       "      <td>0.667269</td>\n",
       "      <td>0.777577</td>\n",
       "      <td>0.222423</td>\n",
       "    </tr>\n",
       "    <tr>\n",
       "      <th>42</th>\n",
       "      <td>0.667269</td>\n",
       "      <td>0.777577</td>\n",
       "      <td>0.222423</td>\n",
       "    </tr>\n",
       "    <tr>\n",
       "      <th>43</th>\n",
       "      <td>0.667269</td>\n",
       "      <td>0.777577</td>\n",
       "      <td>0.222423</td>\n",
       "    </tr>\n",
       "    <tr>\n",
       "      <th>44</th>\n",
       "      <td>0.667269</td>\n",
       "      <td>0.777577</td>\n",
       "      <td>0.222423</td>\n",
       "    </tr>\n",
       "    <tr>\n",
       "      <th>45</th>\n",
       "      <td>0.665323</td>\n",
       "      <td>0.778226</td>\n",
       "      <td>0.221774</td>\n",
       "    </tr>\n",
       "    <tr>\n",
       "      <th>46</th>\n",
       "      <td>0.667269</td>\n",
       "      <td>0.777577</td>\n",
       "      <td>0.222423</td>\n",
       "    </tr>\n",
       "    <tr>\n",
       "      <th>47</th>\n",
       "      <td>0.667269</td>\n",
       "      <td>0.777577</td>\n",
       "      <td>0.222423</td>\n",
       "    </tr>\n",
       "    <tr>\n",
       "      <th>48</th>\n",
       "      <td>0.840167</td>\n",
       "      <td>0.719944</td>\n",
       "      <td>0.280056</td>\n",
       "    </tr>\n",
       "    <tr>\n",
       "      <th>49</th>\n",
       "      <td>0.667269</td>\n",
       "      <td>0.777577</td>\n",
       "      <td>0.222423</td>\n",
       "    </tr>\n",
       "  </tbody>\n",
       "</table>\n",
       "</div>"
      ],
      "text/plain": [
       "     Ave_Hamming_Distance  Hamming_Score  Hamming_loss\n",
       "Run                                                   \n",
       "0                0.665323       0.778226      0.221774\n",
       "1                0.667269       0.777577      0.222423\n",
       "2                0.735789       0.754737      0.245263\n",
       "3                0.667269       0.777577      0.222423\n",
       "4                0.667269       0.777577      0.222423\n",
       "5                0.667269       0.777577      0.222423\n",
       "6                0.667269       0.777577      0.222423\n",
       "7                0.667269       0.777577      0.222423\n",
       "8                0.667269       0.777577      0.222423\n",
       "9                0.667269       0.777577      0.222423\n",
       "10               0.667269       0.777577      0.222423\n",
       "11               0.667269       0.777577      0.222423\n",
       "12               0.667269       0.777577      0.222423\n",
       "13               0.667408       0.777531      0.222469\n",
       "14               0.667269       0.777577      0.222423\n",
       "15               0.667408       0.777531      0.222469\n",
       "16               0.667269       0.777577      0.222423\n",
       "17               0.701181       0.766273      0.233727\n",
       "18               0.667269       0.777577      0.222423\n",
       "19               0.665323       0.778226      0.221774\n",
       "20               0.702154       0.765949      0.234051\n",
       "21               0.667269       0.777577      0.222423\n",
       "22               0.667269       0.777577      0.222423\n",
       "23               0.667408       0.777531      0.222469\n",
       "24               0.667269       0.777577      0.222423\n",
       "25               0.667269       0.777577      0.222423\n",
       "26               0.667269       0.777577      0.222423\n",
       "27               0.667408       0.777531      0.222469\n",
       "28               0.667269       0.777577      0.222423\n",
       "29               0.666435       0.777855      0.222145\n",
       "30               0.667269       0.777577      0.222423\n",
       "31               0.667269       0.777577      0.222423\n",
       "32               0.667269       0.777577      0.222423\n",
       "33               0.667269       0.777577      0.222423\n",
       "34               0.558165       0.813945      0.186055\n",
       "35               0.667269       0.777577      0.222423\n",
       "36               0.667269       0.777577      0.222423\n",
       "37               0.667269       0.777577      0.222423\n",
       "38               0.667269       0.777577      0.222423\n",
       "39               0.667269       0.777577      0.222423\n",
       "40               0.667269       0.777577      0.222423\n",
       "41               0.667269       0.777577      0.222423\n",
       "42               0.667269       0.777577      0.222423\n",
       "43               0.667269       0.777577      0.222423\n",
       "44               0.667269       0.777577      0.222423\n",
       "45               0.665323       0.778226      0.221774\n",
       "46               0.667269       0.777577      0.222423\n",
       "47               0.667269       0.777577      0.222423\n",
       "48               0.840167       0.719944      0.280056\n",
       "49               0.667269       0.777577      0.222423"
      ]
     },
     "execution_count": 51,
     "metadata": {},
     "output_type": "execute_result"
    }
   ],
   "source": [
    "# Summarize Haming Distance, Hamming Score, and Hamming Loss at each round\n",
    "dict_2c = {}\n",
    "dict_2c['Ave_Hamming_Distance'] =  h_distances\n",
    "dict_2c['Hamming_Score'] = h_scores\n",
    "dict_2c['Hamming_loss'] = h_losses\n",
    "df_2c = pd.DataFrame.from_dict(dict_2c)\n",
    "df_2c.index.name = 'Run'\n",
    "df_2c"
   ]
  },
  {
   "cell_type": "markdown",
   "id": "0f44b86e",
   "metadata": {},
   "source": [
    "* Average Hamming Distance, Hamming Score, Hamming Loss for 50 Monte-Carlo Simulation"
   ]
  },
  {
   "cell_type": "code",
   "execution_count": 52,
   "id": "6d2eba70",
   "metadata": {},
   "outputs": [
    {
     "name": "stdout",
     "output_type": "stream",
     "text": [
      "Average Hamming Distance, Hamming Score, Hamming Loss:\n",
      "\n",
      "Ave_Hamming_Distance    0.671169\n",
      "Hamming_Score           0.776277\n",
      "Hamming_loss            0.223723\n",
      "dtype: float64\n"
     ]
    }
   ],
   "source": [
    "print(f'Average Hamming Distance, Hamming Score, Hamming Loss:\\n\\n{df_2c.mean()}')"
   ]
  },
  {
   "cell_type": "markdown",
   "id": "6de6f8d2",
   "metadata": {},
   "source": [
    "* Standared Deviation of Hamming Distance for 50 Monte-Carlo Simulation"
   ]
  },
  {
   "cell_type": "code",
   "execution_count": 53,
   "id": "c42a56a7",
   "metadata": {},
   "outputs": [
    {
     "name": "stdout",
     "output_type": "stream",
     "text": [
      "Standared Deviation of Hamming Distance:\n",
      "\n",
      "0.03133457064166664\n"
     ]
    }
   ],
   "source": [
    "print(f'Standared Deviation of Average Hamming Distance:\\n\\n{df_2c.Ave_Hamming_Distance.std()}')"
   ]
  },
  {
   "cell_type": "markdown",
   "id": "f07834fd",
   "metadata": {},
   "source": [
    "# 3. ISLR 12.6.2\n",
    "ref: https://docs.scipy.org/doc/scipy/reference/generated/scipy.cluster.hierarchy.linkage.html<br>\n",
    "ref: https://stackoverflow.com/questions/36520043/triangle-vs-square-distance-matrix-for-hierarchical-clustering-python"
   ]
  },
  {
   "cell_type": "markdown",
   "id": "53515c36",
   "metadata": {},
   "source": [
    "#### (a) On the basis of this dissimilarity matrix, sketch the dendrogram that results from hierarchically clustering these four observations using complete linkage. Be sure to indicate on the plot the height at which each fusion occurs, as well as the observations corresponding to each leaf in the dendrogram."
   ]
  },
  {
   "cell_type": "code",
   "execution_count": 54,
   "id": "9e56ae1f",
   "metadata": {},
   "outputs": [
    {
     "data": {
      "image/png": "[encoded data removed]",
      "text/plain": [
       "<Figure size 432x432 with 1 Axes>"
      ]
     },
     "metadata": {
      "needs_background": "light"
     },
     "output_type": "display_data"
    }
   ],
   "source": [
    "X = np.array([[0, 0.3, 0.4, 0.7],\n",
    "              [0.3, 0, 0.5, 0.8],\n",
    "              [0.4, 0.5, 0, 0.45],\n",
    "              [0.7, 0.8, 0.45, 0]])\n",
    "\n",
    "dis_X = X[np.triu_indices(X.shape[0],1)]\n",
    "Z = linkage(dis_X, 'complete')\n",
    "fig = plt.figure(figsize=(6, 6))\n",
    "dn = dendrogram(Z)\n",
    "\n",
    "plt.title('Hierarchical Clustering Dendrogram')\n",
    "plt.xlabel('Observations')\n",
    "plt.ylabel('Distance')\n",
    "plt.grid()\n",
    "plt.show()"
   ]
  },
  {
   "cell_type": "markdown",
   "id": "df09246d",
   "metadata": {},
   "source": [
    "#### (b) Repeat (a), this time using single linkage clustering."
   ]
  },
  {
   "cell_type": "code",
   "execution_count": 55,
   "id": "df8095de",
   "metadata": {},
   "outputs": [
    {
     "data": {
      "image/png": "[encoded data removed]",
      "text/plain": [
       "<Figure size 432x432 with 1 Axes>"
      ]
     },
     "metadata": {
      "needs_background": "light"
     },
     "output_type": "display_data"
    }
   ],
   "source": [
    "Z = linkage(dis_X, 'single')\n",
    "fig = plt.figure(figsize=(6, 6))\n",
    "dn = dendrogram(Z)\n",
    "\n",
    "plt.title('Hierarchical Clustering Dendrogram')\n",
    "plt.xlabel('Observations')\n",
    "plt.ylabel('Distance')\n",
    "plt.grid()\n",
    "plt.show()"
   ]
  },
  {
   "cell_type": "markdown",
   "id": "5f53ed87",
   "metadata": {},
   "source": [
    "#### (c) Suppose that we cut the dendrogram obtained in (a) such that two clusters result. Which observations are in each cluster?"
   ]
  },
  {
   "cell_type": "markdown",
   "id": "254525d8",
   "metadata": {},
   "source": [
    "<strong>Answer</strong>\n",
    "One cluster will be (0,1), another cluster will be (2,3)"
   ]
  },
  {
   "cell_type": "markdown",
   "id": "ef4ba92d",
   "metadata": {},
   "source": [
    "#### (d) Suppose that we cut the dendrogram obtained in (b) such that two clusters result. Which observations are in each cluster?"
   ]
  },
  {
   "cell_type": "markdown",
   "id": "dd46a30a",
   "metadata": {},
   "source": [
    "<strong>Answer</strong>\n",
    "One cluster will be (3) , another cluster will be (2,0,1)"
   ]
  },
  {
   "cell_type": "markdown",
   "id": "bfba84e4",
   "metadata": {},
   "source": [
    "#### (e) It is mentioned in the chapter that at each fusion in the dendrogram, the position of the two clusters being fused can be swapped without changing the meaning of the dendrogram. Draw a dendrogram that is equivalent to the dendrogram in (a), for which two or more of the leaves are repositioned, but for which the meaning of the dendrogram is the same."
   ]
  },
  {
   "cell_type": "code",
   "execution_count": 56,
   "id": "ed97f95e",
   "metadata": {},
   "outputs": [
    {
     "data": {
      "image/png": "[encoded data removed]",
      "text/plain": [
       "<Figure size 432x432 with 1 Axes>"
      ]
     },
     "metadata": {
      "needs_background": "light"
     },
     "output_type": "display_data"
    }
   ],
   "source": [
    "X = np.array([[0, 0.3, 0.4, 0.7],\n",
    "              [0.3, 0, 0.5, 0.8],\n",
    "              [0.4, 0.5, 0, 0.45],\n",
    "              [0.7, 0.8, 0.45, 0]])\n",
    "\n",
    "dis_X = X[np.triu_indices(X.shape[0],1)]\n",
    "Z = linkage(dis_X, 'complete')\n",
    "fig = plt.figure(figsize=(6, 6))\n",
    "dn = dendrogram(Z,labels=[2,3,0,1])\n",
    "plt.title('Hierarchical Clustering Dendrogram')\n",
    "plt.xlabel('Observations')\n",
    "plt.ylabel('Distance')\n",
    "plt.grid()\n",
    "plt.show()"
   ]
  },
  {
   "cell_type": "code",
   "execution_count": null,
   "id": "0f010efb",
   "metadata": {},
   "outputs": [],
   "source": []
  }
 ],
 "metadata": {
  "kernelspec": {
   "display_name": "Python 3 (ipykernel)",
   "language": "python",
   "name": "python3"
  },
  "language_info": {
   "codemirror_mode": {
    "name": "ipython",
    "version": 3
   },
   "file_extension": ".py",
   "mimetype": "text/x-python",
   "name": "python",
   "nbconvert_exporter": "python",
   "pygments_lexer": "ipython3",
   "version": "3.9.18"
  }
 },
 "nbformat": 4,
 "nbformat_minor": 5
}
