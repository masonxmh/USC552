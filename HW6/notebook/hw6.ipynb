{
 "cells": [
  {
   "cell_type": "markdown",
   "id": "9f1e49ea",
   "metadata": {},
   "source": [
    "<center><h1>DSCI-552 HOMEWORK 6</h1><center>\n",
    "<br>\n",
    "<center><font size=\"4\"></font></center>\n",
    "<center><font size=\"3\"><strong>Mason(Mohan) Xing</font></center>\n",
    "<center><font size=\"3\"><strong>USCID:\t6880083372</font></center>"
   ]
  },
  {
   "cell_type": "code",
   "execution_count": 1,
   "id": "9b817526",
   "metadata": {},
   "outputs": [
    {
     "name": "stdout",
     "output_type": "stream",
     "text": [
      "dsci552\n"
     ]
    }
   ],
   "source": [
    "# import dependencies\n",
    "import warnings\n",
    "warnings.filterwarnings(\"ignore\")\n",
    "\n",
    "import os\n",
    "import urllib\n",
    "import pandas as pd\n",
    "import numpy as np\n",
    "from scipy import stats\n",
    "from tqdm import tqdm\n",
    "import matplotlib.pyplot as plt\n",
    "from sklearn.model_selection import train_test_split, GridSearchCV, StratifiedKFold\n",
    "from sklearn.preprocessing import MinMaxScaler, StandardScaler, LabelEncoder\n",
    "from sklearn.metrics import accuracy_score, precision_recall_fscore_support \n",
    "from sklearn.metrics import confusion_matrix, roc_curve, auc, ConfusionMatrixDisplay, pairwise_distances\n",
    "from sklearn.pipeline import Pipeline\n",
    "from sklearn.svm import LinearSVC\n",
    "from sklearn.cluster import KMeans, SpectralClustering\n",
    "from sklearn.neighbors import KNeighborsClassifier\n",
    "from scipy.special import softmax\n",
    "from sklearn.linear_model import SGDClassifier\n",
    "\n",
    "# check the environment\n",
    "print (os.environ['CONDA_DEFAULT_ENV'])"
   ]
  },
  {
   "cell_type": "markdown",
   "id": "86be1260",
   "metadata": {},
   "source": [
    "# 1. Supervised, Semi-Supervised, and Unsupervised Learning\n",
    "\n",
    "## 1(a) Download the Breast Cancer Wisconsin (Diagnostic) Data Set from:\n",
    "https://archive.ics.uci.edu/ml/datasets/Breast+Cancer+Wisconsin+%28Diagnostic%29.\n",
    "## Download the data in \n",
    "https://archive.ics.uci.edu/ml/machine-learning-databases/breast-cancer-wisconsin/wdbc.data, which has IDs, classes (Benign=B, Malignant=M), and 30 attributes. This data has two output classes."
   ]
  },
  {
   "cell_type": "code",
   "execution_count": 2,
   "id": "a572a31b",
   "metadata": {},
   "outputs": [],
   "source": [
    "name_file = \"../data/wdbc.names\"\n",
    "data_file = \"../data/wdbc.data\""
   ]
  },
  {
   "cell_type": "markdown",
   "id": "f7936a15",
   "metadata": {},
   "source": [
    "Note: The dataset has already been downloaded do not need to run the code below"
   ]
  },
  {
   "cell_type": "code",
   "execution_count": 3,
   "id": "9ecce245",
   "metadata": {},
   "outputs": [],
   "source": [
    "# # download original dataset\n",
    "# name_url = \"https://archive.ics.uci.edu/ml/machine-learning-databases/breast-cancer-wisconsin/wdbc.names\"\n",
    "# data_url = \"https://archive.ics.uci.edu/ml/machine-learning-databases/breast-cancer-wisconsin/wdbc.data\"\n",
    "# urllib.request.urlretrieve(name_url, name_file)\n",
    "# urllib.request.urlretrieve(data_url, data_file)"
   ]
  },
  {
   "cell_type": "markdown",
   "id": "1d3ff9ef",
   "metadata": {},
   "source": [
    "## 1(b) Monte-Carlo Simulation: \n",
    "Repeat the following procedures for supervised, unsupervised, and semi-supervised learning M = 30 times, and use randomly selected train and test data (make sure you use 20% of both the positve and negative classes as the test set). Then compare the average scores (accuracy, precision, recall, F1-score, and AUC) that you obtain from each algorithm."
   ]
  },
  {
   "cell_type": "code",
   "execution_count": 4,
   "id": "cfe2d2b3",
   "metadata": {},
   "outputs": [
    {
     "name": "stdout",
     "output_type": "stream",
     "text": [
      "<class 'pandas.core.frame.DataFrame'>\n",
      "RangeIndex: 569 entries, 0 to 568\n",
      "Data columns (total 32 columns):\n",
      " #   Column  Non-Null Count  Dtype  \n",
      "---  ------  --------------  -----  \n",
      " 0   code    569 non-null    int64  \n",
      " 1   Class   569 non-null    object \n",
      " 2   f1      569 non-null    float64\n",
      " 3   f2      569 non-null    float64\n",
      " 4   f3      569 non-null    float64\n",
      " 5   f4      569 non-null    float64\n",
      " 6   f5      569 non-null    float64\n",
      " 7   f6      569 non-null    float64\n",
      " 8   f7      569 non-null    float64\n",
      " 9   f8      569 non-null    float64\n",
      " 10  f9      569 non-null    float64\n",
      " 11  f10     569 non-null    float64\n",
      " 12  f11     569 non-null    float64\n",
      " 13  f12     569 non-null    float64\n",
      " 14  f13     569 non-null    float64\n",
      " 15  f14     569 non-null    float64\n",
      " 16  f15     569 non-null    float64\n",
      " 17  f16     569 non-null    float64\n",
      " 18  f17     569 non-null    float64\n",
      " 19  f18     569 non-null    float64\n",
      " 20  f19     569 non-null    float64\n",
      " 21  f20     569 non-null    float64\n",
      " 22  f21     569 non-null    float64\n",
      " 23  f22     569 non-null    float64\n",
      " 24  f23     569 non-null    float64\n",
      " 25  f24     569 non-null    float64\n",
      " 26  f25     569 non-null    float64\n",
      " 27  f26     569 non-null    float64\n",
      " 28  f27     569 non-null    float64\n",
      " 29  f28     569 non-null    float64\n",
      " 30  f29     569 non-null    float64\n",
      " 31  f30     569 non-null    float64\n",
      "dtypes: float64(30), int64(1), object(1)\n",
      "memory usage: 142.4+ KB\n"
     ]
    },
    {
     "data": {
      "text/html": [
       "<div>\n",
       "<style scoped>\n",
       "    .dataframe tbody tr th:only-of-type {\n",
       "        vertical-align: middle;\n",
       "    }\n",
       "\n",
       "    .dataframe tbody tr th {\n",
       "        vertical-align: top;\n",
       "    }\n",
       "\n",
       "    .dataframe thead th {\n",
       "        text-align: right;\n",
       "    }\n",
       "</style>\n",
       "<table border=\"1\" class=\"dataframe\">\n",
       "  <thead>\n",
       "    <tr style=\"text-align: right;\">\n",
       "      <th></th>\n",
       "      <th>code</th>\n",
       "      <th>Class</th>\n",
       "      <th>f1</th>\n",
       "      <th>f2</th>\n",
       "      <th>f3</th>\n",
       "      <th>f4</th>\n",
       "      <th>f5</th>\n",
       "      <th>f6</th>\n",
       "      <th>f7</th>\n",
       "      <th>f8</th>\n",
       "      <th>...</th>\n",
       "      <th>f21</th>\n",
       "      <th>f22</th>\n",
       "      <th>f23</th>\n",
       "      <th>f24</th>\n",
       "      <th>f25</th>\n",
       "      <th>f26</th>\n",
       "      <th>f27</th>\n",
       "      <th>f28</th>\n",
       "      <th>f29</th>\n",
       "      <th>f30</th>\n",
       "    </tr>\n",
       "  </thead>\n",
       "  <tbody>\n",
       "    <tr>\n",
       "      <th>0</th>\n",
       "      <td>842302</td>\n",
       "      <td>M</td>\n",
       "      <td>17.99</td>\n",
       "      <td>10.38</td>\n",
       "      <td>122.80</td>\n",
       "      <td>1001.0</td>\n",
       "      <td>0.11840</td>\n",
       "      <td>0.27760</td>\n",
       "      <td>0.3001</td>\n",
       "      <td>0.14710</td>\n",
       "      <td>...</td>\n",
       "      <td>25.38</td>\n",
       "      <td>17.33</td>\n",
       "      <td>184.60</td>\n",
       "      <td>2019.0</td>\n",
       "      <td>0.1622</td>\n",
       "      <td>0.6656</td>\n",
       "      <td>0.7119</td>\n",
       "      <td>0.2654</td>\n",
       "      <td>0.4601</td>\n",
       "      <td>0.11890</td>\n",
       "    </tr>\n",
       "    <tr>\n",
       "      <th>1</th>\n",
       "      <td>842517</td>\n",
       "      <td>M</td>\n",
       "      <td>20.57</td>\n",
       "      <td>17.77</td>\n",
       "      <td>132.90</td>\n",
       "      <td>1326.0</td>\n",
       "      <td>0.08474</td>\n",
       "      <td>0.07864</td>\n",
       "      <td>0.0869</td>\n",
       "      <td>0.07017</td>\n",
       "      <td>...</td>\n",
       "      <td>24.99</td>\n",
       "      <td>23.41</td>\n",
       "      <td>158.80</td>\n",
       "      <td>1956.0</td>\n",
       "      <td>0.1238</td>\n",
       "      <td>0.1866</td>\n",
       "      <td>0.2416</td>\n",
       "      <td>0.1860</td>\n",
       "      <td>0.2750</td>\n",
       "      <td>0.08902</td>\n",
       "    </tr>\n",
       "    <tr>\n",
       "      <th>2</th>\n",
       "      <td>84300903</td>\n",
       "      <td>M</td>\n",
       "      <td>19.69</td>\n",
       "      <td>21.25</td>\n",
       "      <td>130.00</td>\n",
       "      <td>1203.0</td>\n",
       "      <td>0.10960</td>\n",
       "      <td>0.15990</td>\n",
       "      <td>0.1974</td>\n",
       "      <td>0.12790</td>\n",
       "      <td>...</td>\n",
       "      <td>23.57</td>\n",
       "      <td>25.53</td>\n",
       "      <td>152.50</td>\n",
       "      <td>1709.0</td>\n",
       "      <td>0.1444</td>\n",
       "      <td>0.4245</td>\n",
       "      <td>0.4504</td>\n",
       "      <td>0.2430</td>\n",
       "      <td>0.3613</td>\n",
       "      <td>0.08758</td>\n",
       "    </tr>\n",
       "    <tr>\n",
       "      <th>3</th>\n",
       "      <td>84348301</td>\n",
       "      <td>M</td>\n",
       "      <td>11.42</td>\n",
       "      <td>20.38</td>\n",
       "      <td>77.58</td>\n",
       "      <td>386.1</td>\n",
       "      <td>0.14250</td>\n",
       "      <td>0.28390</td>\n",
       "      <td>0.2414</td>\n",
       "      <td>0.10520</td>\n",
       "      <td>...</td>\n",
       "      <td>14.91</td>\n",
       "      <td>26.50</td>\n",
       "      <td>98.87</td>\n",
       "      <td>567.7</td>\n",
       "      <td>0.2098</td>\n",
       "      <td>0.8663</td>\n",
       "      <td>0.6869</td>\n",
       "      <td>0.2575</td>\n",
       "      <td>0.6638</td>\n",
       "      <td>0.17300</td>\n",
       "    </tr>\n",
       "    <tr>\n",
       "      <th>4</th>\n",
       "      <td>84358402</td>\n",
       "      <td>M</td>\n",
       "      <td>20.29</td>\n",
       "      <td>14.34</td>\n",
       "      <td>135.10</td>\n",
       "      <td>1297.0</td>\n",
       "      <td>0.10030</td>\n",
       "      <td>0.13280</td>\n",
       "      <td>0.1980</td>\n",
       "      <td>0.10430</td>\n",
       "      <td>...</td>\n",
       "      <td>22.54</td>\n",
       "      <td>16.67</td>\n",
       "      <td>152.20</td>\n",
       "      <td>1575.0</td>\n",
       "      <td>0.1374</td>\n",
       "      <td>0.2050</td>\n",
       "      <td>0.4000</td>\n",
       "      <td>0.1625</td>\n",
       "      <td>0.2364</td>\n",
       "      <td>0.07678</td>\n",
       "    </tr>\n",
       "  </tbody>\n",
       "</table>\n",
       "<p>5 rows × 32 columns</p>\n",
       "</div>"
      ],
      "text/plain": [
       "       code Class     f1     f2      f3      f4       f5       f6      f7  \\\n",
       "0    842302     M  17.99  10.38  122.80  1001.0  0.11840  0.27760  0.3001   \n",
       "1    842517     M  20.57  17.77  132.90  1326.0  0.08474  0.07864  0.0869   \n",
       "2  84300903     M  19.69  21.25  130.00  1203.0  0.10960  0.15990  0.1974   \n",
       "3  84348301     M  11.42  20.38   77.58   386.1  0.14250  0.28390  0.2414   \n",
       "4  84358402     M  20.29  14.34  135.10  1297.0  0.10030  0.13280  0.1980   \n",
       "\n",
       "        f8  ...    f21    f22     f23     f24     f25     f26     f27     f28  \\\n",
       "0  0.14710  ...  25.38  17.33  184.60  2019.0  0.1622  0.6656  0.7119  0.2654   \n",
       "1  0.07017  ...  24.99  23.41  158.80  1956.0  0.1238  0.1866  0.2416  0.1860   \n",
       "2  0.12790  ...  23.57  25.53  152.50  1709.0  0.1444  0.4245  0.4504  0.2430   \n",
       "3  0.10520  ...  14.91  26.50   98.87   567.7  0.2098  0.8663  0.6869  0.2575   \n",
       "4  0.10430  ...  22.54  16.67  152.20  1575.0  0.1374  0.2050  0.4000  0.1625   \n",
       "\n",
       "      f29      f30  \n",
       "0  0.4601  0.11890  \n",
       "1  0.2750  0.08902  \n",
       "2  0.3613  0.08758  \n",
       "3  0.6638  0.17300  \n",
       "4  0.2364  0.07678  \n",
       "\n",
       "[5 rows x 32 columns]"
      ]
     },
     "execution_count": 4,
     "metadata": {},
     "output_type": "execute_result"
    }
   ],
   "source": [
    "df_original = pd.read_csv(data_file, header=None)\n",
    "new_columns = ['code', 'Class'] + ['f{}'.format(i) for i in range(1, len(df_original.columns)-1)]\n",
    "df_original.columns=new_columns\n",
    "df_original.info()\n",
    "df_original.head()"
   ]
  },
  {
   "cell_type": "code",
   "execution_count": 5,
   "id": "5a56831a",
   "metadata": {},
   "outputs": [],
   "source": [
    "df = df_original.copy()\n",
    "df_1 = df.drop(columns = 'code')\n",
    "\n",
    "# label Class column\n",
    "le = LabelEncoder()\n",
    "df_1.Class = le.fit_transform(df.Class)"
   ]
  },
  {
   "cell_type": "code",
   "execution_count": 6,
   "id": "91a782e7",
   "metadata": {},
   "outputs": [],
   "source": [
    "# define function to split train and test data\n",
    "def tr_ts_split(df, m, ts_ratio, norm = False):\n",
    "    # select X and y in each class\n",
    "    X_M = df.loc[df['Class'] == 1].iloc[:, 1:]\n",
    "    y_M = df.loc[df['Class'] == 1].iloc[:, 0]\n",
    "    X_B = df.loc[df['Class'] == 0].iloc[:, 1:]\n",
    "    y_B = df.loc[df['Class'] == 0].iloc[:, 0]\n",
    "    # split train test data from each class\n",
    "    X_tr_M, X_ts_M, y_tr_M, y_ts_M = train_test_split(X_M, y_M, test_size=ts_ratio, random_state=m)\n",
    "    X_tr_B, X_ts_B, y_tr_B, y_ts_B = train_test_split(X_B, y_B, test_size=ts_ratio, random_state=m)\n",
    "    # Generate train and test data\n",
    "    X_tr = pd.concat([X_tr_M, X_tr_B]).sort_index()\n",
    "    y_tr = pd.concat([y_tr_M, y_tr_B]).sort_index()\n",
    "    X_ts = pd.concat([X_ts_M, X_ts_B]).sort_index()\n",
    "    y_ts = pd.concat([y_ts_M, y_ts_B]).sort_index()\n",
    "    \n",
    "    if norm == True:\n",
    "        scaler = MinMaxScaler()\n",
    "        X_tr_std = pd.DataFrame(scaler.fit_transform(X_tr), columns=X_tr.columns, index=y_tr.index)\n",
    "        X_ts_std = pd.DataFrame(scaler.transform(X_ts), columns=X_ts.columns, index=y_ts.index)\n",
    "        \n",
    "        return X_tr_std, X_ts_std, y_tr, y_ts\n",
    "\n",
    "    else:\n",
    "        \n",
    "        return X_tr, X_ts, y_tr, y_ts"
   ]
  },
  {
   "cell_type": "code",
   "execution_count": 7,
   "id": "fe51feb9",
   "metadata": {},
   "outputs": [],
   "source": [
    "# define function to evaluate prediction\n",
    "def evaluation(y_tr, y_pred, y_prob, average):\n",
    "    '''\n",
    "    average{'binary', 'micro', 'macro', 'samples','weighted'}, default=None\n",
    "    \n",
    "    '''\n",
    "    result ={}\n",
    "    result['accuracy'] = accuracy_score(y_tr, y_pred)\n",
    "    result['precision'] = precision_recall_fscore_support(y_tr, y_pred, average=average)[0]\n",
    "    result['recall'] = precision_recall_fscore_support(y_tr, y_pred, average=average)[1]\n",
    "    result['fscore'] = precision_recall_fscore_support(y_tr, y_pred, average=average)[2]\n",
    "    \n",
    "    if len(y_prob) != 0:\n",
    "        fpr, tpr, thresholds = roc_curve(y_tr, y_prob, pos_label=1)\n",
    "        result['AUC'] = auc(fpr, tpr)\n",
    "        \n",
    "    return result"
   ]
  },
  {
   "cell_type": "code",
   "execution_count": 8,
   "id": "c5dad429",
   "metadata": {},
   "outputs": [],
   "source": [
    "# define function to calculate and plot confusion matrix\n",
    "def cm(y_true, y_pred, title):\n",
    "    \n",
    "    cm = confusion_matrix(y_true, y_pred)\n",
    "    print(cm)\n",
    "    disp = ConfusionMatrixDisplay(confusion_matrix=cm, display_labels=['B', 'M'])\n",
    "    fig, ax = plt.subplots(figsize=(6,6))\n",
    "    ax.set_title(\"{} Set Confustion Matrix\".format(title), fontsize=16)\n",
    "    disp.plot(ax=ax)\n",
    "    plt.show()"
   ]
  },
  {
   "cell_type": "code",
   "execution_count": 9,
   "id": "894b651c",
   "metadata": {},
   "outputs": [],
   "source": [
    "# define roc curve plot function\n",
    "def roc(y_true, y_score, title):\n",
    "    fpr, tpr, thresholds = roc_curve(y_true, y_score, pos_label=1)\n",
    "    roc_auc = auc(fpr, tpr)\n",
    "    print(\"AUC is\" , roc_auc)\n",
    "    plt.figure(figsize=(6, 6))\n",
    "    plt.plot(fpr, tpr, color='darkorange', label='ROC curve (AUC = %0.6f)' % roc_auc)\n",
    "    plt.plot([0, 1], [0, 1], color='navy', lw=2, linestyle='--')\n",
    "    plt.grid()\n",
    "    plt.xlim([-0.05, 1])\n",
    "    plt.ylim([0.0, 1.05])\n",
    "    plt.legend(loc=\"lower right\")\n",
    "    plt.xlabel(\"False Positive Rate\")\n",
    "    plt.ylabel(\"True Positive Rate\")\n",
    "    plt.title(title)\n",
    "    plt.show()"
   ]
  },
  {
   "cell_type": "code",
   "execution_count": 10,
   "id": "9baacb15",
   "metadata": {},
   "outputs": [],
   "source": [
    "# define a function to calculate svm result\n",
    "def svm_result(model, X_tr, X_ts, y_tr, y_ts):\n",
    "    \n",
    "    result = {}\n",
    "    result['y_tr'] = y_tr\n",
    "    result['y_tr_pred'] = model.predict(X_tr)\n",
    "    result['y_tr_score'] = model.decision_function(X_tr)\n",
    "    result['y_ts'] = y_ts\n",
    "    result['y_ts_pred'] = model.predict(X_ts)\n",
    "    result['y_ts_score'] = model.decision_function(X_ts)\n",
    "    \n",
    "    return result"
   ]
  },
  {
   "cell_type": "markdown",
   "id": "3bde6a14",
   "metadata": {},
   "source": [
    "### 1(b) i. Supervised Learning: Train an L1-penalized SVM to classify the data.\n",
    "Use 5 fold cross validation to choose the penalty parameter. Use normalized data. Report the average accuracy, precision, recall, F1-score, and AUC, for both training and test sets over your M runs. Plot the ROC and report the confusion matrix for training and testing in one of the runs. <br>\n",
    "ref: https://stackoverflow.com/questions/31159157/different-result-with-roc-auc-score-and-auc<br>"
   ]
  },
  {
   "cell_type": "code",
   "execution_count": 11,
   "id": "6342fde9",
   "metadata": {},
   "outputs": [],
   "source": [
    "# define SVM model tuning hyperparameters\n",
    "skf = StratifiedKFold(n_splits=5, shuffle=True, random_state=42)\n",
    "steps = [('scaler', MinMaxScaler()), ('LinearSVC', LinearSVC(penalty = 'l1', dual=False, max_iter=1e5))]\n",
    "pipeline = Pipeline(steps)\n",
    "parameters = {'LinearSVC__C':np.logspace(-3,6,10)}\n",
    "grid_sl = GridSearchCV(pipeline, param_grid = parameters, scoring='accuracy', cv=skf, n_jobs=-1)"
   ]
  },
  {
   "cell_type": "markdown",
   "id": "6a21c09b",
   "metadata": {},
   "source": [
    "* Monte-Carlo Simulation:"
   ]
  },
  {
   "cell_type": "code",
   "execution_count": 12,
   "id": "4ccb5d87",
   "metadata": {},
   "outputs": [
    {
     "name": "stderr",
     "output_type": "stream",
     "text": [
      "100%|██████████| 30/30 [00:53<00:00,  1.78s/it]\n"
     ]
    }
   ],
   "source": [
    "clf_results = []\n",
    "tr_evals = []\n",
    "ts_evals = []\n",
    "\n",
    "for m in tqdm(range(30)):\n",
    "    \n",
    "    X_train, X_test, y_train, y_test = tr_ts_split(df_1, m, ts_ratio=0.2)\n",
    "    \n",
    "    # fit model get prediction results\n",
    "    grid_sl.fit(X_train, y_train)\n",
    "    clf_result = svm_result(grid_sl, X_train, X_test, y_train, y_test)\n",
    "    # evaluate model\n",
    "    tr_eval = evaluation(y_train, clf_result['y_tr_pred'], clf_result['y_tr_score'], average='binary')\n",
    "    ts_eval = evaluation(y_test, clf_result['y_ts_pred'], clf_result['y_ts_score'], average='binary')\n",
    "    # save results\n",
    "    clf_results.append(clf_result)\n",
    "    tr_evals.append(tr_eval)\n",
    "    ts_evals.append(ts_eval)\n",
    "#convert saved results to df    \n",
    "# prediction result\n",
    "clf_1bi_df =  pd.DataFrame.from_dict(clf_results, orient='columns')\n",
    "# evaluation result\n",
    "tr_eval_1bi = pd.DataFrame.from_dict(tr_evals, orient='columns')\n",
    "ts_eval_1bi = pd.DataFrame.from_dict(ts_evals, orient='columns')"
   ]
  },
  {
   "cell_type": "markdown",
   "id": "47f15d9f",
   "metadata": {},
   "source": [
    "* Report the average accuracy, precision, recall, F1-score, and AUC, for both training and test sets over your M runs"
   ]
  },
  {
   "cell_type": "code",
   "execution_count": 13,
   "id": "7207ea16",
   "metadata": {},
   "outputs": [
    {
     "name": "stdout",
     "output_type": "stream",
     "text": [
      "================================================================================\n",
      "The average metrics for training set over 30 Monte-Carlo simulations are:\n",
      "================================================================================\n",
      "           Supervised Learning Train\n",
      "accuracy                    0.985242\n",
      "precision                   0.989347\n",
      "recall                      0.970809\n",
      "fscore                      0.979967\n",
      "AUC                         0.997444\n",
      "================================================================================\n",
      "================================================================================\n",
      "The average metrics for test set over 30 Monte-Carlo simulations are:\n",
      "================================================================================\n",
      "           Supervised Learning Test\n",
      "accuracy                   0.971884\n",
      "precision                  0.980392\n",
      "recall                     0.944186\n",
      "fscore                     0.961346\n",
      "AUC                        0.991570\n",
      "================================================================================\n"
     ]
    }
   ],
   "source": [
    "# Train result\n",
    "print('='*80)\n",
    "print('The average metrics for training set over 30 Monte-Carlo simulations are:')\n",
    "print('='*80)\n",
    "df_1bi_tr = pd.DataFrame(tr_eval_1bi.mean()).T\n",
    "df_1bi_tr.index=['Supervised Learning Train']\n",
    "print(df_1bi_tr.T)\n",
    "print('='*80)\n",
    "\n",
    "# Test result\n",
    "print('='*80)\n",
    "print('The average metrics for test set over 30 Monte-Carlo simulations are:')\n",
    "print('='*80)\n",
    "df_1bi_ts = pd.DataFrame(ts_eval_1bi.mean()).T\n",
    "df_1bi_ts.index=['Supervised Learning Test']\n",
    "print(df_1bi_ts.T)\n",
    "print('='*80)"
   ]
  },
  {
   "cell_type": "markdown",
   "id": "d64b5bff",
   "metadata": {},
   "source": [
    "* Plot the ROC and report the confusion matrix for training and testing in one of the runs\n",
    "#### - Training Set"
   ]
  },
  {
   "cell_type": "code",
   "execution_count": 14,
   "id": "d148a920",
   "metadata": {},
   "outputs": [
    {
     "name": "stdout",
     "output_type": "stream",
     "text": [
      "[[282   3]\n",
      " [  7 162]]\n"
     ]
    },
    {
     "data": {
      "image/png": "[encoded data removed]",
      "text/plain": [
       "<Figure size 432x432 with 2 Axes>"
      ]
     },
     "metadata": {
      "needs_background": "light"
     },
     "output_type": "display_data"
    },
    {
     "name": "stdout",
     "output_type": "stream",
     "text": [
      "AUC is 0.9968234194954843\n"
     ]
    },
    {
     "data": {
      "image/png": "[encoded data removed]",
      "text/plain": [
       "<Figure size 432x432 with 1 Axes>"
      ]
     },
     "metadata": {
      "needs_background": "light"
     },
     "output_type": "display_data"
    }
   ],
   "source": [
    "run = 15\n",
    "cm(clf_1bi_df.loc[run]['y_tr'], clf_1bi_df.loc[run]['y_tr_pred'], 'Run {} Train'.format(run))\n",
    "roc(clf_1bi_df.loc[run]['y_tr'], clf_1bi_df.loc[run]['y_tr_score'], 'Run {} Train Set'.format(run))"
   ]
  },
  {
   "cell_type": "markdown",
   "id": "cfe47b98",
   "metadata": {},
   "source": [
    "#### - Test Set"
   ]
  },
  {
   "cell_type": "code",
   "execution_count": 15,
   "id": "859507df",
   "metadata": {},
   "outputs": [
    {
     "name": "stdout",
     "output_type": "stream",
     "text": [
      "[[71  1]\n",
      " [ 1 42]]\n"
     ]
    },
    {
     "data": {
      "image/png": "[encoded data removed]",
      "text/plain": [
       "<Figure size 432x432 with 2 Axes>"
      ]
     },
     "metadata": {
      "needs_background": "light"
     },
     "output_type": "display_data"
    },
    {
     "name": "stdout",
     "output_type": "stream",
     "text": [
      "AUC is 0.9974160206718347\n"
     ]
    },
    {
     "data": {
      "image/png": "[encoded data removed]",
      "text/plain": [
       "<Figure size 432x432 with 1 Axes>"
      ]
     },
     "metadata": {
      "needs_background": "light"
     },
     "output_type": "display_data"
    }
   ],
   "source": [
    "cm(clf_1bi_df.loc[run]['y_ts'], clf_1bi_df.loc[run]['y_ts_pred'], 'Run {} Test'.format(run))\n",
    "roc(clf_1bi_df.loc[run]['y_ts'], clf_1bi_df.loc[run]['y_ts_score'], 'Run {} Test Set'.format(run))"
   ]
  },
  {
   "cell_type": "markdown",
   "id": "a74cd66a",
   "metadata": {},
   "source": [
    "### 1(b) ii. Semi-Supervised Learning/ Self-training:\n",
    "select 50% of the positive class along with 50% of the negative class in the training set as labeled data and the rest as unlabelled data. You can select them randomly."
   ]
  },
  {
   "cell_type": "markdown",
   "id": "d6713e2e",
   "metadata": {},
   "source": [
    "#### 1(b) ii. A Train an L1-penalized SVM to classify the labeled data Use normalized data. Choose the penalty parameter using 5 fold cross validation."
   ]
  },
  {
   "cell_type": "code",
   "execution_count": 16,
   "id": "614e0262",
   "metadata": {},
   "outputs": [],
   "source": [
    "# define SVM model tuning hyperparameters\n",
    "skf = StratifiedKFold(n_splits=5, shuffle=True, random_state=42)\n",
    "steps = [('scaler', MinMaxScaler()), ('LinearSVC', LinearSVC(penalty = 'l1', dual=False, max_iter=1e7))]\n",
    "pipeline = Pipeline(steps)\n",
    "parameters = {'LinearSVC__C':np.logspace(-3,6,10)}\n",
    "grid_ssl = GridSearchCV(pipeline, param_grid = parameters, scoring='accuracy', cv=skf, n_jobs=-1)"
   ]
  },
  {
   "cell_type": "markdown",
   "id": "c23618cc",
   "metadata": {},
   "source": [
    "#### 1(b) ii. B Find the unlabeled data point that is the farthest to the decision boundary of the SVM. \n",
    "Let the SVM label it (ignore its true label), and add it to the labeled data, and retrain the SVM. Continue this process until all unlabeled data are used. Test the final SVM on the test data andthe average accuracy, precision, recall, F1-score, and AUC, for both training and test sets over your M runs. Plot the ROC and report the confusion\n",
    "matrix for training and testing in one of the runs. <br>\n",
    "ref: https://stackoverflow.com/questions/32074239/sklearn-getting-distance-of-each-point-from-decision-boundary"
   ]
  },
  {
   "cell_type": "markdown",
   "id": "41b90862",
   "metadata": {},
   "source": [
    "#### 1(b) ii. A and 1(b) ii. B\n",
    "* Monte-Carlo Simulation:"
   ]
  },
  {
   "cell_type": "code",
   "execution_count": 17,
   "id": "ed4cc3bb",
   "metadata": {},
   "outputs": [
    {
     "name": "stderr",
     "output_type": "stream",
     "text": [
      "100%|██████████| 30/30 [40:02<00:00, 80.09s/it] \n"
     ]
    }
   ],
   "source": [
    "clf_results = []\n",
    "tr_evals = []\n",
    "ts_evals = []\n",
    "\n",
    "for m in tqdm(range(30)):\n",
    "    \n",
    "    # define train and test data\n",
    "    X_train, X_test, y_train, y_test = tr_ts_split(df_1, m, ts_ratio=0.2)\n",
    "    # define initial label and unlabelled data\n",
    "    train = pd.concat([y_train, X_train], axis = 1)\n",
    "    X_label, X_unlabelled, y_label, y_unlabelled = tr_ts_split(train, m, ts_ratio=0.5)\n",
    "    # 1biiA choose the best estimator of the initial model\n",
    "    grid_ssl.fit(X_label, y_label)\n",
    "\n",
    "    while X_unlabelled.shape[0] > 0:\n",
    "        \n",
    "        #label unlabelled data\n",
    "        y_pred_temp = grid_ssl.predict(X_unlabelled)\n",
    "        # calculate the distance to hyperplane\n",
    "        y_score = grid_ssl.decision_function(X_unlabelled)\n",
    "        w_norm = np.linalg.norm(grid_ssl.best_estimator_['LinearSVC'].coef_)\n",
    "        dist = y_score / w_norm\n",
    "        # get the index of the fartest point\n",
    "        maxd_index = np.argmax(np.abs(dist))\n",
    "        row_index = X_unlabelled.index[maxd_index]\n",
    "        # add labeled data to labeled pool\n",
    "        X_label = X_label.append(X_unlabelled.loc[row_index])\n",
    "        y_label = y_label.append(pd.Series(y_pred_temp[maxd_index], index =[row_index]))\n",
    "        # drop a labeled data point in unlabelled data\n",
    "        X_unlabelled = X_unlabelled.drop([row_index])\n",
    "        y_unlabelled = y_unlabelled.drop([row_index])\n",
    "        grid_ssl.fit(X_label, y_label)\n",
    "    \n",
    "    # obtain prediction and evaluation results\n",
    "    clf_result = svm_result(grid_ssl, X_train, X_test, y_train, y_test)\n",
    "    clf_results.append(clf_result)\n",
    "    # evaluate train and test set                     \n",
    "    tr_eval = evaluation(y_train, clf_result['y_tr_pred'], clf_result['y_tr_score'], average='binary')\n",
    "    ts_eval = evaluation(y_test, clf_result['y_ts_pred'], clf_result['y_ts_score'], average='binary')\n",
    "    tr_evals.append(tr_eval)\n",
    "    ts_evals.append(ts_eval)\n",
    "    \n",
    "# convert saved results to df\n",
    "# prediction result\n",
    "clf_1bii_df =  pd.DataFrame.from_dict(clf_results, orient='columns')\n",
    "# evaluation result\n",
    "tr_eval_1bii = pd.DataFrame.from_dict(tr_evals, orient='columns')\n",
    "ts_eval_1bii = pd.DataFrame.from_dict(ts_evals, orient='columns')"
   ]
  },
  {
   "cell_type": "markdown",
   "id": "4e369749",
   "metadata": {},
   "source": [
    "* Report the average accuracy, precision, recall, F1-score, and AUC, for both training and test sets over your M runs"
   ]
  },
  {
   "cell_type": "code",
   "execution_count": 18,
   "id": "e3cfb017",
   "metadata": {},
   "outputs": [
    {
     "name": "stdout",
     "output_type": "stream",
     "text": [
      "================================================================================\n",
      "The average metrics for training set over 30 Monte-Carlo simulations are:\n",
      "================================================================================\n",
      "           Semi-Supervised Learning Train\n",
      "accuracy                         0.976579\n",
      "precision                        0.984874\n",
      "recall                           0.951874\n",
      "fscore                           0.967938\n",
      "AUC                              0.994069\n",
      "================================================================================\n",
      "================================================================================\n",
      "The average metrics for test set over 30 Monte-Carlo simulations are:\n",
      "================================================================================\n",
      "           Semi-Supervised Learning Test\n",
      "accuracy                        0.964348\n",
      "precision                       0.974511\n",
      "recall                          0.929457\n",
      "fscore                          0.950840\n",
      "AUC                             0.987715\n",
      "================================================================================\n"
     ]
    }
   ],
   "source": [
    "# training set\n",
    "print('='*80)\n",
    "print('The average metrics for training set over 30 Monte-Carlo simulations are:')\n",
    "print('='*80)\n",
    "df_1bii_tr = pd.DataFrame(tr_eval_1bii.mean()).T\n",
    "df_1bii_tr.index=['Semi-Supervised Learning Train']\n",
    "print(df_1bii_tr.T)\n",
    "print('='*80)\n",
    "\n",
    "# test set\n",
    "print('='*80)\n",
    "print('The average metrics for test set over 30 Monte-Carlo simulations are:')\n",
    "print('='*80)\n",
    "df_1bii_ts = pd.DataFrame(ts_eval_1bii.mean()).T\n",
    "df_1bii_ts.index=['Semi-Supervised Learning Test']\n",
    "print(df_1bii_ts.T)\n",
    "print('='*80)"
   ]
  },
  {
   "cell_type": "markdown",
   "id": "584dba25",
   "metadata": {},
   "source": [
    "* Plot the ROC and report the confusion matrix for training and testing in one of the runs\n",
    "#### - Training Set"
   ]
  },
  {
   "cell_type": "code",
   "execution_count": 19,
   "id": "ebb61acf",
   "metadata": {},
   "outputs": [
    {
     "name": "stdout",
     "output_type": "stream",
     "text": [
      "[[282   3]\n",
      " [  9 160]]\n"
     ]
    },
    {
     "data": {
      "image/png": "[encoded data removed]",
      "text/plain": [
       "<Figure size 432x432 with 2 Axes>"
      ]
     },
     "metadata": {
      "needs_background": "light"
     },
     "output_type": "display_data"
    },
    {
     "name": "stdout",
     "output_type": "stream",
     "text": [
      "AUC is 0.989183016713381\n"
     ]
    },
    {
     "data": {
      "image/png": "[encoded data removed]",
      "text/plain": [
       "<Figure size 432x432 with 1 Axes>"
      ]
     },
     "metadata": {
      "needs_background": "light"
     },
     "output_type": "display_data"
    }
   ],
   "source": [
    "run = 15\n",
    "cm(clf_1bii_df.loc[run]['y_tr'], clf_1bii_df.loc[run]['y_tr_pred'], 'Run {} Train'.format(run))\n",
    "roc(clf_1bii_df.loc[run]['y_tr'], clf_1bii_df.loc[run]['y_tr_score'], 'Run {} Train Set'.format(run))"
   ]
  },
  {
   "cell_type": "markdown",
   "id": "61fa1e79",
   "metadata": {},
   "source": [
    "#### - Test Set"
   ]
  },
  {
   "cell_type": "code",
   "execution_count": 20,
   "id": "d91fa89f",
   "metadata": {},
   "outputs": [
    {
     "name": "stdout",
     "output_type": "stream",
     "text": [
      "[[71  1]\n",
      " [ 4 39]]\n"
     ]
    },
    {
     "data": {
      "image/png": "[encoded data removed]",
      "text/plain": [
       "<Figure size 432x432 with 2 Axes>"
      ]
     },
     "metadata": {
      "needs_background": "light"
     },
     "output_type": "display_data"
    },
    {
     "name": "stdout",
     "output_type": "stream",
     "text": [
      "AUC is 0.9906330749354005\n"
     ]
    },
    {
     "data": {
      "image/png": "[encoded data removed]",
      "text/plain": [
       "<Figure size 432x432 with 1 Axes>"
      ]
     },
     "metadata": {
      "needs_background": "light"
     },
     "output_type": "display_data"
    }
   ],
   "source": [
    "cm(clf_1bii_df.loc[run]['y_ts'], clf_1bii_df.loc[run]['y_ts_pred'], 'Run {} Test'.format(run))\n",
    "roc(clf_1bii_df.loc[run]['y_ts'], clf_1bii_df.loc[run]['y_ts_score'], 'Run {} Test Set'.format(run))"
   ]
  },
  {
   "cell_type": "markdown",
   "id": "6ea92db7",
   "metadata": {},
   "source": [
    "### 1(b) iii. Unsupervised Learning: \n",
    "Run k-means algorithm on the whole training set. Ignore the labels of the data, and assume k = 2.\n",
    "#### 1(b) iii. A. Run the k-means algorithm multiple times. \n",
    "Make sure that you initialize the algoritm randomly. How do you make sure that the algorithm was not trapped in a local minimum?<br>\n",
    "ref: http://ethen8181.github.io/machine-learning/clustering/kmeans.html <br>\n",
    "ref: https://stackoverflow.com/questions/54240144/distance-between-nodes-and-the-centroid-in-a-kmeans-cluster<br>\n",
    "ref: https://docs.scipy.org/doc/scipy/reference/generated/scipy.special.softmax.html<br>\n",
    "ref: https://stackoverflow.com/questions/26795535/output-50-samples-closest-to-each-cluster-center-using-scikit-learn-k-means-libr<br>\n",
    "ref: https://datascience.stackexchange.com/questions/6715/is-it-necessary-to-standardize-your-data-before-clustering<br>"
   ]
  },
  {
   "cell_type": "markdown",
   "id": "24f40138",
   "metadata": {},
   "source": [
    "<strong>Answer</strong><br>\n",
    "In order to avoid trapping in a a local minimum, at the beginning we assign cluster randomly, we can increase the \n",
    "number of time the k-means algorithm run with different centroid seeds(initial condition). And choose the final cluster has the lowest within cluster variation."
   ]
  },
  {
   "cell_type": "markdown",
   "id": "fb2acbf9",
   "metadata": {},
   "source": [
    "#### 1(b) iii. B. Compute the centers of the two clusters and find the closest 30 data points to each center. \n",
    "Read the true labels of those 30 data points and take a majority poll within them. The majority poll becomes the label\n",
    "predicted by k-means for the members of each cluster. Then compare the labels provided by k-means with the true labels of the training data and report the average accuracy, precision, recall, F1-score, and AUC over M runs, and ROC and the confusion matrix for one of the runs."
   ]
  },
  {
   "cell_type": "code",
   "execution_count": 21,
   "id": "2d4d6386",
   "metadata": {},
   "outputs": [],
   "source": [
    "# define a function to assign predict label for each cluster based on distance to center\n",
    "def assign_label(dist, cluster_label, y_tr):\n",
    "    '''\n",
    "    dist: training data dist\n",
    "    y_tr: train set label column\n",
    "    \n",
    "    '''\n",
    "    index_cl0 = np.argsort(dist[:,0])[:30]\n",
    "    index_cl1 = np.argsort(dist[:,1])[:30]\n",
    "    mode_cl0 = stats.mode(y_tr.values[index_cl0])[0][0]\n",
    "    mode_cl1 = stats.mode(y_tr.values[index_cl1])[0][0]\n",
    "    y_pred = np.array([mode_cl0 if x==0 else mode_cl1 for x in cluster_label])\n",
    "    if mode_cl0 != 0 :# model pos label is at cluster[0]\n",
    "        pos_dist_index = 1\n",
    "    else:\n",
    "        pos_dist_index = 0\n",
    "    return y_pred, pos_dist_index"
   ]
  },
  {
   "cell_type": "code",
   "execution_count": 22,
   "id": "88abf547",
   "metadata": {},
   "outputs": [
    {
     "name": "stderr",
     "output_type": "stream",
     "text": [
      "100%|██████████| 30/30 [00:08<00:00,  3.39it/s]\n"
     ]
    }
   ],
   "source": [
    "tr_evals = []\n",
    "ts_evals = []\n",
    "results = []\n",
    "for m in tqdm(range(30)):\n",
    "    \n",
    "    X_train, X_test, y_train, y_test = tr_ts_split(df_1, m, ts_ratio=0.2, norm=True)\n",
    "#     X_train, X_test, y_train, y_test = tr_ts_split(df_1, m, ts_ratio=0.2)\n",
    "    # run kmeans multiple times with a large n_init\n",
    "    clusterer = KMeans(n_clusters=2, n_init=100, random_state=m)\n",
    "    clusterer.fit(X_train)\n",
    "    # train set prediction\n",
    "    cl_tr =  clusterer.predict(X_train)\n",
    "    tr_dist = clusterer.transform(X_train)\n",
    "    y_tr_pred, pos_tr_index = assign_label(tr_dist, cl_tr, y_train)\n",
    "    y_tr_prob = softmax(tr_dist, axis=1)[:,pos_tr_index]\n",
    "    # test set prediction\n",
    "    cl_ts =  clusterer.predict(X_test)\n",
    "    ts_dist = clusterer.transform(X_test)\n",
    "    y_ts_pred, pos_ts_index = assign_label(tr_dist, cl_ts, y_train)\n",
    "    y_ts_prob = softmax(ts_dist, axis=1)[:,pos_ts_index]\n",
    "    \n",
    "    # save results to list of dicts\n",
    "    result = {}\n",
    "    result['y_tr'] = y_train\n",
    "    result['y_tr_pred'] = y_tr_pred\n",
    "    result['y_tr_prob'] = y_tr_prob\n",
    "    result['y_ts'] = y_test\n",
    "    result['y_ts_pred'] = y_ts_pred\n",
    "    result['y_ts_prob'] = y_ts_prob\n",
    "    results.append(result)\n",
    "    # evaluate train and test set\n",
    "    tr_eval = evaluation(y_train, y_tr_pred, y_tr_prob, average='binary')\n",
    "    ts_eval = evaluation(y_test, y_ts_pred, y_ts_prob, average='binary')\n",
    "    tr_evals.append(tr_eval)\n",
    "    ts_evals.append(ts_eval)\n",
    "\n",
    "#convert saved results to df \n",
    "# prediction result\n",
    "clf_1biii_df =  pd.DataFrame.from_dict(results, orient='columns')\n",
    "# evaluation result\n",
    "tr_eval_1biii = pd.DataFrame.from_dict(tr_evals, orient='columns')\n",
    "ts_eval_1biii = pd.DataFrame.from_dict(ts_evals, orient='columns')"
   ]
  },
  {
   "cell_type": "markdown",
   "id": "7fcc299a",
   "metadata": {},
   "source": [
    "* Report the average accuracy, precision, recall, F1-score, and AUC, for both training and test sets over your M runs"
   ]
  },
  {
   "cell_type": "code",
   "execution_count": 23,
   "id": "00283bd3",
   "metadata": {},
   "outputs": [
    {
     "name": "stdout",
     "output_type": "stream",
     "text": [
      "================================================================================\n",
      "The average metrics for training set over 30 Monte-Carlo simulations are:\n",
      "================================================================================\n",
      "           Unsupervised Learning-Kmean Cluster Train\n",
      "accuracy                                    0.925771\n",
      "precision                                   0.948442\n",
      "recall                                      0.846943\n",
      "fscore                                      0.894641\n",
      "AUC                                         0.979405\n",
      "================================================================================\n"
     ]
    }
   ],
   "source": [
    "# train set\n",
    "print('='*80)\n",
    "print('The average metrics for training set over 30 Monte-Carlo simulations are:')\n",
    "print('='*80)\n",
    "df_1biii_tr = pd.DataFrame(tr_eval_1biii.mean()).T\n",
    "df_1biii_tr.index=['Unsupervised Learning-Kmean Cluster Train']\n",
    "print(df_1biii_tr.T)\n",
    "print('='*80)"
   ]
  },
  {
   "cell_type": "markdown",
   "id": "e44bc48f",
   "metadata": {},
   "source": [
    "* Plot the ROC and report the confusion matrix for training and testing in one of the runs"
   ]
  },
  {
   "cell_type": "code",
   "execution_count": 24,
   "id": "4f6ea073",
   "metadata": {},
   "outputs": [
    {
     "name": "stdout",
     "output_type": "stream",
     "text": [
      "[[278   7]\n",
      " [ 26 143]]\n"
     ]
    },
    {
     "data": {
      "image/png": "[encoded data removed]",
      "text/plain": [
       "<Figure size 432x432 with 2 Axes>"
      ]
     },
     "metadata": {
      "needs_background": "light"
     },
     "output_type": "display_data"
    },
    {
     "name": "stdout",
     "output_type": "stream",
     "text": [
      "AUC is 0.9827260458839406\n"
     ]
    },
    {
     "data": {
      "image/png": "[encoded data removed]",
      "text/plain": [
       "<Figure size 432x432 with 1 Axes>"
      ]
     },
     "metadata": {
      "needs_background": "light"
     },
     "output_type": "display_data"
    }
   ],
   "source": [
    "run = 15\n",
    "# confusion matrix\n",
    "cm(clf_1biii_df.loc[run]['y_tr'], clf_1biii_df.loc[run]['y_tr_pred'], 'Run {} Train'.format(run))\n",
    "# roc curve\n",
    "roc(clf_1biii_df.loc[run]['y_tr'], clf_1biii_df.loc[run]['y_tr_prob'], 'Run {} Train Set'.format(run))"
   ]
  },
  {
   "cell_type": "markdown",
   "id": "c68ddfe5",
   "metadata": {},
   "source": [
    "#### 1(b) iii. C. Classify test data based on their proximity to the centers of the clusters. \n",
    "Report the average accuracy, precision, recall, F1-score, and AUC over M runs, and ROC and the confusion matrix for one of the runs for the test data."
   ]
  },
  {
   "cell_type": "code",
   "execution_count": 25,
   "id": "23788802",
   "metadata": {},
   "outputs": [
    {
     "name": "stdout",
     "output_type": "stream",
     "text": [
      "================================================================================\n",
      "The average metrics for test set over 30 Monte-Carlo simulations are:\n",
      "================================================================================\n",
      "           Unsupervised Learning Learning-Kmean Cluster Test\n",
      "accuracy                                            0.924928\n",
      "precision                                           0.946520\n",
      "recall                                              0.847287\n",
      "fscore                                              0.893527\n",
      "AUC                                                 0.982052\n",
      "================================================================================\n"
     ]
    }
   ],
   "source": [
    "# test set\n",
    "print('='*80)\n",
    "print('The average metrics for test set over 30 Monte-Carlo simulations are:')\n",
    "print('='*80)\n",
    "df_1biii_ts = pd.DataFrame(ts_eval_1biii.mean()).T\n",
    "df_1biii_ts.index=['Unsupervised Learning Learning-Kmean Cluster Test']\n",
    "print(df_1biii_ts.T)\n",
    "print('='*80)"
   ]
  },
  {
   "cell_type": "code",
   "execution_count": 26,
   "id": "62049080",
   "metadata": {},
   "outputs": [
    {
     "name": "stdout",
     "output_type": "stream",
     "text": [
      "[[67  5]\n",
      " [ 6 37]]\n"
     ]
    },
    {
     "data": {
      "image/png": "[encoded data removed]",
      "text/plain": [
       "<Figure size 432x432 with 2 Axes>"
      ]
     },
     "metadata": {
      "needs_background": "light"
     },
     "output_type": "display_data"
    },
    {
     "name": "stdout",
     "output_type": "stream",
     "text": [
      "AUC is 0.9680232558139535\n"
     ]
    },
    {
     "data": {
      "image/png": "[encoded data removed]",
      "text/plain": [
       "<Figure size 432x432 with 1 Axes>"
      ]
     },
     "metadata": {
      "needs_background": "light"
     },
     "output_type": "display_data"
    }
   ],
   "source": [
    "cm(clf_1biii_df.loc[run]['y_ts'], clf_1biii_df.loc[run]['y_ts_pred'], 'Run {} Test'.format(run))\n",
    "roc(clf_1biii_df.loc[run]['y_ts'], clf_1biii_df.loc[run]['y_ts_prob'], 'Run {} Test Set'.format(run))"
   ]
  },
  {
   "cell_type": "markdown",
   "id": "0e0ab387",
   "metadata": {},
   "source": [
    "### 1(b) iv. Spectral Clustering: \n",
    "Repeat 1(b)iii using spectral clustering, which is clustering based on kernels. Research what spectral clustering is. Use RBF kernel with gamma=1 or find a gamma for which the two clutsres have the same balance as the one in original data set (if the positive class has p and the negative class has n samples, the two clusters must have p and n members). Do not label data based on their proximity to cluster center, because spectral clustering may give you non-convex clusters . Instead, use fit-predict method.\n",
    "\n",
    "ref: https://scikit-learn.org/stable/modules/clustering.html#spectral-clustering <br>\n",
    "ref: https://stackoverflow.com/questions/61321778/how-to-calculate-tpr-and-fpr-in-python-without-using-sklearn"
   ]
  },
  {
   "cell_type": "markdown",
   "id": "e7d543f3",
   "metadata": {},
   "source": [
    "<strong>Answer</strong><br>\n",
    "SpectralClustering performs a low-dimension embedding of the affinity matrix between samples, followed by clustering, e.g., by KMeans, of the components of the eigenvectors in the low dimensional space. It is especially computationally efficient if the affinity matrix is sparse"
   ]
  },
  {
   "cell_type": "code",
   "execution_count": 27,
   "id": "66eec5a4",
   "metadata": {},
   "outputs": [],
   "source": [
    "# define a majority polling function based on different threshold\n",
    "def get_majority(cluster_label, y_true, threshold, num_data='all'):\n",
    "    '''\n",
    "    cluster_label : cluster_labels\n",
    "    y_true: true labels\n",
    "    threshold: 0.5 for normal binary class majority polling\n",
    "    \n",
    "    '''\n",
    "    if type(num_data) == int:\n",
    "        select_cl = np.random.choice(cluster_label, num_data, replace=False)\n",
    "        index_cl0 = np.where(select_cl==0)\n",
    "        index_cl1 = np.where(select_cl==1)\n",
    "    else:\n",
    "        index_cl0 = np.where(cluster_label==0)\n",
    "        index_cl1 = np.where(cluster_label==1)\n",
    "    \n",
    "    cl0 = y_true.values[index_cl0]\n",
    "    cl1 = y_true.values[index_cl1]\n",
    "    \n",
    "    cl0_num_ones = (cl0 == 1).sum()\n",
    "    cl1_num_ones = (cl1 == 1).sum()\n",
    "    # Assign cluster 0 based on true value\n",
    "    if cl0_num_ones > len(cl0)*threshold:\n",
    "        label0 = 1\n",
    "    else:\n",
    "        label0 = 0\n",
    "    # Assign cluster 1 based on true value   \n",
    "    if cl1_num_ones > len(cl1)*threshold:\n",
    "        label1 = 1\n",
    "    else:\n",
    "        label1 = 0\n",
    "    y_pred = np.where(cluster_label==0, label0, label1)\n",
    "    \n",
    "    return y_pred"
   ]
  },
  {
   "cell_type": "code",
   "execution_count": 28,
   "id": "a28b3520",
   "metadata": {},
   "outputs": [],
   "source": [
    "# calculate tpr and fpr at given threshold\n",
    "def calculate_at_threshold(threshold, y_true, cluster_label):\n",
    "    \n",
    "    y_pred = get_majority(cluster_label, y_true, threshold)\n",
    "    \n",
    "    tn, fp, fn, tp = confusion_matrix(y_true, y_pred).ravel()\n",
    "    # calculate recall\n",
    "    tpr = (tp)/(tp + fn)\n",
    "    # calculate fallout\n",
    "    fpr = (fp)/(fp + tn)\n",
    "    \n",
    "    return fpr, tpr"
   ]
  },
  {
   "cell_type": "code",
   "execution_count": 29,
   "id": "3fa206ba",
   "metadata": {},
   "outputs": [],
   "source": [
    "# define a function to calcuate tpr and fpr at different threshold\n",
    "def get_roc_curve(y_true, cluster_label):\n",
    "    \n",
    "    tpr =[]\n",
    "    fpr = []\n",
    "    thresholds = np.linspace(0,1,11)\n",
    "    for threshold in thresholds:\n",
    "        fpr_t, tpr_t = calculate_at_threshold(threshold, y_true, cluster_label)\n",
    "        fpr.append(fpr_t)\n",
    "        tpr.append(tpr_t)\n",
    "        \n",
    "    return fpr, tpr"
   ]
  },
  {
   "cell_type": "code",
   "execution_count": 30,
   "id": "2a523159",
   "metadata": {},
   "outputs": [],
   "source": [
    "# define plot roc curve function\n",
    "def roc_cluster(fpr, tpr, title):\n",
    "\n",
    "    roc_auc = auc(fpr, tpr)\n",
    "    print(\"AUC is\" , roc_auc)\n",
    "    plt.figure(figsize=(6, 6))\n",
    "    plt.plot(fpr, tpr, color='darkorange', label='ROC curve (AUC = %0.6f)' % roc_auc)\n",
    "    plt.plot([0, 1], [0, 1], color='navy', lw=2, linestyle='--')\n",
    "    plt.grid()\n",
    "    plt.xlim([-0.05, 1])\n",
    "    plt.ylim([0.0, 1.05])\n",
    "    plt.legend(loc=\"lower right\")\n",
    "    plt.xlabel(\"False Positive Rate\")\n",
    "    plt.ylabel(\"True Positive Rate\")\n",
    "    plt.title(title)\n",
    "    plt.show()"
   ]
  },
  {
   "cell_type": "code",
   "execution_count": 31,
   "id": "324ec162",
   "metadata": {},
   "outputs": [],
   "source": [
    "clustering = SpectralClustering(n_clusters=2, n_init=100, gamma=1,\n",
    "                                assign_labels='discretize', #The strategy for assigning labels in the embedding space\n",
    "                                affinity = 'rbf', \n",
    "                                random_state=m,\n",
    "                                n_jobs = -1)"
   ]
  },
  {
   "cell_type": "code",
   "execution_count": 32,
   "id": "4d0fd8ab",
   "metadata": {},
   "outputs": [
    {
     "name": "stderr",
     "output_type": "stream",
     "text": [
      "100%|██████████| 30/30 [00:01<00:00, 19.69it/s]\n"
     ]
    }
   ],
   "source": [
    "results = []\n",
    "tr_evals = []\n",
    "ts_evals = []\n",
    "tr_aucs = []\n",
    "ts_aucs = []\n",
    "for m in tqdm(range(30)):\n",
    "    \n",
    "    X_train, X_test, y_train, y_test = tr_ts_split(df_1, m, ts_ratio=0.2, norm=True)\n",
    "    # obtain cluster labels of train set\n",
    "    tr_cl = clustering.fit_predict(X_train)\n",
    "    y_tr_pred = get_majority(tr_cl, y_train, 0.5, num_data='all')\n",
    "    tr_fpr, tr_tpr = get_roc_curve(y_train, tr_cl)\n",
    "    tr_aucs.append(auc(tr_fpr, tr_tpr))\n",
    "    \n",
    "    # obtain cluster labels of test set\n",
    "    # build a KNN classifier based on training data\n",
    "    knn = KNeighborsClassifier(n_neighbors=1, n_jobs =-1)\n",
    "    knn.fit(X_train.values, tr_cl)\n",
    "    ts_cl = knn.predict(X_test.values)\n",
    "    y_ts_pred = get_majority(ts_cl, y_test, 0.5, num_data='all')\n",
    "    ts_fpr, ts_tpr = get_roc_curve(y_test, ts_cl)\n",
    "    ts_aucs.append(auc(ts_fpr, ts_tpr))\n",
    "    \n",
    "    # save results to list of dicts\n",
    "    result = {}\n",
    "    result['y_tr'] = y_train\n",
    "    result['y_tr_pred'] = y_tr_pred\n",
    "    result['tr_fpr'] = tr_fpr\n",
    "    result['tr_tpr'] = tr_tpr\n",
    "    result['y_ts'] = y_test\n",
    "    result['y_ts_pred'] = y_ts_pred\n",
    "    result['ts_fpr'] = ts_fpr\n",
    "    result['ts_tpr'] = ts_tpr\n",
    "    results.append(result)\n",
    "    #evaluate train and test set\n",
    "    tr_eval = evaluation(y_train, y_tr_pred, y_prob=[], average='binary')\n",
    "    ts_eval = evaluation(y_test, y_ts_pred, y_prob=[], average='binary')\n",
    "    tr_evals.append(tr_eval)\n",
    "    ts_evals.append(ts_eval)\n",
    "    \n",
    "    \n",
    "    \n",
    "# prediction result\n",
    "clf_1biv_df =  pd.DataFrame.from_dict(results, orient='columns')\n",
    "# evaluation result\n",
    "tr_eval_1biv = pd.DataFrame.from_dict(tr_evals, orient='columns')\n",
    "tr_eval_1biv['AUC'] = tr_aucs\n",
    "ts_eval_1biv = pd.DataFrame.from_dict(ts_evals, orient='columns')\n",
    "ts_eval_1biv['AUC'] = ts_aucs"
   ]
  },
  {
   "cell_type": "markdown",
   "id": "a7f0c408",
   "metadata": {},
   "source": [
    "* Report the average accuracy, precision, recall, F1-score, and AUC, for both training and test sets over your M runs"
   ]
  },
  {
   "cell_type": "code",
   "execution_count": 33,
   "id": "56f2a66e",
   "metadata": {},
   "outputs": [
    {
     "name": "stdout",
     "output_type": "stream",
     "text": [
      "================================================================================\n",
      "The average metrics for training set over 30 Monte-Carlo simulations are:\n",
      "================================================================================\n",
      "           Unsupervised Learning-Spectral Clustering Train\n",
      "accuracy                                          0.915859\n",
      "precision                                         0.979259\n",
      "recall                                            0.790927\n",
      "fscore                                            0.874571\n",
      "AUC                                               0.890434\n",
      "================================================================================\n",
      "The average metrics for test set over 30 Monte-Carlo simulations are:\n",
      "================================================================================\n",
      "           Unsupervised Learning-Spectral Clustering Test\n",
      "accuracy                                         0.917391\n",
      "precision                                        0.988442\n",
      "recall                                           0.788372\n",
      "fscore                                           0.876162\n",
      "AUC                                              0.891408\n",
      "================================================================================\n"
     ]
    }
   ],
   "source": [
    "print('='*80)\n",
    "print('The average metrics for training set over 30 Monte-Carlo simulations are:')\n",
    "print('='*80)\n",
    "df_1biv_tr = pd.DataFrame(tr_eval_1biv.mean()).T\n",
    "df_1biv_tr.index=['Unsupervised Learning-Spectral Clustering Train']\n",
    "print(df_1biv_tr.T)\n",
    "print('='*80)\n",
    "print('The average metrics for test set over 30 Monte-Carlo simulations are:')\n",
    "print('='*80)\n",
    "df_1biv_ts = pd.DataFrame(ts_eval_1biv.mean()).T\n",
    "df_1biv_ts.index=['Unsupervised Learning-Spectral Clustering Test']\n",
    "print(df_1biv_ts.T)\n",
    "print('='*80)"
   ]
  },
  {
   "cell_type": "markdown",
   "id": "b04e387d",
   "metadata": {},
   "source": [
    "* Plot the ROC and report the confusion matrix for training and testing in one of the runs\n",
    "#### - Train Set"
   ]
  },
  {
   "cell_type": "code",
   "execution_count": 34,
   "id": "b4ce0adb",
   "metadata": {},
   "outputs": [
    {
     "name": "stdout",
     "output_type": "stream",
     "text": [
      "[[284   1]\n",
      " [ 35 134]]\n"
     ]
    },
    {
     "data": {
      "image/png": "[encoded data removed]",
      "text/plain": [
       "<Figure size 432x432 with 2 Axes>"
      ]
     },
     "metadata": {
      "needs_background": "light"
     },
     "output_type": "display_data"
    },
    {
     "name": "stdout",
     "output_type": "stream",
     "text": [
      "AUC is 0.8946953181770996\n"
     ]
    },
    {
     "data": {
      "image/png": "[encoded data removed]",
      "text/plain": [
       "<Figure size 432x432 with 1 Axes>"
      ]
     },
     "metadata": {
      "needs_background": "light"
     },
     "output_type": "display_data"
    }
   ],
   "source": [
    "m = 15\n",
    "cm(clf_1biv_df.loc[run]['y_tr'], clf_1biv_df.loc[run]['y_tr_pred'], 'Run {} Train'.format(run))\n",
    "sample_tr_fpr = clf_1biv_df.loc[run]['tr_fpr']\n",
    "sample_tr_tpr = clf_1biv_df.loc[run]['tr_tpr']\n",
    "roc_cluster(sample_tr_fpr, sample_tr_tpr, 'Run {} Train Set'.format(run))"
   ]
  },
  {
   "cell_type": "markdown",
   "id": "465c4055",
   "metadata": {},
   "source": [
    "#### - Test Set"
   ]
  },
  {
   "cell_type": "code",
   "execution_count": 35,
   "id": "09f96636",
   "metadata": {},
   "outputs": [
    {
     "name": "stdout",
     "output_type": "stream",
     "text": [
      "[[71  1]\n",
      " [10 33]]\n"
     ]
    },
    {
     "data": {
      "image/png": "[encoded data removed]",
      "text/plain": [
       "<Figure size 432x432 with 2 Axes>"
      ]
     },
     "metadata": {
      "needs_background": "light"
     },
     "output_type": "display_data"
    },
    {
     "name": "stdout",
     "output_type": "stream",
     "text": [
      "AUC is 0.8767764857881137\n"
     ]
    },
    {
     "data": {
      "image/png": "[encoded data removed]",
      "text/plain": [
       "<Figure size 432x432 with 1 Axes>"
      ]
     },
     "metadata": {
      "needs_background": "light"
     },
     "output_type": "display_data"
    }
   ],
   "source": [
    "cm(clf_1biv_df.loc[run]['y_ts'], clf_1biv_df.loc[run]['y_ts_pred'], 'Run {} Test'.format(run))\n",
    "sample_ts_fpr = clf_1biv_df.loc[run]['ts_fpr']\n",
    "sample_ts_tpr = clf_1biv_df.loc[run]['ts_tpr']\n",
    "roc_cluster(sample_ts_fpr, sample_ts_tpr, 'Run {} Test Set'.format(run))"
   ]
  },
  {
   "cell_type": "markdown",
   "id": "646d578c",
   "metadata": {},
   "source": [
    "### 1(b) v.  Compare the results you obtained by those methods.\n",
    "* Train Set "
   ]
  },
  {
   "cell_type": "code",
   "execution_count": 36,
   "id": "3e66a849",
   "metadata": {},
   "outputs": [
    {
     "data": {
      "text/html": [
       "<div>\n",
       "<style scoped>\n",
       "    .dataframe tbody tr th:only-of-type {\n",
       "        vertical-align: middle;\n",
       "    }\n",
       "\n",
       "    .dataframe tbody tr th {\n",
       "        vertical-align: top;\n",
       "    }\n",
       "\n",
       "    .dataframe thead th {\n",
       "        text-align: right;\n",
       "    }\n",
       "</style>\n",
       "<table border=\"1\" class=\"dataframe\">\n",
       "  <thead>\n",
       "    <tr style=\"text-align: right;\">\n",
       "      <th></th>\n",
       "      <th>accuracy</th>\n",
       "      <th>precision</th>\n",
       "      <th>recall</th>\n",
       "      <th>fscore</th>\n",
       "      <th>AUC</th>\n",
       "    </tr>\n",
       "  </thead>\n",
       "  <tbody>\n",
       "    <tr>\n",
       "      <th>Supervised Learning Train</th>\n",
       "      <td>0.985242</td>\n",
       "      <td>0.989347</td>\n",
       "      <td>0.970809</td>\n",
       "      <td>0.979967</td>\n",
       "      <td>0.997444</td>\n",
       "    </tr>\n",
       "    <tr>\n",
       "      <th>Semi-Supervised Learning Train</th>\n",
       "      <td>0.976579</td>\n",
       "      <td>0.984874</td>\n",
       "      <td>0.951874</td>\n",
       "      <td>0.967938</td>\n",
       "      <td>0.994069</td>\n",
       "    </tr>\n",
       "    <tr>\n",
       "      <th>Unsupervised Learning-Kmean Cluster Train</th>\n",
       "      <td>0.925771</td>\n",
       "      <td>0.948442</td>\n",
       "      <td>0.846943</td>\n",
       "      <td>0.894641</td>\n",
       "      <td>0.979405</td>\n",
       "    </tr>\n",
       "    <tr>\n",
       "      <th>Unsupervised Learning-Spectral Clustering Train</th>\n",
       "      <td>0.915859</td>\n",
       "      <td>0.979259</td>\n",
       "      <td>0.790927</td>\n",
       "      <td>0.874571</td>\n",
       "      <td>0.890434</td>\n",
       "    </tr>\n",
       "  </tbody>\n",
       "</table>\n",
       "</div>"
      ],
      "text/plain": [
       "                                                 accuracy  precision  \\\n",
       "Supervised Learning Train                        0.985242   0.989347   \n",
       "Semi-Supervised Learning Train                   0.976579   0.984874   \n",
       "Unsupervised Learning-Kmean Cluster Train        0.925771   0.948442   \n",
       "Unsupervised Learning-Spectral Clustering Train  0.915859   0.979259   \n",
       "\n",
       "                                                   recall    fscore       AUC  \n",
       "Supervised Learning Train                        0.970809  0.979967  0.997444  \n",
       "Semi-Supervised Learning Train                   0.951874  0.967938  0.994069  \n",
       "Unsupervised Learning-Kmean Cluster Train        0.846943  0.894641  0.979405  \n",
       "Unsupervised Learning-Spectral Clustering Train  0.790927  0.874571  0.890434  "
      ]
     },
     "execution_count": 36,
     "metadata": {},
     "output_type": "execute_result"
    }
   ],
   "source": [
    "df_1bv_tr = pd.concat([df_1bi_tr, df_1bii_tr, df_1biii_tr, df_1biv_tr])\n",
    "df_1bv_tr"
   ]
  },
  {
   "cell_type": "markdown",
   "id": "a0bd50ac",
   "metadata": {},
   "source": [
    "* Test Set "
   ]
  },
  {
   "cell_type": "code",
   "execution_count": 37,
   "id": "6233359c",
   "metadata": {},
   "outputs": [
    {
     "data": {
      "text/html": [
       "<div>\n",
       "<style scoped>\n",
       "    .dataframe tbody tr th:only-of-type {\n",
       "        vertical-align: middle;\n",
       "    }\n",
       "\n",
       "    .dataframe tbody tr th {\n",
       "        vertical-align: top;\n",
       "    }\n",
       "\n",
       "    .dataframe thead th {\n",
       "        text-align: right;\n",
       "    }\n",
       "</style>\n",
       "<table border=\"1\" class=\"dataframe\">\n",
       "  <thead>\n",
       "    <tr style=\"text-align: right;\">\n",
       "      <th></th>\n",
       "      <th>accuracy</th>\n",
       "      <th>precision</th>\n",
       "      <th>recall</th>\n",
       "      <th>fscore</th>\n",
       "      <th>AUC</th>\n",
       "    </tr>\n",
       "  </thead>\n",
       "  <tbody>\n",
       "    <tr>\n",
       "      <th>Supervised Learning Test</th>\n",
       "      <td>0.971884</td>\n",
       "      <td>0.980392</td>\n",
       "      <td>0.944186</td>\n",
       "      <td>0.961346</td>\n",
       "      <td>0.991570</td>\n",
       "    </tr>\n",
       "    <tr>\n",
       "      <th>Semi-Supervised Learning Test</th>\n",
       "      <td>0.964348</td>\n",
       "      <td>0.974511</td>\n",
       "      <td>0.929457</td>\n",
       "      <td>0.950840</td>\n",
       "      <td>0.987715</td>\n",
       "    </tr>\n",
       "    <tr>\n",
       "      <th>Unsupervised Learning Learning-Kmean Cluster Test</th>\n",
       "      <td>0.924928</td>\n",
       "      <td>0.946520</td>\n",
       "      <td>0.847287</td>\n",
       "      <td>0.893527</td>\n",
       "      <td>0.982052</td>\n",
       "    </tr>\n",
       "    <tr>\n",
       "      <th>Unsupervised Learning-Spectral Clustering Test</th>\n",
       "      <td>0.917391</td>\n",
       "      <td>0.988442</td>\n",
       "      <td>0.788372</td>\n",
       "      <td>0.876162</td>\n",
       "      <td>0.891408</td>\n",
       "    </tr>\n",
       "  </tbody>\n",
       "</table>\n",
       "</div>"
      ],
      "text/plain": [
       "                                                   accuracy  precision  \\\n",
       "Supervised Learning Test                           0.971884   0.980392   \n",
       "Semi-Supervised Learning Test                      0.964348   0.974511   \n",
       "Unsupervised Learning Learning-Kmean Cluster Test  0.924928   0.946520   \n",
       "Unsupervised Learning-Spectral Clustering Test     0.917391   0.988442   \n",
       "\n",
       "                                                     recall    fscore  \\\n",
       "Supervised Learning Test                           0.944186  0.961346   \n",
       "Semi-Supervised Learning Test                      0.929457  0.950840   \n",
       "Unsupervised Learning Learning-Kmean Cluster Test  0.847287  0.893527   \n",
       "Unsupervised Learning-Spectral Clustering Test     0.788372  0.876162   \n",
       "\n",
       "                                                        AUC  \n",
       "Supervised Learning Test                           0.991570  \n",
       "Semi-Supervised Learning Test                      0.987715  \n",
       "Unsupervised Learning Learning-Kmean Cluster Test  0.982052  \n",
       "Unsupervised Learning-Spectral Clustering Test     0.891408  "
      ]
     },
     "execution_count": 37,
     "metadata": {},
     "output_type": "execute_result"
    }
   ],
   "source": [
    "df_1bv_ts = pd.concat([df_1bi_ts, df_1bii_ts, df_1biii_ts, df_1biv_ts])\n",
    "df_1bv_ts"
   ]
  },
  {
   "cell_type": "markdown",
   "id": "4d9b3e48",
   "metadata": {},
   "source": [
    "<strong>Summary</strong><br>\n",
    "* In general, based on both train and test evaluation reports, Supervised and Semi-Supervised Learning performed better than the Unsupervised Learning and Spectral Clustering.\n",
    "* The evaluation result of all metrics of Supervised Learning on both training and test sets are better than Semi-Supervised Learning. Since Supervised Learning is training by the entrie dataset.\n",
    "* The performance of Spectral Clustering is worse than Kmean Clustering  on test set.However the precision is higher than kmeans.\n",
    "* The results confirms \"One can expect that supervised learning on the full data set works better than semi-supervised learning with half of the data set labeled.One can expect that unsupervised learning underperforms in such situations."
   ]
  },
  {
   "cell_type": "markdown",
   "id": "f8a2241b",
   "metadata": {},
   "source": [
    "# 2. Active Learning Using Support Vector Machines\n",
    "## 2(a) Download the banknote authentication Data Set\n",
    "from: https://archive.ics.uci.edu/ml/datasets/banknote+authentication. Choose 472 data points randomly as the test set, and the remaining 900 points as the training set. This is a binary classification problem."
   ]
  },
  {
   "cell_type": "code",
   "execution_count": 38,
   "id": "22e50026",
   "metadata": {},
   "outputs": [],
   "source": [
    "data_file2 = \"../data/data_banknote_authentication.txt\""
   ]
  },
  {
   "cell_type": "code",
   "execution_count": 39,
   "id": "ab45650b",
   "metadata": {},
   "outputs": [],
   "source": [
    "# # download original dataset\n",
    "# data_url2 = \"https://archive.ics.uci.edu/ml/machine-learning-databases/00267/data_banknote_authentication.txt\"\n",
    "# urllib.request.urlretrieve(data_url2, data_file2)"
   ]
  },
  {
   "cell_type": "code",
   "execution_count": 40,
   "id": "ad936f64",
   "metadata": {},
   "outputs": [
    {
     "name": "stdout",
     "output_type": "stream",
     "text": [
      "<class 'pandas.core.frame.DataFrame'>\n",
      "RangeIndex: 1372 entries, 0 to 1371\n",
      "Data columns (total 5 columns):\n",
      " #   Column    Non-Null Count  Dtype  \n",
      "---  ------    --------------  -----  \n",
      " 0   variance  1372 non-null   float64\n",
      " 1   skewness  1372 non-null   float64\n",
      " 2   curtosis  1372 non-null   float64\n",
      " 3   entropy   1372 non-null   float64\n",
      " 4   Class     1372 non-null   int64  \n",
      "dtypes: float64(4), int64(1)\n",
      "memory usage: 53.7 KB\n"
     ]
    },
    {
     "data": {
      "text/html": [
       "<div>\n",
       "<style scoped>\n",
       "    .dataframe tbody tr th:only-of-type {\n",
       "        vertical-align: middle;\n",
       "    }\n",
       "\n",
       "    .dataframe tbody tr th {\n",
       "        vertical-align: top;\n",
       "    }\n",
       "\n",
       "    .dataframe thead th {\n",
       "        text-align: right;\n",
       "    }\n",
       "</style>\n",
       "<table border=\"1\" class=\"dataframe\">\n",
       "  <thead>\n",
       "    <tr style=\"text-align: right;\">\n",
       "      <th></th>\n",
       "      <th>variance</th>\n",
       "      <th>skewness</th>\n",
       "      <th>curtosis</th>\n",
       "      <th>entropy</th>\n",
       "      <th>Class</th>\n",
       "    </tr>\n",
       "  </thead>\n",
       "  <tbody>\n",
       "    <tr>\n",
       "      <th>0</th>\n",
       "      <td>3.62160</td>\n",
       "      <td>8.6661</td>\n",
       "      <td>-2.8073</td>\n",
       "      <td>-0.44699</td>\n",
       "      <td>0</td>\n",
       "    </tr>\n",
       "    <tr>\n",
       "      <th>1</th>\n",
       "      <td>4.54590</td>\n",
       "      <td>8.1674</td>\n",
       "      <td>-2.4586</td>\n",
       "      <td>-1.46210</td>\n",
       "      <td>0</td>\n",
       "    </tr>\n",
       "    <tr>\n",
       "      <th>2</th>\n",
       "      <td>3.86600</td>\n",
       "      <td>-2.6383</td>\n",
       "      <td>1.9242</td>\n",
       "      <td>0.10645</td>\n",
       "      <td>0</td>\n",
       "    </tr>\n",
       "    <tr>\n",
       "      <th>3</th>\n",
       "      <td>3.45660</td>\n",
       "      <td>9.5228</td>\n",
       "      <td>-4.0112</td>\n",
       "      <td>-3.59440</td>\n",
       "      <td>0</td>\n",
       "    </tr>\n",
       "    <tr>\n",
       "      <th>4</th>\n",
       "      <td>0.32924</td>\n",
       "      <td>-4.4552</td>\n",
       "      <td>4.5718</td>\n",
       "      <td>-0.98880</td>\n",
       "      <td>0</td>\n",
       "    </tr>\n",
       "  </tbody>\n",
       "</table>\n",
       "</div>"
      ],
      "text/plain": [
       "   variance  skewness  curtosis  entropy  Class\n",
       "0   3.62160    8.6661   -2.8073 -0.44699      0\n",
       "1   4.54590    8.1674   -2.4586 -1.46210      0\n",
       "2   3.86600   -2.6383    1.9242  0.10645      0\n",
       "3   3.45660    9.5228   -4.0112 -3.59440      0\n",
       "4   0.32924   -4.4552    4.5718 -0.98880      0"
      ]
     },
     "execution_count": 40,
     "metadata": {},
     "output_type": "execute_result"
    }
   ],
   "source": [
    "data_original = pd.read_csv(data_file2, header=None)\n",
    "df_2 = data_original.copy()\n",
    "new_columns = ['variance','skewness','curtosis','entropy', 'Class']\n",
    "df_2.columns=new_columns\n",
    "df_2.info()\n",
    "df_2.head()"
   ]
  },
  {
   "cell_type": "code",
   "execution_count": 41,
   "id": "a3a655b6",
   "metadata": {},
   "outputs": [
    {
     "name": "stdout",
     "output_type": "stream",
     "text": [
      "0    762\n",
      "1    610\n",
      "Name: Class, dtype: int64\n"
     ]
    }
   ],
   "source": [
    "print(df_2.Class.value_counts())"
   ]
  },
  {
   "cell_type": "code",
   "execution_count": 42,
   "id": "3dae225c",
   "metadata": {},
   "outputs": [],
   "source": [
    "def data_prepare(df, m, norm=False):\n",
    "    '''\n",
    "    df: dataset\n",
    "    m : random state\n",
    "    '''\n",
    "    \n",
    "    X = df.iloc[:,0:-1]\n",
    "    y = df.iloc[:,-1]\n",
    "    \n",
    "    X_tr, X_ts, y_tr, y_ts = train_test_split(X, y, test_size= 472, stratify=y, random_state= m)\n",
    "    \n",
    "    if norm == True:\n",
    "        scaler = MinMaxScaler()\n",
    "        X_tr_std = pd.DataFrame(scaler.fit_transform(X_tr), columns=X_tr.columns, index=y_tr.index)\n",
    "        X_ts_std = pd.DataFrame(scaler.transform(X_ts), columns=X_ts.columns, index=y_ts.index)\n",
    "        \n",
    "        return X_tr_std, X_ts_std, y_tr, y_ts\n",
    "    \n",
    "    return X_tr, X_ts, y_tr, y_ts"
   ]
  },
  {
   "cell_type": "markdown",
   "id": "ec3d2286",
   "metadata": {},
   "source": [
    "## 2(b) Repeat each of the following two procedures 50 times. \n",
    "You will have 50 errors for 90 SVMs per each procedure.\n",
    "### 2(b) i. Passive Learning"
   ]
  },
  {
   "cell_type": "code",
   "execution_count": 43,
   "id": "ddfff6b3",
   "metadata": {},
   "outputs": [],
   "source": [
    "# define SVM model tuning hyperparameters\n",
    "skf = StratifiedKFold(n_splits=5, shuffle=True, random_state=42)\n",
    "steps = [('scaler', MinMaxScaler()), ('LinearSVC', LinearSVC(penalty = 'l1', dual=False, max_iter=1e7))]\n",
    "pipeline = Pipeline(steps)\n",
    "parameters = {'LinearSVC__C':np.logspace(-3,6,10)}\n",
    "grid_pl = GridSearchCV(pipeline, param_grid = parameters, scoring='accuracy', cv=skf, n_jobs=-1)"
   ]
  },
  {
   "cell_type": "code",
   "execution_count": 44,
   "id": "db2c2caf",
   "metadata": {},
   "outputs": [
    {
     "name": "stderr",
     "output_type": "stream",
     "text": [
      "100%|██████████| 50/50 [28:49<00:00, 34.59s/it]\n"
     ]
    }
   ],
   "source": [
    "result = {}\n",
    "for m in tqdm(range(0,50)):\n",
    "    \n",
    "    X_train, X_test, y_train, y_test = data_prepare(df_2, 42)\n",
    "    X_pool = pd.DataFrame()\n",
    "    y_pool = pd.Series(dtype='float64')\n",
    "\n",
    "    X_train_remain = X_train.copy()\n",
    "    y_train_remain = y_train.copy()\n",
    "    errors =[]\n",
    "    for i in range(90):\n",
    "        \n",
    "        if X_train_remain.shape[0] == 10:\n",
    "            X_select = X_train_remain\n",
    "            y_select = y_train_remain\n",
    "        else:\n",
    "            X_train_remain, X_select, y_train_remain, y_select = train_test_split(X_train_remain, y_train_remain, \n",
    "                                                                stratify=y_train_remain, test_size=10, random_state=m)\n",
    "            \n",
    "        # add samples to the pool   \n",
    "        X_pool = X_pool.append(X_select)\n",
    "        y_pool = y_pool.append(y_select)\n",
    "        # Apply Gridsearch CV\n",
    "        grid_pl.fit(X_pool, y_pool)\n",
    "        y_test_pred = grid_pl.predict(X_test)\n",
    "        error = 1 - accuracy_score(y_test, y_test_pred)\n",
    "        # save result\n",
    "        errors.append(error)\n",
    "    result[m] = errors\n",
    "df_2bi =pd.DataFrame.from_dict(result).T"
   ]
  },
  {
   "cell_type": "markdown",
   "id": "9d6bb709",
   "metadata": {},
   "source": [
    "* Sample result:"
   ]
  },
  {
   "cell_type": "code",
   "execution_count": 45,
   "id": "95c2aa02",
   "metadata": {},
   "outputs": [
    {
     "data": {
      "text/html": [
       "<div>\n",
       "<style scoped>\n",
       "    .dataframe tbody tr th:only-of-type {\n",
       "        vertical-align: middle;\n",
       "    }\n",
       "\n",
       "    .dataframe tbody tr th {\n",
       "        vertical-align: top;\n",
       "    }\n",
       "\n",
       "    .dataframe thead th {\n",
       "        text-align: right;\n",
       "    }\n",
       "</style>\n",
       "<table border=\"1\" class=\"dataframe\">\n",
       "  <thead>\n",
       "    <tr style=\"text-align: right;\">\n",
       "      <th></th>\n",
       "      <th>10 samples</th>\n",
       "      <th>20 samples</th>\n",
       "      <th>30 samples</th>\n",
       "      <th>40 samples</th>\n",
       "      <th>50 samples</th>\n",
       "      <th>60 samples</th>\n",
       "      <th>70 samples</th>\n",
       "      <th>80 samples</th>\n",
       "      <th>90 samples</th>\n",
       "      <th>100 samples</th>\n",
       "      <th>...</th>\n",
       "      <th>810 samples</th>\n",
       "      <th>820 samples</th>\n",
       "      <th>830 samples</th>\n",
       "      <th>840 samples</th>\n",
       "      <th>850 samples</th>\n",
       "      <th>860 samples</th>\n",
       "      <th>870 samples</th>\n",
       "      <th>880 samples</th>\n",
       "      <th>890 samples</th>\n",
       "      <th>900 samples</th>\n",
       "    </tr>\n",
       "  </thead>\n",
       "  <tbody>\n",
       "    <tr>\n",
       "      <th>0</th>\n",
       "      <td>0.076271</td>\n",
       "      <td>0.038136</td>\n",
       "      <td>0.040254</td>\n",
       "      <td>0.019068</td>\n",
       "      <td>0.019068</td>\n",
       "      <td>0.019068</td>\n",
       "      <td>0.008475</td>\n",
       "      <td>0.008475</td>\n",
       "      <td>0.012712</td>\n",
       "      <td>0.012712</td>\n",
       "      <td>...</td>\n",
       "      <td>0.008475</td>\n",
       "      <td>0.008475</td>\n",
       "      <td>0.008475</td>\n",
       "      <td>0.008475</td>\n",
       "      <td>0.008475</td>\n",
       "      <td>0.008475</td>\n",
       "      <td>0.008475</td>\n",
       "      <td>0.012712</td>\n",
       "      <td>0.008475</td>\n",
       "      <td>0.008475</td>\n",
       "    </tr>\n",
       "    <tr>\n",
       "      <th>1</th>\n",
       "      <td>0.197034</td>\n",
       "      <td>0.156780</td>\n",
       "      <td>0.120763</td>\n",
       "      <td>0.031780</td>\n",
       "      <td>0.027542</td>\n",
       "      <td>0.025424</td>\n",
       "      <td>0.012712</td>\n",
       "      <td>0.008475</td>\n",
       "      <td>0.014831</td>\n",
       "      <td>0.008475</td>\n",
       "      <td>...</td>\n",
       "      <td>0.008475</td>\n",
       "      <td>0.008475</td>\n",
       "      <td>0.008475</td>\n",
       "      <td>0.008475</td>\n",
       "      <td>0.008475</td>\n",
       "      <td>0.008475</td>\n",
       "      <td>0.008475</td>\n",
       "      <td>0.008475</td>\n",
       "      <td>0.008475</td>\n",
       "      <td>0.008475</td>\n",
       "    </tr>\n",
       "    <tr>\n",
       "      <th>2</th>\n",
       "      <td>0.326271</td>\n",
       "      <td>0.103814</td>\n",
       "      <td>0.029661</td>\n",
       "      <td>0.019068</td>\n",
       "      <td>0.025424</td>\n",
       "      <td>0.029661</td>\n",
       "      <td>0.033898</td>\n",
       "      <td>0.014831</td>\n",
       "      <td>0.023305</td>\n",
       "      <td>0.023305</td>\n",
       "      <td>...</td>\n",
       "      <td>0.008475</td>\n",
       "      <td>0.008475</td>\n",
       "      <td>0.012712</td>\n",
       "      <td>0.008475</td>\n",
       "      <td>0.008475</td>\n",
       "      <td>0.008475</td>\n",
       "      <td>0.008475</td>\n",
       "      <td>0.008475</td>\n",
       "      <td>0.008475</td>\n",
       "      <td>0.008475</td>\n",
       "    </tr>\n",
       "    <tr>\n",
       "      <th>3</th>\n",
       "      <td>0.171610</td>\n",
       "      <td>0.139831</td>\n",
       "      <td>0.012712</td>\n",
       "      <td>0.118644</td>\n",
       "      <td>0.031780</td>\n",
       "      <td>0.025424</td>\n",
       "      <td>0.027542</td>\n",
       "      <td>0.044492</td>\n",
       "      <td>0.055085</td>\n",
       "      <td>0.052966</td>\n",
       "      <td>...</td>\n",
       "      <td>0.008475</td>\n",
       "      <td>0.008475</td>\n",
       "      <td>0.008475</td>\n",
       "      <td>0.008475</td>\n",
       "      <td>0.008475</td>\n",
       "      <td>0.008475</td>\n",
       "      <td>0.012712</td>\n",
       "      <td>0.008475</td>\n",
       "      <td>0.008475</td>\n",
       "      <td>0.008475</td>\n",
       "    </tr>\n",
       "    <tr>\n",
       "      <th>4</th>\n",
       "      <td>0.059322</td>\n",
       "      <td>0.044492</td>\n",
       "      <td>0.029661</td>\n",
       "      <td>0.072034</td>\n",
       "      <td>0.012712</td>\n",
       "      <td>0.019068</td>\n",
       "      <td>0.023305</td>\n",
       "      <td>0.023305</td>\n",
       "      <td>0.012712</td>\n",
       "      <td>0.008475</td>\n",
       "      <td>...</td>\n",
       "      <td>0.008475</td>\n",
       "      <td>0.008475</td>\n",
       "      <td>0.008475</td>\n",
       "      <td>0.008475</td>\n",
       "      <td>0.008475</td>\n",
       "      <td>0.008475</td>\n",
       "      <td>0.012712</td>\n",
       "      <td>0.012712</td>\n",
       "      <td>0.008475</td>\n",
       "      <td>0.008475</td>\n",
       "    </tr>\n",
       "  </tbody>\n",
       "</table>\n",
       "<p>5 rows × 90 columns</p>\n",
       "</div>"
      ],
      "text/plain": [
       "   10 samples  20 samples  30 samples  40 samples  50 samples  60 samples  \\\n",
       "0    0.076271    0.038136    0.040254    0.019068    0.019068    0.019068   \n",
       "1    0.197034    0.156780    0.120763    0.031780    0.027542    0.025424   \n",
       "2    0.326271    0.103814    0.029661    0.019068    0.025424    0.029661   \n",
       "3    0.171610    0.139831    0.012712    0.118644    0.031780    0.025424   \n",
       "4    0.059322    0.044492    0.029661    0.072034    0.012712    0.019068   \n",
       "\n",
       "   70 samples  80 samples  90 samples  100 samples  ...  810 samples  \\\n",
       "0    0.008475    0.008475    0.012712     0.012712  ...     0.008475   \n",
       "1    0.012712    0.008475    0.014831     0.008475  ...     0.008475   \n",
       "2    0.033898    0.014831    0.023305     0.023305  ...     0.008475   \n",
       "3    0.027542    0.044492    0.055085     0.052966  ...     0.008475   \n",
       "4    0.023305    0.023305    0.012712     0.008475  ...     0.008475   \n",
       "\n",
       "   820 samples  830 samples  840 samples  850 samples  860 samples  \\\n",
       "0     0.008475     0.008475     0.008475     0.008475     0.008475   \n",
       "1     0.008475     0.008475     0.008475     0.008475     0.008475   \n",
       "2     0.008475     0.012712     0.008475     0.008475     0.008475   \n",
       "3     0.008475     0.008475     0.008475     0.008475     0.008475   \n",
       "4     0.008475     0.008475     0.008475     0.008475     0.008475   \n",
       "\n",
       "   870 samples  880 samples  890 samples  900 samples  \n",
       "0     0.008475     0.012712     0.008475     0.008475  \n",
       "1     0.008475     0.008475     0.008475     0.008475  \n",
       "2     0.008475     0.008475     0.008475     0.008475  \n",
       "3     0.012712     0.008475     0.008475     0.008475  \n",
       "4     0.012712     0.012712     0.008475     0.008475  \n",
       "\n",
       "[5 rows x 90 columns]"
      ]
     },
     "execution_count": 45,
     "metadata": {},
     "output_type": "execute_result"
    }
   ],
   "source": [
    "df_2bi.columns = ['{} samples'.format(i) for i in range(10,910,10)]\n",
    "df_2bi.head()"
   ]
  },
  {
   "cell_type": "markdown",
   "id": "8c974f0d",
   "metadata": {},
   "source": [
    "### 2(b) ii. Active Learning\n",
    "Train a SVM with a pool of 10 randomly selected data points from the training set5 using linear kernel and L1 penalty. Select the parameters of the SVM with 5-fold cross validation. Choose the 10 closest data points in the training set to the hyperplane of the SVM6 and add them to the pool. Do not replace the samples back into the training set. Train a new SVM using the pool. Repeat this process until all training data is used. You will have 90 SVMs\n",
    "that were trained using 10, 20, 30,..., 900 data points and their 90 test errors."
   ]
  },
  {
   "cell_type": "code",
   "execution_count": 46,
   "id": "b165dacb",
   "metadata": {},
   "outputs": [],
   "source": [
    "# define SVM model tuning hyperparameters\n",
    "skf = StratifiedKFold(n_splits=5, shuffle=True, random_state=42)\n",
    "steps = [('scaler', MinMaxScaler()), ('LinearSVC', LinearSVC(penalty = 'l1', dual=False, max_iter=1e8))]\n",
    "pipeline = Pipeline(steps)\n",
    "parameters = {'LinearSVC__C':np.logspace(-6,6,13)}\n",
    "grid_al = GridSearchCV(pipeline, param_grid = parameters, scoring='accuracy', cv=skf, n_jobs=-1)"
   ]
  },
  {
   "cell_type": "code",
   "execution_count": 47,
   "id": "72f340d9",
   "metadata": {},
   "outputs": [
    {
     "name": "stderr",
     "output_type": "stream",
     "text": [
      "100%|██████████| 50/50 [38:02<00:00, 45.65s/it]\n"
     ]
    }
   ],
   "source": [
    "result = {}\n",
    "for m in tqdm(range(0,50)):\n",
    "    \n",
    "    X_train, X_test, y_train, y_test = data_prepare(df_2, 42)\n",
    "    \n",
    "    X_pool = pd.DataFrame()\n",
    "    y_pool = pd.Series(dtype='float64')\n",
    "    X_train_remain = X_train.copy()\n",
    "    y_train_remain = y_train.copy()\n",
    "\n",
    "    # select 1st 10 data points\n",
    "    _, X_init, _, y_init = train_test_split(X_train, y_train, stratify=y_train, test_size=10, random_state=m)  \n",
    "    errors = []\n",
    "    for i in range(90):\n",
    "        \n",
    "        if i ==0:\n",
    "            select_train_index = X_init.index\n",
    "        else: \n",
    "            # select 10 closest data points from train set\n",
    "            y_score = grid_al.decision_function(X_train_remain)\n",
    "            w_norm = np.linalg.norm(grid_al.best_estimator_['LinearSVC'].coef_)\n",
    "            dist = y_score / w_norm\n",
    "            close_arr_index = np.argsort(np.abs(dist))[:10]\n",
    "            select_train_index = y_train_remain.index[close_arr_index]\n",
    "            \n",
    "        # add samples to the pool   \n",
    "        X_pool = X_pool.append(X_train_remain.loc[select_train_index])\n",
    "        y_pool = y_pool.append(y_train_remain.loc[select_train_index])\n",
    "        # train on pool\n",
    "        grid_al.fit(X_pool, y_pool)\n",
    "        y_test_pred = grid_al.predict(X_test)\n",
    "        error = 1 - accuracy_score(y_test, y_test_pred)\n",
    "        errors.append(error)\n",
    "        # remove sample from the train set\n",
    "        X_train_remain = X_train.drop(index=X_pool.index)\n",
    "        y_train_remain = y_train.drop(index=y_pool.index)  \n",
    "        \n",
    "        # save each Monte-Carlo run into df    \n",
    "    result[m] = errors\n",
    "df_2bii = pd.DataFrame.from_dict(result).T"
   ]
  },
  {
   "cell_type": "markdown",
   "id": "83f193d0",
   "metadata": {},
   "source": [
    "* Sample result:"
   ]
  },
  {
   "cell_type": "code",
   "execution_count": 48,
   "id": "c1bd997e",
   "metadata": {},
   "outputs": [
    {
     "data": {
      "text/html": [
       "<div>\n",
       "<style scoped>\n",
       "    .dataframe tbody tr th:only-of-type {\n",
       "        vertical-align: middle;\n",
       "    }\n",
       "\n",
       "    .dataframe tbody tr th {\n",
       "        vertical-align: top;\n",
       "    }\n",
       "\n",
       "    .dataframe thead th {\n",
       "        text-align: right;\n",
       "    }\n",
       "</style>\n",
       "<table border=\"1\" class=\"dataframe\">\n",
       "  <thead>\n",
       "    <tr style=\"text-align: right;\">\n",
       "      <th></th>\n",
       "      <th>10 samples</th>\n",
       "      <th>20 samples</th>\n",
       "      <th>30 samples</th>\n",
       "      <th>40 samples</th>\n",
       "      <th>50 samples</th>\n",
       "      <th>60 samples</th>\n",
       "      <th>70 samples</th>\n",
       "      <th>80 samples</th>\n",
       "      <th>90 samples</th>\n",
       "      <th>100 samples</th>\n",
       "      <th>...</th>\n",
       "      <th>810 samples</th>\n",
       "      <th>820 samples</th>\n",
       "      <th>830 samples</th>\n",
       "      <th>840 samples</th>\n",
       "      <th>850 samples</th>\n",
       "      <th>860 samples</th>\n",
       "      <th>870 samples</th>\n",
       "      <th>880 samples</th>\n",
       "      <th>890 samples</th>\n",
       "      <th>900 samples</th>\n",
       "    </tr>\n",
       "  </thead>\n",
       "  <tbody>\n",
       "    <tr>\n",
       "      <th>0</th>\n",
       "      <td>0.076271</td>\n",
       "      <td>0.118644</td>\n",
       "      <td>0.021186</td>\n",
       "      <td>0.025424</td>\n",
       "      <td>0.023305</td>\n",
       "      <td>0.021186</td>\n",
       "      <td>0.010593</td>\n",
       "      <td>0.006356</td>\n",
       "      <td>0.006356</td>\n",
       "      <td>0.008475</td>\n",
       "      <td>...</td>\n",
       "      <td>0.008475</td>\n",
       "      <td>0.008475</td>\n",
       "      <td>0.008475</td>\n",
       "      <td>0.008475</td>\n",
       "      <td>0.008475</td>\n",
       "      <td>0.012712</td>\n",
       "      <td>0.008475</td>\n",
       "      <td>0.008475</td>\n",
       "      <td>0.008475</td>\n",
       "      <td>0.012712</td>\n",
       "    </tr>\n",
       "    <tr>\n",
       "      <th>1</th>\n",
       "      <td>0.207627</td>\n",
       "      <td>0.042373</td>\n",
       "      <td>0.023305</td>\n",
       "      <td>0.010593</td>\n",
       "      <td>0.012712</td>\n",
       "      <td>0.012712</td>\n",
       "      <td>0.008475</td>\n",
       "      <td>0.008475</td>\n",
       "      <td>0.008475</td>\n",
       "      <td>0.008475</td>\n",
       "      <td>...</td>\n",
       "      <td>0.012712</td>\n",
       "      <td>0.008475</td>\n",
       "      <td>0.008475</td>\n",
       "      <td>0.008475</td>\n",
       "      <td>0.008475</td>\n",
       "      <td>0.008475</td>\n",
       "      <td>0.008475</td>\n",
       "      <td>0.008475</td>\n",
       "      <td>0.008475</td>\n",
       "      <td>0.008475</td>\n",
       "    </tr>\n",
       "    <tr>\n",
       "      <th>2</th>\n",
       "      <td>0.296610</td>\n",
       "      <td>0.118644</td>\n",
       "      <td>0.029661</td>\n",
       "      <td>0.014831</td>\n",
       "      <td>0.014831</td>\n",
       "      <td>0.008475</td>\n",
       "      <td>0.008475</td>\n",
       "      <td>0.008475</td>\n",
       "      <td>0.008475</td>\n",
       "      <td>0.008475</td>\n",
       "      <td>...</td>\n",
       "      <td>0.008475</td>\n",
       "      <td>0.008475</td>\n",
       "      <td>0.008475</td>\n",
       "      <td>0.008475</td>\n",
       "      <td>0.008475</td>\n",
       "      <td>0.008475</td>\n",
       "      <td>0.008475</td>\n",
       "      <td>0.008475</td>\n",
       "      <td>0.008475</td>\n",
       "      <td>0.008475</td>\n",
       "    </tr>\n",
       "    <tr>\n",
       "      <th>3</th>\n",
       "      <td>0.171610</td>\n",
       "      <td>0.040254</td>\n",
       "      <td>0.048729</td>\n",
       "      <td>0.021186</td>\n",
       "      <td>0.008475</td>\n",
       "      <td>0.006356</td>\n",
       "      <td>0.006356</td>\n",
       "      <td>0.008475</td>\n",
       "      <td>0.008475</td>\n",
       "      <td>0.008475</td>\n",
       "      <td>...</td>\n",
       "      <td>0.008475</td>\n",
       "      <td>0.008475</td>\n",
       "      <td>0.008475</td>\n",
       "      <td>0.008475</td>\n",
       "      <td>0.008475</td>\n",
       "      <td>0.008475</td>\n",
       "      <td>0.012712</td>\n",
       "      <td>0.008475</td>\n",
       "      <td>0.008475</td>\n",
       "      <td>0.008475</td>\n",
       "    </tr>\n",
       "    <tr>\n",
       "      <th>4</th>\n",
       "      <td>0.061441</td>\n",
       "      <td>0.021186</td>\n",
       "      <td>0.008475</td>\n",
       "      <td>0.014831</td>\n",
       "      <td>0.008475</td>\n",
       "      <td>0.008475</td>\n",
       "      <td>0.012712</td>\n",
       "      <td>0.008475</td>\n",
       "      <td>0.008475</td>\n",
       "      <td>0.008475</td>\n",
       "      <td>...</td>\n",
       "      <td>0.008475</td>\n",
       "      <td>0.008475</td>\n",
       "      <td>0.008475</td>\n",
       "      <td>0.008475</td>\n",
       "      <td>0.012712</td>\n",
       "      <td>0.008475</td>\n",
       "      <td>0.008475</td>\n",
       "      <td>0.008475</td>\n",
       "      <td>0.008475</td>\n",
       "      <td>0.008475</td>\n",
       "    </tr>\n",
       "  </tbody>\n",
       "</table>\n",
       "<p>5 rows × 90 columns</p>\n",
       "</div>"
      ],
      "text/plain": [
       "   10 samples  20 samples  30 samples  40 samples  50 samples  60 samples  \\\n",
       "0    0.076271    0.118644    0.021186    0.025424    0.023305    0.021186   \n",
       "1    0.207627    0.042373    0.023305    0.010593    0.012712    0.012712   \n",
       "2    0.296610    0.118644    0.029661    0.014831    0.014831    0.008475   \n",
       "3    0.171610    0.040254    0.048729    0.021186    0.008475    0.006356   \n",
       "4    0.061441    0.021186    0.008475    0.014831    0.008475    0.008475   \n",
       "\n",
       "   70 samples  80 samples  90 samples  100 samples  ...  810 samples  \\\n",
       "0    0.010593    0.006356    0.006356     0.008475  ...     0.008475   \n",
       "1    0.008475    0.008475    0.008475     0.008475  ...     0.012712   \n",
       "2    0.008475    0.008475    0.008475     0.008475  ...     0.008475   \n",
       "3    0.006356    0.008475    0.008475     0.008475  ...     0.008475   \n",
       "4    0.012712    0.008475    0.008475     0.008475  ...     0.008475   \n",
       "\n",
       "   820 samples  830 samples  840 samples  850 samples  860 samples  \\\n",
       "0     0.008475     0.008475     0.008475     0.008475     0.012712   \n",
       "1     0.008475     0.008475     0.008475     0.008475     0.008475   \n",
       "2     0.008475     0.008475     0.008475     0.008475     0.008475   \n",
       "3     0.008475     0.008475     0.008475     0.008475     0.008475   \n",
       "4     0.008475     0.008475     0.008475     0.012712     0.008475   \n",
       "\n",
       "   870 samples  880 samples  890 samples  900 samples  \n",
       "0     0.008475     0.008475     0.008475     0.012712  \n",
       "1     0.008475     0.008475     0.008475     0.008475  \n",
       "2     0.008475     0.008475     0.008475     0.008475  \n",
       "3     0.012712     0.008475     0.008475     0.008475  \n",
       "4     0.008475     0.008475     0.008475     0.008475  \n",
       "\n",
       "[5 rows x 90 columns]"
      ]
     },
     "execution_count": 48,
     "metadata": {},
     "output_type": "execute_result"
    }
   ],
   "source": [
    "df_2bii.columns = ['{} samples'.format(i) for i in range(10,910,10)]\n",
    "df_2bii.head()"
   ]
  },
  {
   "cell_type": "markdown",
   "id": "373a5b67",
   "metadata": {},
   "source": [
    "### 2(b) iii.  Learning Curve by Monte-Carlo Simulation\n",
    "Average the 50 test errors for each of the incrementally trained 90 SVMs in 2(b)i and 2(b)ii. By doing so, you are performing a Monte Carlo simulation. Plot average test error versus number of training instances for both active and passive learners on the same figure and report your conclusions. Here, you are actually obtaining a learning curve by Monte-Carlo simulation."
   ]
  },
  {
   "cell_type": "code",
   "execution_count": 49,
   "id": "68339a30",
   "metadata": {},
   "outputs": [
    {
     "data": {
      "image/png": "[encoded data removed]",
      "text/plain": [
       "<Figure size 1152x432 with 1 Axes>"
      ]
     },
     "metadata": {
      "needs_background": "light"
     },
     "output_type": "display_data"
    }
   ],
   "source": [
    "samples_num = list(range(10,910,10))\n",
    "plt.figure(figsize=(16, 6))\n",
    "plt.plot(samples_num, df_2bi.mean(),label='Passive Learning',linewidth=2)\n",
    "plt.plot(samples_num, df_2bii.mean(),label='Active Learning',linewidth=2)\n",
    "plt.legend(loc=\"upper right\")\n",
    "plt.xticks(list(range(0,1000,100)))\n",
    "plt.title('Learning Curve by Monte-Carlo Simulation')\n",
    "plt.ylabel('Average Test Error')\n",
    "plt.xlabel('Number of Training Instances')\n",
    "plt.grid()\n",
    "plt.show()"
   ]
  },
  {
   "cell_type": "markdown",
   "id": "42a67c42",
   "metadata": {},
   "source": [
    "<strong>Conclusion</strong><br>\n",
    "In general, both learning methods performed are good when training pool is large.\n",
    "Acitive learning performed better than Passive learning when data points less than around 800. They performed almost the same when the at the training pool sample size larger than 800 or smaller than 10. Then we can conclude for large datasets Active Learning and Passive Learning performances are the same for SVM model, if dataset is small Active Learning will be prefered."
   ]
  },
  {
   "cell_type": "code",
   "execution_count": null,
   "id": "19c53de5",
   "metadata": {},
   "outputs": [],
   "source": []
  }
 ],
 "metadata": {
  "kernelspec": {
   "display_name": "dsci552",
   "language": "python",
   "name": "dsci552"
  },
  "language_info": {
   "codemirror_mode": {
    "name": "ipython",
    "version": 3
   },
   "file_extension": ".py",
   "mimetype": "text/x-python",
   "name": "python",
   "nbconvert_exporter": "python",
   "pygments_lexer": "ipython3",
   "version": "3.8.12"
  }
 },
 "nbformat": 4,
 "nbformat_minor": 5
}
